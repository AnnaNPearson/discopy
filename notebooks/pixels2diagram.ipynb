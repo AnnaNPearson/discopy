{
 "cells": [
  {
   "cell_type": "code",
   "execution_count": 1,
   "metadata": {},
   "outputs": [
    {
     "data": {
      "image/png": "[encoded data removed]",
      "text/plain": [
       "<PIL.PngImagePlugin.PngImageFile image mode=RGBA size=432x288 at 0x12E043150>"
      ]
     },
     "execution_count": 1,
     "metadata": {},
     "output_type": "execute_result"
    }
   ],
   "source": [
    "from discopy import *\n",
    "from PIL import Image\n",
    "\n",
    "diagram = Box('f', Ty('x', 'x'), Ty('x', 'x', 'x'))\\\n",
    "    @ moncat.spiral(3)\n",
    "rewrites = list(diagram.normalize())\n",
    "diagram = rewrites[32]\n",
    "\n",
    "params = dict(\n",
    "    draw_types=False,\n",
    "    draw_as_nodes=True,\n",
    "    draw_box_labels=False,\n",
    "    margins=(0.05, 0),\n",
    "    path='../docs/imgs/test-pixels2diagram.png')\n",
    "\n",
    "diagram.draw(**params)\n",
    "img = Image.open(params['path'])\n",
    "img"
   ]
  },
  {
   "cell_type": "code",
   "execution_count": 2,
   "metadata": {},
   "outputs": [
    {
     "name": "stdout",
     "output_type": "stream",
     "text": [
      "height, width, [red, blue, green, opacity]: (288, 432, 4)\n"
     ]
    }
   ],
   "source": [
    "import numpy as np\n",
    "\n",
    "arr = np.array(img)\n",
    "print(\"height, width, [red, blue, green, opacity]: {}\".format(arr.shape))"
   ]
  },
  {
   "cell_type": "code",
   "execution_count": 3,
   "metadata": {},
   "outputs": [
    {
     "name": "stdout",
     "output_type": "stream",
     "text": [
      "Found 9 boxes:\n"
     ]
    },
    {
     "data": {
      "image/png": "[encoded data removed]",
      "text/plain": [
       "<Figure size 576x576 with 1 Axes>"
      ]
     },
     "metadata": {
      "needs_background": "light"
     },
     "output_type": "display_data"
    }
   ],
   "source": [
    "from skimage import measure\n",
    "from matplotlib import pyplot as plt\n",
    "\n",
    "\n",
    "threshold = 200\n",
    "red = np.logical_and(arr[:, :, 0] > threshold,\n",
    "                     arr[:, :, 1] < threshold,\n",
    "                     arr[:, :, 2] < threshold)\n",
    "box_pixels, n_boxes = measure.label(red, return_num=True)\n",
    "print(\"Found {} boxes:\".format(n_boxes))\n",
    "\n",
    "plt.figure(figsize=(8, 8))\n",
    "plt.axis('off')\n",
    "plt.imshow(-box_pixels, cmap='cubehelix')\n",
    "plt.show()"
   ]
  },
  {
   "cell_type": "code",
   "execution_count": 4,
   "metadata": {},
   "outputs": [
    {
     "name": "stdout",
     "output_type": "stream",
     "text": [
      "Found 12 wires:\n"
     ]
    },
    {
     "data": {
      "image/png": "[encoded data removed]",
      "text/plain": [
       "<Figure size 432x432 with 1 Axes>"
      ]
     },
     "metadata": {
      "needs_background": "light"
     },
     "output_type": "display_data"
    }
   ],
   "source": [
    "wire_pixels, n_wires = measure.label(arr[:, :, 0] < threshold, return_num=True)\n",
    "print(\"Found {} wires:\".format(n_wires))\n",
    "\n",
    "plt.figure(figsize=(6, 6))\n",
    "plt.axis('off')\n",
    "plt.imshow(-wire_pixels, cmap='cubehelix')\n",
    "plt.show()"
   ]
  },
  {
   "cell_type": "code",
   "execution_count": 11,
   "metadata": {},
   "outputs": [
    {
     "name": "stdout",
     "output_type": "stream",
     "text": [
      "Connectivity (wires to boxes [1, ..., 9] or boundary [0, 10]):\n"
     ]
    },
    {
     "data": {
      "text/plain": [
       "{0: (0, 1),\n",
       " 1: (0, 1),\n",
       " 2: (1, 10),\n",
       " 3: (1, 10),\n",
       " 4: (1, 10),\n",
       " 5: (2, 8),\n",
       " 6: (2, 9),\n",
       " 7: (3, 9),\n",
       " 8: (3, 5),\n",
       " 9: (4, 7),\n",
       " 10: (4, 8),\n",
       " 11: (6, 7)}"
      ]
     },
     "execution_count": 11,
     "metadata": {},
     "output_type": "execute_result"
    }
   ],
   "source": [
    "box_properties = measure.regionprops(box_pixels)\n",
    "wire_properties = measure.regionprops(wire_pixels)\n",
    "\n",
    "critical_heights = np.array(\n",
    "    [0] + [box['centroid'][0] for box in box_properties] + [arr.shape[0]])\n",
    "\n",
    "def find_start_and_endpoints(wire):\n",
    "    start = np.argmin(np.abs(critical_heights - wire['coords'][0][0]))\n",
    "    end = np.argmin(np.abs(critical_heights - wire['coords'][-1][0]))\n",
    "    return (start, end)\n",
    "\n",
    "print(\"Connectivity (wires to boxes [1, ..., 9] or boundary [0, 10]):\")\n",
    "wires_to_boxes = {i: find_start_and_endpoints(wire) for i, wire in enumerate(wire_properties)}\n",
    "wires_to_boxes"
   ]
  },
  {
   "cell_type": "code",
   "execution_count": 16,
   "metadata": {},
   "outputs": [
    {
     "name": "stdout",
     "output_type": "stream",
     "text": [
      "Connectivity (boxes/boundary to wires):\n"
     ]
    },
    {
     "data": {
      "text/plain": [
       "{0: ([], [0, 1]),\n",
       " 1: ([0, 1], [2, 3, 4]),\n",
       " 2: ([], [5, 6]),\n",
       " 3: ([], [7, 8]),\n",
       " 4: ([], [9, 10]),\n",
       " 5: ([8], []),\n",
       " 6: ([], [11]),\n",
       " 7: ([9, 11], []),\n",
       " 8: ([5, 10], []),\n",
       " 9: ([6, 7], []),\n",
       " 10: ([2, 3, 4], [])}"
      ]
     },
     "execution_count": 16,
     "metadata": {},
     "output_type": "execute_result"
    }
   ],
   "source": [
    "print(\"Connectivity (boxes/boundary to wires):\")\n",
    "boxes_to_wires = {i: ([wire for wire, (_, end) in wires_to_boxes.items() if end == i],\n",
    "                      [wire for wire, (start, _) in wires_to_boxes.items() if start == i])\n",
    "                  for i, _ in enumerate(critical_heights)}\n",
    "boxes_to_wires"
   ]
  }
 ],
 "metadata": {
  "kernelspec": {
   "display_name": "Python 3",
   "language": "python",
   "name": "python3"
  },
  "language_info": {
   "codemirror_mode": {
    "name": "ipython",
    "version": 3
   },
   "file_extension": ".py",
   "mimetype": "text/x-python",
   "name": "python",
   "nbconvert_exporter": "python",
   "pygments_lexer": "ipython3",
   "version": "3.7.5"
  }
 },
 "nbformat": 4,
 "nbformat_minor": 2
}
