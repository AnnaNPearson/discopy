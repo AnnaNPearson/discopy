{
 "cells": [
  {
   "cell_type": "markdown",
   "metadata": {},
   "source": [
    "# DisCoPy v0.3.3 - new features\n",
    "\n",
    "[1. Classical-quantum maps and mixed circuits](#1.-Classical-quantum-maps-and-mixed-circuits)\n",
    "\n",
    "- `discopy.quantum.cqmap` implements Bob and Aleks' classical-quantum maps.\n",
    "- Now `discopy.quantum.circuit` diagrams have two generating objects: `bit` and `qubit`.\n",
    "- New boxes `Discard`, `Measure` and `ClassicalGate` can be simulated with `cqmap` or sent to `pytket`.\n",
    "\n",
    "[2. ZX diagrams and PyZX interface](#2.-ZX-diagrams-and-PyZX-interface)\n",
    "\n",
    "- `discopy.quantum.zx` implements diagrams with spiders, swaps and Hadamard boxes.\n",
    "- `to_pyzx` and `from_pyzx` methods can be used to turn diagrams into graphs, simplify then back.\n",
    "\n",
    "[3) Parametrised diagrams, formal sums and automatic gradients](#3.-Parametrised-diagrams,-formal-sums-and-automatic-gradients)\n",
    "\n",
    "- We can use `sympy.Symbols` as variables in our diagrams (tensor, circuit or ZX).\n",
    "- We can take formal sums of diagrams. `TensorFunctor` sends formal sums to concrete sums.\n",
    "- Given a diagram (tensor, circuit or ZX) with a free variable, we can compute its gradient as a sum."
   ]
  },
  {
   "cell_type": "markdown",
   "metadata": {},
   "source": [
    "## 1. Classical-quantum maps and mixed circuits"
   ]
  },
  {
   "cell_type": "code",
   "execution_count": 1,
   "metadata": {},
   "outputs": [
    {
     "data": {
      "image/png": "[encoded data removed]",
      "text/plain": [
       "<Figure size 432x288 with 1 Axes>"
      ]
     },
     "metadata": {},
     "output_type": "display_data"
    },
    {
     "data": {
      "text/plain": [
       "<AxesSubplot:>"
      ]
     },
     "execution_count": 1,
     "metadata": {},
     "output_type": "execute_result"
    }
   ],
   "source": [
    "from discopy.quantum import *\n",
    "\n",
    "circuit = H @ X >> CX >> Measure() @ Id(qubit)\n",
    "circuit.draw()"
   ]
  },
  {
   "cell_type": "code",
   "execution_count": 2,
   "metadata": {},
   "outputs": [
    {
     "data": {
      "text/plain": [
       "CQMap(dom=Q(Dim(2, 2)), cod=C(Dim(2)) @ Q(Dim(2)), array=[0.0, 0.0, 0.0, 0.49999997, 0.49999997, 0.0, 0.0, 0.0, ..., 0.0, 0.0, 0.0, 0.0, 0.0, 0.0, 0.49999997])"
      ]
     },
     "execution_count": 2,
     "metadata": {},
     "output_type": "execute_result"
    }
   ],
   "source": [
    "circuit.eval()"
   ]
  },
  {
   "cell_type": "code",
   "execution_count": 3,
   "metadata": {},
   "outputs": [
    {
     "data": {
      "image/png": "[encoded data removed]",
      "text/plain": [
       "<Figure size 432x288 with 1 Axes>"
      ]
     },
     "metadata": {},
     "output_type": "display_data"
    },
    {
     "data": {
      "text/plain": [
       "<AxesSubplot:>"
      ]
     },
     "execution_count": 3,
     "metadata": {},
     "output_type": "execute_result"
    }
   ],
   "source": [
    "circuit.init_and_discard().draw()"
   ]
  },
  {
   "cell_type": "code",
   "execution_count": 4,
   "metadata": {},
   "outputs": [
    {
     "data": {
      "text/plain": [
       "CQMap(dom=CQ(), cod=C(Dim(2)), array=[0.49999997, 0.49999997])"
      ]
     },
     "execution_count": 4,
     "metadata": {},
     "output_type": "execute_result"
    }
   ],
   "source": [
    "circuit.init_and_discard().eval()"
   ]
  },
  {
   "cell_type": "code",
   "execution_count": 5,
   "metadata": {},
   "outputs": [
    {
     "data": {
      "text/plain": [
       "tk.Circuit(2, 1).H(0).X(1).CX(0, 1).Measure(0, 0)"
      ]
     },
     "execution_count": 5,
     "metadata": {},
     "output_type": "execute_result"
    }
   ],
   "source": [
    "circuit.to_tk()"
   ]
  },
  {
   "cell_type": "code",
   "execution_count": 6,
   "metadata": {},
   "outputs": [
    {
     "data": {
      "text/plain": [
       "Tensor(dom=Dim(1), cod=Dim(2), array=[0.5019531, 0.49804688])"
      ]
     },
     "execution_count": 6,
     "metadata": {},
     "output_type": "execute_result"
    }
   ],
   "source": [
    "from pytket.backends.ibm import AerBackend\n",
    "backend = AerBackend()\n",
    "circuit.eval(backend)"
   ]
  },
  {
   "cell_type": "code",
   "execution_count": 7,
   "metadata": {},
   "outputs": [
    {
     "data": {
      "image/png": "[encoded data removed]",
      "text/plain": [
       "<Figure size 432x288 with 1 Axes>"
      ]
     },
     "metadata": {},
     "output_type": "display_data"
    },
    {
     "data": {
      "text/plain": [
       "<AxesSubplot:>"
      ]
     },
     "execution_count": 7,
     "metadata": {},
     "output_type": "execute_result"
    }
   ],
   "source": [
    "postprocess = ClassicalGate('postprocess', n_bits_in=2, n_bits_out=0, array=[1, 0, 0, 0])\n",
    "postprocessed_circuit = Ket(0, 0) >> H @ X >> CX >> Measure() @ Measure() >> postprocess\n",
    "postprocessed_circuit.draw(aspect='auto')"
   ]
  },
  {
   "cell_type": "code",
   "execution_count": 8,
   "metadata": {},
   "outputs": [
    {
     "data": {
      "text/plain": [
       "tk.Circuit(2, 2).H(0).X(1).CX(0, 1).Measure(0, 0).Measure(0, 1).post_process(ClassicalGate('postprocess', n_bits_in=2, n_bits_out=0, array=[1, 0, 0, 0]))"
      ]
     },
     "execution_count": 8,
     "metadata": {},
     "output_type": "execute_result"
    }
   ],
   "source": [
    "postprocessed_circuit.to_tk()"
   ]
  },
  {
   "cell_type": "code",
   "execution_count": 9,
   "metadata": {},
   "outputs": [
    {
     "data": {
      "text/plain": [
       "Tensor(dom=Dim(1), cod=Dim(1), array=[0.47851562])"
      ]
     },
     "execution_count": 9,
     "metadata": {},
     "output_type": "execute_result"
    }
   ],
   "source": [
    "postprocessed_circuit.eval(backend)"
   ]
  },
  {
   "cell_type": "markdown",
   "metadata": {},
   "source": [
    "## 2. ZX diagrams and PyZX interface"
   ]
  },
  {
   "cell_type": "code",
   "execution_count": 10,
   "metadata": {},
   "outputs": [
    {
     "data": {
      "image/png": "[encoded data removed]",
      "text/plain": [
       "<Figure size 432x288 with 1 Axes>"
      ]
     },
     "metadata": {},
     "output_type": "display_data"
    },
    {
     "data": {
      "text/html": [
       "<div style=\"overflow:auto\" id=\"graph-output-VolsXztc\"></div>\n",
       "<script type=\"text/javascript\">\n",
       "require.config({paths: {d3: \"https://d3js.org/d3.v5.min\"} });\n",
       "// PyZX - Python library for quantum circuit rewriting \n",
       "//        and optimisation using the ZX-calculus\n",
       "// Copyright (C) 2018 - Aleks Kissinger and John van de Wetering\n",
       "\n",
       "// Licensed under the Apache License, Version 2.0 (the \"License\");\n",
       "// you may not use this file except in compliance with the License.\n",
       "// You may obtain a copy of the License at\n",
       "\n",
       "//    http://www.apache.org/licenses/LICENSE-2.0\n",
       "\n",
       "// Unless required by applicable law or agreed to in writing, software\n",
       "// distributed under the License is distributed on an \"AS IS\" BASIS,\n",
       "// WITHOUT WARRANTIES OR CONDITIONS OF ANY KIND, either express or implied.\n",
       "// See the License for the specific language governing permissions and\n",
       "// limitations under the License.\n",
       "\n",
       "require.undef('zx_viewer');\n",
       "\n",
       "define('zx_viewer', ['d3'], function(d3) {\n",
       "    \n",
       "    // styling functions\n",
       "    function nodeColor(t) {\n",
       "        if (t == 0) return \"black\";\n",
       "        else if (t == 1) return \"#ccffcc\";\n",
       "        else if (t == 2) return \"#ff8888\";\n",
       "        else if (t == 3) return \"yellow\";\n",
       "    }\n",
       "\n",
       "    function edgeColor(t) {\n",
       "        if (t == 1) return \"black\";\n",
       "        else if (t == 2) return \"#08f\";\n",
       "    }\n",
       "\n",
       "    function nodeStyle(selected) {\n",
       "        return selected ? \"stroke-width: 2px; stroke: #00f\" : \"stroke-width: 1.5px\";\n",
       "    }\n",
       "\n",
       "    return {\n",
       "    showGraph: function(tag, graph, width, height, scale, node_size, auto_hbox, show_labels) {\n",
       "        var ntab = {};\n",
       "\n",
       "        graph.nodes.forEach(function(d) {\n",
       "            ntab[d.name] = d;\n",
       "            d.selected = false;\n",
       "            d.previouslySelected = false;\n",
       "            d.nhd = [];\n",
       "        });\n",
       "\n",
       "        var spiders_and_boundaries = graph.nodes.filter(function(d) {\n",
       "            return d.t != 3;\n",
       "        });\n",
       "\n",
       "        graph.links.forEach(function(d) {\n",
       "            var s = ntab[d.source];\n",
       "            var t = ntab[d.target];\n",
       "            d.source = s;\n",
       "            d.target = t;\n",
       "            s.nhd.push(t);\n",
       "            t.nhd.push(s);\n",
       "        });\n",
       "\n",
       "        var shiftKey;\n",
       "\n",
       "        // SETUP SVG ITEMS\n",
       "\n",
       "        var svg = d3.select(tag)\n",
       "            //.attr(\"tabindex\", 1)\n",
       "            .on(\"keydown.brush\", function() {shiftKey = d3.event.shiftKey || d3.event.metaKey;})\n",
       "            .on(\"keyup.brush\", function() {shiftKey = d3.event.shiftKey || d3.event.metaKey;})\n",
       "            //.each(function() { this.focus(); })\n",
       "            .append(\"svg\")\n",
       "            .attr(\"style\", \"max-width: none; max-height: none\")\n",
       "            .attr(\"width\", width)\n",
       "            .attr(\"height\", height);\n",
       "\n",
       "        var link = svg.append(\"g\")\n",
       "            .attr(\"class\", \"link\")\n",
       "            .selectAll(\"line\")\n",
       "            .data(graph.links)\n",
       "            .enter().append(\"line\")\n",
       "            .attr(\"stroke\", function(d) { return edgeColor(d.t); })\n",
       "            .attr(\"style\", \"stroke-width: 1.5px\");\n",
       "\n",
       "        var brush = svg.append(\"g\")\n",
       "            .attr(\"class\", \"brush\");\n",
       "\n",
       "        var node = svg.append(\"g\")\n",
       "            .attr(\"class\", \"node\")\n",
       "            .selectAll(\"g\")\n",
       "            .data(graph.nodes)\n",
       "            .enter().append(\"g\")\n",
       "            .attr(\"transform\", function(d) {\n",
       "                return \"translate(\" + d.x + \",\" + d.y +\")\";\n",
       "            });\n",
       "\n",
       "        node.filter(function(d) { return d.t != 3; })\n",
       "            .append(\"circle\")\n",
       "            .attr(\"r\", function(d) {\n",
       "               if (d.t == 0) return 0.5 * node_size;\n",
       "               else return node_size;\n",
       "            })\n",
       "            .attr(\"fill\", function(d) { return nodeColor(d.t); })\n",
       "            .attr(\"stroke\", \"black\");\n",
       "\n",
       "        var hbox = node.filter(function(d) { return d.t == 3; });\n",
       "\n",
       "        hbox.append(\"rect\")\n",
       "            .attr(\"x\", -0.75 * node_size).attr(\"y\", -0.75 * node_size)\n",
       "            .attr(\"width\", node_size * 1.5).attr(\"height\", node_size * 1.5)\n",
       "            .attr(\"fill\", function(d) { return nodeColor(d.t); })\n",
       "            .attr(\"stroke\", \"black\");\n",
       "\n",
       "        node.filter(function(d) { return d.phase != ''; })\n",
       "            .append(\"text\")\n",
       "            .attr(\"y\", 0.7 * node_size + 14)\n",
       "            .text(function (d) { return d.phase })\n",
       "            .attr(\"text-anchor\", \"middle\")\n",
       "            .attr(\"font-size\", \"12px\")\n",
       "            .attr(\"font-family\", \"monospace\")\n",
       "            .attr(\"fill\", \"#00d\")\n",
       "            .attr('style', 'pointer-events: none; user-select: none;');\n",
       "\n",
       "        if (show_labels) {\n",
       "            node.append(\"text\")\n",
       "                .attr(\"y\", -0.7 * node_size - 8)\n",
       "                .text(function (d) { return d.name; })\n",
       "                .attr(\"text-anchor\", \"middle\")\n",
       "                .attr(\"font-size\", \"10px\")\n",
       "                .attr(\"font-family\", \"monospace\")\n",
       "                .attr(\"fill\", \"#999\")\n",
       "                .attr('style', 'pointer-events: none; user-select: none;');\n",
       "        }\n",
       "\n",
       "        function update_hboxes() {\n",
       "            if (auto_hbox) {\n",
       "                var pos = {};\n",
       "                hbox.attr(\"transform\", function(d) {\n",
       "                    // calculate barycenter of non-hbox neighbours, then nudge a bit\n",
       "                    // to the NE.\n",
       "                    var x=0,y=0,sz=0;\n",
       "                    for (var i = 0; i < d.nhd.length; ++i) {\n",
       "                        if (d.nhd[i].t != 3) {\n",
       "                            sz++;\n",
       "                            x += d.nhd[i].x;\n",
       "                            y += d.nhd[i].y;\n",
       "                        }\n",
       "                    }\n",
       "\n",
       "                    offset = 0.25 * scale;\n",
       "\n",
       "                    if (sz != 0) {\n",
       "                        x = (x/sz) + offset;\n",
       "                        y = (y/sz) - offset;\n",
       "\n",
       "                        while (pos[[x,y]]) {\n",
       "                            x += offset;\n",
       "                        }\n",
       "                        d.x = x;\n",
       "                        d.y = y;\n",
       "                        pos[[x,y]] = true;\n",
       "                    }\n",
       "\n",
       "                    return \"translate(\"+d.x+\",\"+d.y+\")\";\n",
       "                });\n",
       "            }\n",
       "        }\n",
       "\n",
       "        update_hboxes();\n",
       "\n",
       "        link.attr(\"x1\", function(d) { return d.source.x; })\n",
       "            .attr(\"y1\", function(d) { return d.source.y; })\n",
       "            .attr(\"x2\", function(d) { return d.target.x; })\n",
       "            .attr(\"y2\", function(d) { return d.target.y; });\n",
       "\n",
       "        // EVENTS FOR DRAGGING AND SELECTION\n",
       "\n",
       "        node.on(\"mousedown\", function(d) {\n",
       "                if (shiftKey) {\n",
       "                    d3.select(this).select(\":first-child\").attr(\"style\", nodeStyle(d.selected = !d.selected));\n",
       "                    d3.event.stopImmediatePropagation();\n",
       "                } else if (!d.selected) {\n",
       "                    node.select(\":first-child\").attr(\"style\", function(p) { return nodeStyle(p.selected = d === p); });\n",
       "                }\n",
       "            })\n",
       "            .call(d3.drag().on(\"drag\", function(d) {\n",
       "                var dx = d3.event.dx;\n",
       "                var dy = d3.event.dy;\n",
       "                // node.filter(function(d) { return d.selected; })\n",
       "                //     .attr(\"cx\", function(d) { return d.x += dx; })\n",
       "                //     .attr(\"cy\", function(d) { return d.y += dy; });\n",
       "                node.filter(function(d) { return d.selected; })\n",
       "                    .attr(\"transform\", function(d) {\n",
       "                        d.x += dx;\n",
       "                        d.y += dy;\n",
       "                        return \"translate(\" + d.x + \",\" + d.y +\")\";\n",
       "                    });\n",
       "\n",
       "                update_hboxes();\n",
       "\n",
       "                link.filter(function(d) { return d.source.selected ||\n",
       "                                            (auto_hbox && d.source.t == 3); })\n",
       "                    .attr(\"x1\", function(d) { return d.source.x; })\n",
       "                    .attr(\"y1\", function(d) { return d.source.y; });\n",
       "\n",
       "                link.filter(function(d) { return d.target.selected ||\n",
       "                                            (auto_hbox && d.target.t == 3); })\n",
       "                    .attr(\"x2\", function(d) { return d.target.x; })\n",
       "                    .attr(\"y2\", function(d) { return d.target.y; });\n",
       "\n",
       "                // text.filter(function(d) { return d.selected; })\n",
       "                //     .attr(\"x\", function(d) { return d.x; })\n",
       "                //     .attr(\"y\", function(d) { return d.y + 0.7 * node_size + 14; });\n",
       "            }));\n",
       "\n",
       "        brush.call(d3.brush().keyModifiers(false)\n",
       "            .extent([[0, 0], [width, height]])\n",
       "            .on(\"start\", function() {\n",
       "                if (d3.event.sourceEvent.type !== \"end\") {\n",
       "                    node.select(\":first-child\").attr(\"style\", function(d) {\n",
       "                        return nodeStyle(\n",
       "                            d.selected = d.previouslySelected = shiftKey &&\n",
       "                            d.selected);\n",
       "                    });\n",
       "                }\n",
       "            })\n",
       "            .on(\"brush\", function() {\n",
       "                if (d3.event.sourceEvent.type !== \"end\") {\n",
       "                    var selection = d3.event.selection;\n",
       "                    node.select(\":first-child\").attr(\"style\", function(d) {\n",
       "                        return nodeStyle(d.selected = d.previouslySelected ^\n",
       "                            (selection != null\n",
       "                            && selection[0][0] <= d.x && d.x < selection[1][0]\n",
       "                            && selection[0][1] <= d.y && d.y < selection[1][1]));\n",
       "                    });\n",
       "                }\n",
       "            })\n",
       "            .on(\"end\", function() {\n",
       "                if (d3.event.selection != null) {\n",
       "                    d3.select(this).call(d3.event.target.move, null);\n",
       "                }\n",
       "            }));\n",
       "    }};\n",
       "});\n",
       "\n",
       "</script>\n",
       "<script type=\"text/javascript\">\n",
       "require(['zx_viewer'], function(zx_viewer) {\n",
       "    zx_viewer.showGraph('#graph-output-VolsXztc',\n",
       "    JSON.parse('{\"nodes\": [{\"name\": \"0\", \"x\": 50, \"y\": 100, \"t\": 0, \"phase\": \"\"}, {\"name\": \"1\", \"x\": 50, \"y\": 150, \"t\": 0, \"phase\": \"\"}, {\"name\": \"2\", \"x\": 100, \"y\": 100, \"t\": 1, \"phase\": \"\\u03c0/2\"}, {\"name\": \"3\", \"x\": 150, \"y\": 200, \"t\": 1, \"phase\": \"3\\u03c0/2\"}, {\"name\": \"4\", \"x\": 250, \"y\": 100, \"t\": 2, \"phase\": \"\"}, {\"name\": \"5\", \"x\": 300, \"y\": 150, \"t\": 2, \"phase\": \"\\u03c0\"}, {\"name\": \"6\", \"x\": 350, \"y\": 100, \"t\": 0, \"phase\": \"\"}, {\"name\": \"7\", \"x\": 350, \"y\": 150, \"t\": 0, \"phase\": \"\"}], \"links\": [{\"source\": \"0\", \"target\": \"2\", \"t\": 1}, {\"source\": \"1\", \"target\": \"3\", \"t\": 1}, {\"source\": \"2\", \"target\": \"4\", \"t\": 1}, {\"source\": \"2\", \"target\": \"5\", \"t\": 1}, {\"source\": \"3\", \"target\": \"4\", \"t\": 1}, {\"source\": \"3\", \"target\": \"5\", \"t\": 1}, {\"source\": \"4\", \"target\": \"6\", \"t\": 1}, {\"source\": \"5\", \"target\": \"7\", \"t\": 1}]}'), 400, 250, 50, 10.0, true, false);\n",
       "});\n",
       "</script>"
      ],
      "text/plain": [
       "<IPython.core.display.HTML object>"
      ]
     },
     "metadata": {},
     "output_type": "display_data"
    }
   ],
   "source": [
    "from discopy.quantum.zx import *\n",
    "from pyzx import draw\n",
    "\n",
    "bialgebra = Z(1, 2, .25) @ Z(1, 2, .75) >> Id(1) @ SWAP @ Id(1) >> X(2, 1) @ X(2, 1, .5)\n",
    "bialgebra.draw(aspect='equal')\n",
    "draw(bialgebra.to_pyzx())"
   ]
  },
  {
   "cell_type": "code",
   "execution_count": 11,
   "metadata": {},
   "outputs": [
    {
     "name": "stdout",
     "output_type": "stream",
     "text": [
      "From DisCoPy:\n"
     ]
    },
    {
     "data": {
      "image/png": "[encoded data removed]",
      "text/plain": [
       "<Figure size 432x288 with 1 Axes>"
      ]
     },
     "metadata": {},
     "output_type": "display_data"
    },
    {
     "name": "stdout",
     "output_type": "stream",
     "text": [
      "To PyZX:\n"
     ]
    },
    {
     "data": {
      "text/html": [
       "<div style=\"overflow:auto\" id=\"graph-output-pLxUNTKp\"></div>\n",
       "<script type=\"text/javascript\">\n",
       "require.config({paths: {d3: \"https://d3js.org/d3.v5.min\"} });\n",
       "// PyZX - Python library for quantum circuit rewriting \n",
       "//        and optimisation using the ZX-calculus\n",
       "// Copyright (C) 2018 - Aleks Kissinger and John van de Wetering\n",
       "\n",
       "// Licensed under the Apache License, Version 2.0 (the \"License\");\n",
       "// you may not use this file except in compliance with the License.\n",
       "// You may obtain a copy of the License at\n",
       "\n",
       "//    http://www.apache.org/licenses/LICENSE-2.0\n",
       "\n",
       "// Unless required by applicable law or agreed to in writing, software\n",
       "// distributed under the License is distributed on an \"AS IS\" BASIS,\n",
       "// WITHOUT WARRANTIES OR CONDITIONS OF ANY KIND, either express or implied.\n",
       "// See the License for the specific language governing permissions and\n",
       "// limitations under the License.\n",
       "\n",
       "require.undef('zx_viewer');\n",
       "\n",
       "define('zx_viewer', ['d3'], function(d3) {\n",
       "    \n",
       "    // styling functions\n",
       "    function nodeColor(t) {\n",
       "        if (t == 0) return \"black\";\n",
       "        else if (t == 1) return \"#ccffcc\";\n",
       "        else if (t == 2) return \"#ff8888\";\n",
       "        else if (t == 3) return \"yellow\";\n",
       "    }\n",
       "\n",
       "    function edgeColor(t) {\n",
       "        if (t == 1) return \"black\";\n",
       "        else if (t == 2) return \"#08f\";\n",
       "    }\n",
       "\n",
       "    function nodeStyle(selected) {\n",
       "        return selected ? \"stroke-width: 2px; stroke: #00f\" : \"stroke-width: 1.5px\";\n",
       "    }\n",
       "\n",
       "    return {\n",
       "    showGraph: function(tag, graph, width, height, scale, node_size, auto_hbox, show_labels) {\n",
       "        var ntab = {};\n",
       "\n",
       "        graph.nodes.forEach(function(d) {\n",
       "            ntab[d.name] = d;\n",
       "            d.selected = false;\n",
       "            d.previouslySelected = false;\n",
       "            d.nhd = [];\n",
       "        });\n",
       "\n",
       "        var spiders_and_boundaries = graph.nodes.filter(function(d) {\n",
       "            return d.t != 3;\n",
       "        });\n",
       "\n",
       "        graph.links.forEach(function(d) {\n",
       "            var s = ntab[d.source];\n",
       "            var t = ntab[d.target];\n",
       "            d.source = s;\n",
       "            d.target = t;\n",
       "            s.nhd.push(t);\n",
       "            t.nhd.push(s);\n",
       "        });\n",
       "\n",
       "        var shiftKey;\n",
       "\n",
       "        // SETUP SVG ITEMS\n",
       "\n",
       "        var svg = d3.select(tag)\n",
       "            //.attr(\"tabindex\", 1)\n",
       "            .on(\"keydown.brush\", function() {shiftKey = d3.event.shiftKey || d3.event.metaKey;})\n",
       "            .on(\"keyup.brush\", function() {shiftKey = d3.event.shiftKey || d3.event.metaKey;})\n",
       "            //.each(function() { this.focus(); })\n",
       "            .append(\"svg\")\n",
       "            .attr(\"style\", \"max-width: none; max-height: none\")\n",
       "            .attr(\"width\", width)\n",
       "            .attr(\"height\", height);\n",
       "\n",
       "        var link = svg.append(\"g\")\n",
       "            .attr(\"class\", \"link\")\n",
       "            .selectAll(\"line\")\n",
       "            .data(graph.links)\n",
       "            .enter().append(\"line\")\n",
       "            .attr(\"stroke\", function(d) { return edgeColor(d.t); })\n",
       "            .attr(\"style\", \"stroke-width: 1.5px\");\n",
       "\n",
       "        var brush = svg.append(\"g\")\n",
       "            .attr(\"class\", \"brush\");\n",
       "\n",
       "        var node = svg.append(\"g\")\n",
       "            .attr(\"class\", \"node\")\n",
       "            .selectAll(\"g\")\n",
       "            .data(graph.nodes)\n",
       "            .enter().append(\"g\")\n",
       "            .attr(\"transform\", function(d) {\n",
       "                return \"translate(\" + d.x + \",\" + d.y +\")\";\n",
       "            });\n",
       "\n",
       "        node.filter(function(d) { return d.t != 3; })\n",
       "            .append(\"circle\")\n",
       "            .attr(\"r\", function(d) {\n",
       "               if (d.t == 0) return 0.5 * node_size;\n",
       "               else return node_size;\n",
       "            })\n",
       "            .attr(\"fill\", function(d) { return nodeColor(d.t); })\n",
       "            .attr(\"stroke\", \"black\");\n",
       "\n",
       "        var hbox = node.filter(function(d) { return d.t == 3; });\n",
       "\n",
       "        hbox.append(\"rect\")\n",
       "            .attr(\"x\", -0.75 * node_size).attr(\"y\", -0.75 * node_size)\n",
       "            .attr(\"width\", node_size * 1.5).attr(\"height\", node_size * 1.5)\n",
       "            .attr(\"fill\", function(d) { return nodeColor(d.t); })\n",
       "            .attr(\"stroke\", \"black\");\n",
       "\n",
       "        node.filter(function(d) { return d.phase != ''; })\n",
       "            .append(\"text\")\n",
       "            .attr(\"y\", 0.7 * node_size + 14)\n",
       "            .text(function (d) { return d.phase })\n",
       "            .attr(\"text-anchor\", \"middle\")\n",
       "            .attr(\"font-size\", \"12px\")\n",
       "            .attr(\"font-family\", \"monospace\")\n",
       "            .attr(\"fill\", \"#00d\")\n",
       "            .attr('style', 'pointer-events: none; user-select: none;');\n",
       "\n",
       "        if (show_labels) {\n",
       "            node.append(\"text\")\n",
       "                .attr(\"y\", -0.7 * node_size - 8)\n",
       "                .text(function (d) { return d.name; })\n",
       "                .attr(\"text-anchor\", \"middle\")\n",
       "                .attr(\"font-size\", \"10px\")\n",
       "                .attr(\"font-family\", \"monospace\")\n",
       "                .attr(\"fill\", \"#999\")\n",
       "                .attr('style', 'pointer-events: none; user-select: none;');\n",
       "        }\n",
       "\n",
       "        function update_hboxes() {\n",
       "            if (auto_hbox) {\n",
       "                var pos = {};\n",
       "                hbox.attr(\"transform\", function(d) {\n",
       "                    // calculate barycenter of non-hbox neighbours, then nudge a bit\n",
       "                    // to the NE.\n",
       "                    var x=0,y=0,sz=0;\n",
       "                    for (var i = 0; i < d.nhd.length; ++i) {\n",
       "                        if (d.nhd[i].t != 3) {\n",
       "                            sz++;\n",
       "                            x += d.nhd[i].x;\n",
       "                            y += d.nhd[i].y;\n",
       "                        }\n",
       "                    }\n",
       "\n",
       "                    offset = 0.25 * scale;\n",
       "\n",
       "                    if (sz != 0) {\n",
       "                        x = (x/sz) + offset;\n",
       "                        y = (y/sz) - offset;\n",
       "\n",
       "                        while (pos[[x,y]]) {\n",
       "                            x += offset;\n",
       "                        }\n",
       "                        d.x = x;\n",
       "                        d.y = y;\n",
       "                        pos[[x,y]] = true;\n",
       "                    }\n",
       "\n",
       "                    return \"translate(\"+d.x+\",\"+d.y+\")\";\n",
       "                });\n",
       "            }\n",
       "        }\n",
       "\n",
       "        update_hboxes();\n",
       "\n",
       "        link.attr(\"x1\", function(d) { return d.source.x; })\n",
       "            .attr(\"y1\", function(d) { return d.source.y; })\n",
       "            .attr(\"x2\", function(d) { return d.target.x; })\n",
       "            .attr(\"y2\", function(d) { return d.target.y; });\n",
       "\n",
       "        // EVENTS FOR DRAGGING AND SELECTION\n",
       "\n",
       "        node.on(\"mousedown\", function(d) {\n",
       "                if (shiftKey) {\n",
       "                    d3.select(this).select(\":first-child\").attr(\"style\", nodeStyle(d.selected = !d.selected));\n",
       "                    d3.event.stopImmediatePropagation();\n",
       "                } else if (!d.selected) {\n",
       "                    node.select(\":first-child\").attr(\"style\", function(p) { return nodeStyle(p.selected = d === p); });\n",
       "                }\n",
       "            })\n",
       "            .call(d3.drag().on(\"drag\", function(d) {\n",
       "                var dx = d3.event.dx;\n",
       "                var dy = d3.event.dy;\n",
       "                // node.filter(function(d) { return d.selected; })\n",
       "                //     .attr(\"cx\", function(d) { return d.x += dx; })\n",
       "                //     .attr(\"cy\", function(d) { return d.y += dy; });\n",
       "                node.filter(function(d) { return d.selected; })\n",
       "                    .attr(\"transform\", function(d) {\n",
       "                        d.x += dx;\n",
       "                        d.y += dy;\n",
       "                        return \"translate(\" + d.x + \",\" + d.y +\")\";\n",
       "                    });\n",
       "\n",
       "                update_hboxes();\n",
       "\n",
       "                link.filter(function(d) { return d.source.selected ||\n",
       "                                            (auto_hbox && d.source.t == 3); })\n",
       "                    .attr(\"x1\", function(d) { return d.source.x; })\n",
       "                    .attr(\"y1\", function(d) { return d.source.y; });\n",
       "\n",
       "                link.filter(function(d) { return d.target.selected ||\n",
       "                                            (auto_hbox && d.target.t == 3); })\n",
       "                    .attr(\"x2\", function(d) { return d.target.x; })\n",
       "                    .attr(\"y2\", function(d) { return d.target.y; });\n",
       "\n",
       "                // text.filter(function(d) { return d.selected; })\n",
       "                //     .attr(\"x\", function(d) { return d.x; })\n",
       "                //     .attr(\"y\", function(d) { return d.y + 0.7 * node_size + 14; });\n",
       "            }));\n",
       "\n",
       "        brush.call(d3.brush().keyModifiers(false)\n",
       "            .extent([[0, 0], [width, height]])\n",
       "            .on(\"start\", function() {\n",
       "                if (d3.event.sourceEvent.type !== \"end\") {\n",
       "                    node.select(\":first-child\").attr(\"style\", function(d) {\n",
       "                        return nodeStyle(\n",
       "                            d.selected = d.previouslySelected = shiftKey &&\n",
       "                            d.selected);\n",
       "                    });\n",
       "                }\n",
       "            })\n",
       "            .on(\"brush\", function() {\n",
       "                if (d3.event.sourceEvent.type !== \"end\") {\n",
       "                    var selection = d3.event.selection;\n",
       "                    node.select(\":first-child\").attr(\"style\", function(d) {\n",
       "                        return nodeStyle(d.selected = d.previouslySelected ^\n",
       "                            (selection != null\n",
       "                            && selection[0][0] <= d.x && d.x < selection[1][0]\n",
       "                            && selection[0][1] <= d.y && d.y < selection[1][1]));\n",
       "                    });\n",
       "                }\n",
       "            })\n",
       "            .on(\"end\", function() {\n",
       "                if (d3.event.selection != null) {\n",
       "                    d3.select(this).call(d3.event.target.move, null);\n",
       "                }\n",
       "            }));\n",
       "    }};\n",
       "});\n",
       "\n",
       "</script>\n",
       "<script type=\"text/javascript\">\n",
       "require(['zx_viewer'], function(zx_viewer) {\n",
       "    zx_viewer.showGraph('#graph-output-pLxUNTKp',\n",
       "    JSON.parse('{\"nodes\": [{\"name\": \"0\", \"x\": 50, \"y\": 100, \"t\": 0, \"phase\": \"\"}, {\"name\": \"1\", \"x\": 50, \"y\": 150, \"t\": 0, \"phase\": \"\"}, {\"name\": \"2\", \"x\": 100, \"y\": 100, \"t\": 1, \"phase\": \"\"}, {\"name\": \"3\", \"x\": 100, \"y\": 150, \"t\": 1, \"phase\": \"\"}, {\"name\": \"4\", \"x\": 150, \"y\": 150, \"t\": 2, \"phase\": \"\\u03c0/2\"}, {\"name\": \"5\", \"x\": 200, \"y\": 100, \"t\": 1, \"phase\": \"\\u03c0/2\"}, {\"name\": \"6\", \"x\": 250, \"y\": 150, \"t\": 1, \"phase\": \"\\u03c0/2\"}, {\"name\": \"7\", \"x\": 300, \"y\": 150, \"t\": 1, \"phase\": \"\"}, {\"name\": \"8\", \"x\": 300, \"y\": 100, \"t\": 2, \"phase\": \"\"}, {\"name\": \"9\", \"x\": 350, \"y\": 150, \"t\": 1, \"phase\": \"\\u03c0/2\"}, {\"name\": \"10\", \"x\": 400, \"y\": 100, \"t\": 1, \"phase\": \"\"}, {\"name\": \"11\", \"x\": 400, \"y\": 150, \"t\": 1, \"phase\": \"\"}, {\"name\": \"12\", \"x\": 450, \"y\": 100, \"t\": 0, \"phase\": \"\"}, {\"name\": \"13\", \"x\": 450, \"y\": 150, \"t\": 0, \"phase\": \"\"}], \"links\": [{\"source\": \"0\", \"target\": \"2\", \"t\": 1}, {\"source\": \"1\", \"target\": \"3\", \"t\": 1}, {\"source\": \"2\", \"target\": \"5\", \"t\": 1}, {\"source\": \"3\", \"target\": \"4\", \"t\": 1}, {\"source\": \"4\", \"target\": \"6\", \"t\": 1}, {\"source\": \"5\", \"target\": \"8\", \"t\": 1}, {\"source\": \"6\", \"target\": \"7\", \"t\": 1}, {\"source\": \"7\", \"target\": \"8\", \"t\": 1}, {\"source\": \"7\", \"target\": \"9\", \"t\": 1}, {\"source\": \"8\", \"target\": \"10\", \"t\": 1}, {\"source\": \"9\", \"target\": \"11\", \"t\": 1}, {\"source\": \"10\", \"target\": \"12\", \"t\": 1}, {\"source\": \"11\", \"target\": \"13\", \"t\": 1}]}'), 500, 200, 50, 10.0, true, false);\n",
       "});\n",
       "</script>"
      ],
      "text/plain": [
       "<IPython.core.display.HTML object>"
      ]
     },
     "metadata": {},
     "output_type": "display_data"
    },
    {
     "data": {
      "text/html": [
       "<div style=\"overflow:auto\" id=\"graph-output-Io4Krqqh\"></div>\n",
       "<script type=\"text/javascript\">\n",
       "require.config({paths: {d3: \"https://d3js.org/d3.v5.min\"} });\n",
       "// PyZX - Python library for quantum circuit rewriting \n",
       "//        and optimisation using the ZX-calculus\n",
       "// Copyright (C) 2018 - Aleks Kissinger and John van de Wetering\n",
       "\n",
       "// Licensed under the Apache License, Version 2.0 (the \"License\");\n",
       "// you may not use this file except in compliance with the License.\n",
       "// You may obtain a copy of the License at\n",
       "\n",
       "//    http://www.apache.org/licenses/LICENSE-2.0\n",
       "\n",
       "// Unless required by applicable law or agreed to in writing, software\n",
       "// distributed under the License is distributed on an \"AS IS\" BASIS,\n",
       "// WITHOUT WARRANTIES OR CONDITIONS OF ANY KIND, either express or implied.\n",
       "// See the License for the specific language governing permissions and\n",
       "// limitations under the License.\n",
       "\n",
       "require.undef('zx_viewer');\n",
       "\n",
       "define('zx_viewer', ['d3'], function(d3) {\n",
       "    \n",
       "    // styling functions\n",
       "    function nodeColor(t) {\n",
       "        if (t == 0) return \"black\";\n",
       "        else if (t == 1) return \"#ccffcc\";\n",
       "        else if (t == 2) return \"#ff8888\";\n",
       "        else if (t == 3) return \"yellow\";\n",
       "    }\n",
       "\n",
       "    function edgeColor(t) {\n",
       "        if (t == 1) return \"black\";\n",
       "        else if (t == 2) return \"#08f\";\n",
       "    }\n",
       "\n",
       "    function nodeStyle(selected) {\n",
       "        return selected ? \"stroke-width: 2px; stroke: #00f\" : \"stroke-width: 1.5px\";\n",
       "    }\n",
       "\n",
       "    return {\n",
       "    showGraph: function(tag, graph, width, height, scale, node_size, auto_hbox, show_labels) {\n",
       "        var ntab = {};\n",
       "\n",
       "        graph.nodes.forEach(function(d) {\n",
       "            ntab[d.name] = d;\n",
       "            d.selected = false;\n",
       "            d.previouslySelected = false;\n",
       "            d.nhd = [];\n",
       "        });\n",
       "\n",
       "        var spiders_and_boundaries = graph.nodes.filter(function(d) {\n",
       "            return d.t != 3;\n",
       "        });\n",
       "\n",
       "        graph.links.forEach(function(d) {\n",
       "            var s = ntab[d.source];\n",
       "            var t = ntab[d.target];\n",
       "            d.source = s;\n",
       "            d.target = t;\n",
       "            s.nhd.push(t);\n",
       "            t.nhd.push(s);\n",
       "        });\n",
       "\n",
       "        var shiftKey;\n",
       "\n",
       "        // SETUP SVG ITEMS\n",
       "\n",
       "        var svg = d3.select(tag)\n",
       "            //.attr(\"tabindex\", 1)\n",
       "            .on(\"keydown.brush\", function() {shiftKey = d3.event.shiftKey || d3.event.metaKey;})\n",
       "            .on(\"keyup.brush\", function() {shiftKey = d3.event.shiftKey || d3.event.metaKey;})\n",
       "            //.each(function() { this.focus(); })\n",
       "            .append(\"svg\")\n",
       "            .attr(\"style\", \"max-width: none; max-height: none\")\n",
       "            .attr(\"width\", width)\n",
       "            .attr(\"height\", height);\n",
       "\n",
       "        var link = svg.append(\"g\")\n",
       "            .attr(\"class\", \"link\")\n",
       "            .selectAll(\"line\")\n",
       "            .data(graph.links)\n",
       "            .enter().append(\"line\")\n",
       "            .attr(\"stroke\", function(d) { return edgeColor(d.t); })\n",
       "            .attr(\"style\", \"stroke-width: 1.5px\");\n",
       "\n",
       "        var brush = svg.append(\"g\")\n",
       "            .attr(\"class\", \"brush\");\n",
       "\n",
       "        var node = svg.append(\"g\")\n",
       "            .attr(\"class\", \"node\")\n",
       "            .selectAll(\"g\")\n",
       "            .data(graph.nodes)\n",
       "            .enter().append(\"g\")\n",
       "            .attr(\"transform\", function(d) {\n",
       "                return \"translate(\" + d.x + \",\" + d.y +\")\";\n",
       "            });\n",
       "\n",
       "        node.filter(function(d) { return d.t != 3; })\n",
       "            .append(\"circle\")\n",
       "            .attr(\"r\", function(d) {\n",
       "               if (d.t == 0) return 0.5 * node_size;\n",
       "               else return node_size;\n",
       "            })\n",
       "            .attr(\"fill\", function(d) { return nodeColor(d.t); })\n",
       "            .attr(\"stroke\", \"black\");\n",
       "\n",
       "        var hbox = node.filter(function(d) { return d.t == 3; });\n",
       "\n",
       "        hbox.append(\"rect\")\n",
       "            .attr(\"x\", -0.75 * node_size).attr(\"y\", -0.75 * node_size)\n",
       "            .attr(\"width\", node_size * 1.5).attr(\"height\", node_size * 1.5)\n",
       "            .attr(\"fill\", function(d) { return nodeColor(d.t); })\n",
       "            .attr(\"stroke\", \"black\");\n",
       "\n",
       "        node.filter(function(d) { return d.phase != ''; })\n",
       "            .append(\"text\")\n",
       "            .attr(\"y\", 0.7 * node_size + 14)\n",
       "            .text(function (d) { return d.phase })\n",
       "            .attr(\"text-anchor\", \"middle\")\n",
       "            .attr(\"font-size\", \"12px\")\n",
       "            .attr(\"font-family\", \"monospace\")\n",
       "            .attr(\"fill\", \"#00d\")\n",
       "            .attr('style', 'pointer-events: none; user-select: none;');\n",
       "\n",
       "        if (show_labels) {\n",
       "            node.append(\"text\")\n",
       "                .attr(\"y\", -0.7 * node_size - 8)\n",
       "                .text(function (d) { return d.name; })\n",
       "                .attr(\"text-anchor\", \"middle\")\n",
       "                .attr(\"font-size\", \"10px\")\n",
       "                .attr(\"font-family\", \"monospace\")\n",
       "                .attr(\"fill\", \"#999\")\n",
       "                .attr('style', 'pointer-events: none; user-select: none;');\n",
       "        }\n",
       "\n",
       "        function update_hboxes() {\n",
       "            if (auto_hbox) {\n",
       "                var pos = {};\n",
       "                hbox.attr(\"transform\", function(d) {\n",
       "                    // calculate barycenter of non-hbox neighbours, then nudge a bit\n",
       "                    // to the NE.\n",
       "                    var x=0,y=0,sz=0;\n",
       "                    for (var i = 0; i < d.nhd.length; ++i) {\n",
       "                        if (d.nhd[i].t != 3) {\n",
       "                            sz++;\n",
       "                            x += d.nhd[i].x;\n",
       "                            y += d.nhd[i].y;\n",
       "                        }\n",
       "                    }\n",
       "\n",
       "                    offset = 0.25 * scale;\n",
       "\n",
       "                    if (sz != 0) {\n",
       "                        x = (x/sz) + offset;\n",
       "                        y = (y/sz) - offset;\n",
       "\n",
       "                        while (pos[[x,y]]) {\n",
       "                            x += offset;\n",
       "                        }\n",
       "                        d.x = x;\n",
       "                        d.y = y;\n",
       "                        pos[[x,y]] = true;\n",
       "                    }\n",
       "\n",
       "                    return \"translate(\"+d.x+\",\"+d.y+\")\";\n",
       "                });\n",
       "            }\n",
       "        }\n",
       "\n",
       "        update_hboxes();\n",
       "\n",
       "        link.attr(\"x1\", function(d) { return d.source.x; })\n",
       "            .attr(\"y1\", function(d) { return d.source.y; })\n",
       "            .attr(\"x2\", function(d) { return d.target.x; })\n",
       "            .attr(\"y2\", function(d) { return d.target.y; });\n",
       "\n",
       "        // EVENTS FOR DRAGGING AND SELECTION\n",
       "\n",
       "        node.on(\"mousedown\", function(d) {\n",
       "                if (shiftKey) {\n",
       "                    d3.select(this).select(\":first-child\").attr(\"style\", nodeStyle(d.selected = !d.selected));\n",
       "                    d3.event.stopImmediatePropagation();\n",
       "                } else if (!d.selected) {\n",
       "                    node.select(\":first-child\").attr(\"style\", function(p) { return nodeStyle(p.selected = d === p); });\n",
       "                }\n",
       "            })\n",
       "            .call(d3.drag().on(\"drag\", function(d) {\n",
       "                var dx = d3.event.dx;\n",
       "                var dy = d3.event.dy;\n",
       "                // node.filter(function(d) { return d.selected; })\n",
       "                //     .attr(\"cx\", function(d) { return d.x += dx; })\n",
       "                //     .attr(\"cy\", function(d) { return d.y += dy; });\n",
       "                node.filter(function(d) { return d.selected; })\n",
       "                    .attr(\"transform\", function(d) {\n",
       "                        d.x += dx;\n",
       "                        d.y += dy;\n",
       "                        return \"translate(\" + d.x + \",\" + d.y +\")\";\n",
       "                    });\n",
       "\n",
       "                update_hboxes();\n",
       "\n",
       "                link.filter(function(d) { return d.source.selected ||\n",
       "                                            (auto_hbox && d.source.t == 3); })\n",
       "                    .attr(\"x1\", function(d) { return d.source.x; })\n",
       "                    .attr(\"y1\", function(d) { return d.source.y; });\n",
       "\n",
       "                link.filter(function(d) { return d.target.selected ||\n",
       "                                            (auto_hbox && d.target.t == 3); })\n",
       "                    .attr(\"x2\", function(d) { return d.target.x; })\n",
       "                    .attr(\"y2\", function(d) { return d.target.y; });\n",
       "\n",
       "                // text.filter(function(d) { return d.selected; })\n",
       "                //     .attr(\"x\", function(d) { return d.x; })\n",
       "                //     .attr(\"y\", function(d) { return d.y + 0.7 * node_size + 14; });\n",
       "            }));\n",
       "\n",
       "        brush.call(d3.brush().keyModifiers(false)\n",
       "            .extent([[0, 0], [width, height]])\n",
       "            .on(\"start\", function() {\n",
       "                if (d3.event.sourceEvent.type !== \"end\") {\n",
       "                    node.select(\":first-child\").attr(\"style\", function(d) {\n",
       "                        return nodeStyle(\n",
       "                            d.selected = d.previouslySelected = shiftKey &&\n",
       "                            d.selected);\n",
       "                    });\n",
       "                }\n",
       "            })\n",
       "            .on(\"brush\", function() {\n",
       "                if (d3.event.sourceEvent.type !== \"end\") {\n",
       "                    var selection = d3.event.selection;\n",
       "                    node.select(\":first-child\").attr(\"style\", function(d) {\n",
       "                        return nodeStyle(d.selected = d.previouslySelected ^\n",
       "                            (selection != null\n",
       "                            && selection[0][0] <= d.x && d.x < selection[1][0]\n",
       "                            && selection[0][1] <= d.y && d.y < selection[1][1]));\n",
       "                    });\n",
       "                }\n",
       "            })\n",
       "            .on(\"end\", function() {\n",
       "                if (d3.event.selection != null) {\n",
       "                    d3.select(this).call(d3.event.target.move, null);\n",
       "                }\n",
       "            }));\n",
       "    }};\n",
       "});\n",
       "\n",
       "</script>\n",
       "<script type=\"text/javascript\">\n",
       "require(['zx_viewer'], function(zx_viewer) {\n",
       "    zx_viewer.showGraph('#graph-output-Io4Krqqh',\n",
       "    JSON.parse('{\"nodes\": [{\"name\": \"0\", \"x\": 50, \"y\": 100, \"t\": 0, \"phase\": \"\"}, {\"name\": \"1\", \"x\": 50, \"y\": 150, \"t\": 0, \"phase\": \"\"}, {\"name\": \"2\", \"x\": 100, \"y\": 100, \"t\": 1, \"phase\": \"\\u03c0/2\"}, {\"name\": \"4\", \"x\": 150, \"y\": 150, \"t\": 1, \"phase\": \"\\u03c0/2\"}, {\"name\": \"6\", \"x\": 250, \"y\": 150, \"t\": 1, \"phase\": \"\\u03c0\"}, {\"name\": \"8\", \"x\": 300, \"y\": 100, \"t\": 1, \"phase\": \"\"}, {\"name\": \"12\", \"x\": 450, \"y\": 100, \"t\": 0, \"phase\": \"\"}, {\"name\": \"13\", \"x\": 450, \"y\": 150, \"t\": 0, \"phase\": \"\"}], \"links\": [{\"source\": \"0\", \"target\": \"2\", \"t\": 1}, {\"source\": \"1\", \"target\": \"4\", \"t\": 2}, {\"source\": \"2\", \"target\": \"8\", \"t\": 2}, {\"source\": \"4\", \"target\": \"6\", \"t\": 2}, {\"source\": \"6\", \"target\": \"8\", \"t\": 2}, {\"source\": \"6\", \"target\": \"13\", \"t\": 1}, {\"source\": \"8\", \"target\": \"12\", \"t\": 2}]}'), 500, 200, 50, 10.0, true, false);\n",
       "});\n",
       "</script>"
      ],
      "text/plain": [
       "<IPython.core.display.HTML object>"
      ]
     },
     "metadata": {},
     "output_type": "display_data"
    },
    {
     "name": "stdout",
     "output_type": "stream",
     "text": [
      "And back!\n"
     ]
    },
    {
     "data": {
      "image/png": "[encoded data removed]",
      "text/plain": [
       "<Figure size 432x288 with 1 Axes>"
      ]
     },
     "metadata": {},
     "output_type": "display_data"
    },
    {
     "data": {
      "text/plain": [
       "<AxesSubplot:>"
      ]
     },
     "execution_count": 11,
     "metadata": {},
     "output_type": "execute_result"
    }
   ],
   "source": [
    "from pyzx import generate, simplify\n",
    "\n",
    "graph = generate.cliffordT(2, 5)\n",
    "print(\"From DisCoPy:\")\n",
    "Diagram.from_pyzx(graph).draw()\n",
    "\n",
    "print(\"To PyZX:\")\n",
    "draw(graph)\n",
    "simplify.full_reduce(graph)\n",
    "draw(graph)\n",
    "\n",
    "print(\"And back!\")\n",
    "Diagram.from_pyzx(graph).draw()"
   ]
  },
  {
   "cell_type": "markdown",
   "metadata": {},
   "source": [
    "## 3. Parametrised diagrams, formal sums and automatic gradients"
   ]
  },
  {
   "cell_type": "code",
   "execution_count": 12,
   "metadata": {},
   "outputs": [
    {
     "data": {
      "image/png": "[encoded data removed]",
      "text/plain": [
       "<Figure size 432x288 with 1 Axes>"
      ]
     },
     "metadata": {},
     "output_type": "display_data"
    }
   ],
   "source": [
    "from sympy.abc import phi\n",
    "from discopy import drawing\n",
    "from discopy.quantum import *\n",
    "\n",
    "circuit = sqrt(2) @ Ket(0, 0) >> H @ Rx(phi) >> CX >> Bra(0, 1)\n",
    "drawing.equation(circuit, circuit.subs(phi, .5), symbol=\"|-->\")"
   ]
  },
  {
   "cell_type": "code",
   "execution_count": 13,
   "metadata": {},
   "outputs": [
    {
     "data": {
      "image/png": "[encoded data removed]",
      "text/plain": [
       "<Figure size 432x288 with 1 Axes>"
      ]
     },
     "metadata": {},
     "output_type": "display_data"
    }
   ],
   "source": [
    "gradient = scalar(1j) @ (circuit >> circuit[::-1]).grad(phi)\n",
    "gradient.draw()"
   ]
  },
  {
   "cell_type": "code",
   "execution_count": 14,
   "metadata": {},
   "outputs": [],
   "source": [
    "import numpy as np\n",
    "\n",
    "x = np.arange(0, 1, 0.05)\n",
    "y = np.array([circuit.subs(phi, i).measure() for i in x])\n",
    "dy = np.array([gradient.subs(phi, i).eval().array for i in x])"
   ]
  },
  {
   "cell_type": "code",
   "execution_count": 15,
   "metadata": {},
   "outputs": [
    {
     "data": {
      "text/plain": [
       "Text(0, 0.5, 'Gradient')"
      ]
     },
     "execution_count": 15,
     "metadata": {},
     "output_type": "execute_result"
    },
    {
     "data": {
      "image/png": "[encoded data removed]",
      "text/plain": [
       "<Figure size 432x288 with 2 Axes>"
      ]
     },
     "metadata": {
      "needs_background": "light"
     },
     "output_type": "display_data"
    }
   ],
   "source": [
    "from matplotlib import pyplot as plt\n",
    "\n",
    "plt.subplot(2, 1, 1)\n",
    "plt.plot(x, y)\n",
    "plt.ylabel(\"Amplitude\")\n",
    "\n",
    "plt.subplot(2, 1, 2)\n",
    "plt.plot(x, dy)\n",
    "plt.ylabel(\"Gradient\")"
   ]
  }
 ],
 "metadata": {
  "kernelspec": {
   "display_name": "Python 3",
   "language": "python",
   "name": "python3"
  },
  "language_info": {
   "codemirror_mode": {
    "name": "ipython",
    "version": 3
   },
   "file_extension": ".py",
   "mimetype": "text/x-python",
   "name": "python",
   "nbconvert_exporter": "python",
   "pygments_lexer": "ipython3",
   "version": "3.8.5"
  }
 },
 "nbformat": 4,
 "nbformat_minor": 4
}
