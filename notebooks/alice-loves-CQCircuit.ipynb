{
 "cells": [
  {
   "cell_type": "code",
   "execution_count": 1,
   "metadata": {},
   "outputs": [
    {
     "name": "stdout",
     "output_type": "stream",
     "text": [
      "Vocabulary:\n",
      "Word('Alice', Ty('n'))\n",
      "Word('loves', Ty(Ob('n', z=1), 's', Ob('n', z=-1)))\n",
      "Word('Bob', Ty('n'))\n"
     ]
    }
   ],
   "source": [
    "from discopy import Ty, Word\n",
    "\n",
    "s, n = Ty('s'), Ty('n')\n",
    "Alice, loves, Bob = Word('Alice', n), Word('loves', n.r @ s @ n.l), Word('Bob', n)\n",
    "\n",
    "print(\"Vocabulary:\\n{}\".format('\\n'.join(map(repr, [Alice, loves, Bob]))))"
   ]
  },
  {
   "cell_type": "code",
   "execution_count": 2,
   "metadata": {},
   "outputs": [
    {
     "name": "stdout",
     "output_type": "stream",
     "text": [
      "Diagram for 'Alice loves Bob':\n"
     ]
    },
    {
     "data": {
      "image/png": "[encoded data removed]",
      "text/plain": [
       "<Figure size 432x288 with 1 Axes>"
      ]
     },
     "metadata": {
      "needs_background": "light"
     },
     "output_type": "display_data"
    }
   ],
   "source": [
    "from discopy import Diagram, Id, Box, Cup, Cap\n",
    "from discopy.grammar import draw\n",
    "\n",
    "grammar = Cup(n, n.r) @ Id(s) @ Cup(n.l, n)\n",
    "\n",
    "sentences = {\"{} {} {}.\".format(subj, verb, obj): subj @ verb @ obj >> grammar\n",
    "             for subj in [Alice, Bob] for verb in [loves] for obj in [Alice, Bob]}\n",
    "\n",
    "print(\"Diagram for 'Alice loves Bob':\")\n",
    "draw(sentences[\"Alice loves Bob.\"], draw_types=True)"
   ]
  },
  {
   "cell_type": "code",
   "execution_count": 3,
   "metadata": {},
   "outputs": [
    {
     "name": "stdout",
     "output_type": "stream",
     "text": [
      "Diagram for 'Alice loves Bob', with snakes removed:\n"
     ]
    },
    {
     "data": {
      "image/png": "[encoded data removed]",
      "text/plain": [
       "<Figure size 432x288 with 1 Axes>"
      ]
     },
     "metadata": {},
     "output_type": "display_data"
    },
    {
     "data": {
      "text/plain": [
       "<matplotlib.axes._subplots.AxesSubplot at 0x12e4e18e0>"
      ]
     },
     "execution_count": 3,
     "metadata": {},
     "output_type": "execute_result"
    }
   ],
   "source": [
    "from discopy import Functor\n",
    "\n",
    "love_box = Box('loves', n @ n, s)\n",
    "love_ansatz = Cap(n.r, n) @ Cap(n, n.l) >> Id(n.r) @ love_box @ Id(n.l)\n",
    "\n",
    "A = Functor(\n",
    "    ob={s: s, n: n},\n",
    "    ar={Alice: Alice, Bob: Bob, loves: love_ansatz})\n",
    "\n",
    "diagrams = {string: A(sentence).normal_form() for string, sentence in sentences.items()}\n",
    "\n",
    "print(\"Diagram for 'Alice loves Bob', with snakes removed:\")\n",
    "diagrams[\"Alice loves Bob.\"].draw()"
   ]
  },
  {
   "cell_type": "code",
   "execution_count": 4,
   "metadata": {},
   "outputs": [
    {
     "name": "stdout",
     "output_type": "stream",
     "text": [
      "Grammatical sentences:\n",
      "Alice loves Alice.\n",
      "Alice loves Bob.\n",
      "Bob loves Alice.\n",
      "Bob loves Bob.\n"
     ]
    }
   ],
   "source": [
    "sentences = list(sentences.keys())\n",
    "print(\"Grammatical sentences:\\n{}\".format('\\n'.join(sentences)))"
   ]
  },
  {
   "cell_type": "code",
   "execution_count": 20,
   "metadata": {},
   "outputs": [],
   "source": [
    "from discopy.quantum import Ket, H, Rx, CX, sqrt, Measure, CGate\n",
    "\n",
    "def weights(params):\n",
    "    return CGate(\"weights: {}\".format(list(params)), 2, 0, params)\n",
    "\n",
    "def verb_ansatz(params):\n",
    "    return CX >> sqrt(2) @ H @ Rx(params[0])\\\n",
    "        >> Measure(2) >> weights(params[1:])\n",
    "\n",
    "params0 = [0.5, 1., 0., 0., 0.]"
   ]
  },
  {
   "cell_type": "code",
   "execution_count": 21,
   "metadata": {},
   "outputs": [
    {
     "name": "stdout",
     "output_type": "stream",
     "text": [
      "Circuit for 'Alice loves Bob':\n"
     ]
    },
    {
     "data": {
      "image/png": "[encoded data removed]",
      "text/plain": [
       "<Figure size 360x360 with 1 Axes>"
      ]
     },
     "metadata": {},
     "output_type": "display_data"
    },
    {
     "data": {
      "text/plain": [
       "<matplotlib.axes._subplots.AxesSubplot at 0x12e41d190>"
      ]
     },
     "execution_count": 21,
     "metadata": {},
     "output_type": "execute_result"
    }
   ],
   "source": [
    "from discopy.quantum import bit, qubit, BitsAndQubits, CQCircuit\n",
    "\n",
    "ob = {s: Ty(), n: qubit}\n",
    "ar = lambda params: {\n",
    "    Alice: Ket(0), Bob: Ket(1),\n",
    "    love_box: verb_ansatz(params)}\n",
    "\n",
    "F = lambda params: Functor(ob, ar(params), ob_factory=BitsAndQubits, ar_factory=CQCircuit)\n",
    "\n",
    "print(\"Circuit for 'Alice loves Bob':\")\n",
    "F(params0)(diagrams['Alice loves Bob.']).draw(\n",
    "    aspect='auto', draw_types=False, figsize=(5, 5))"
   ]
  },
  {
   "cell_type": "code",
   "execution_count": 39,
   "metadata": {},
   "outputs": [
    {
     "name": "stdout",
     "output_type": "stream",
     "text": [
      "True sentences:\n",
      "Alice loves Bob.\n",
      "Bob loves Alice.\n",
      "\n",
      "False sentences:\n",
      "Alice loves Alice.\n",
      "Bob loves Bob.\n"
     ]
    }
   ],
   "source": [
    "from jax import jit\n",
    "\n",
    "epsilon = 1e-2\n",
    "\n",
    "def evaluate(params, sentence):\n",
    "    return F(params)(diagrams[sentence]).eval().array.real\n",
    "\n",
    "@jit\n",
    "def corpus(params):\n",
    "    return {sentence: evaluate(params, sentence) for sentence in sentences}\n",
    "\n",
    "corpus0 = corpus(params0)\n",
    "\n",
    "print(\"True sentences:\\n{}\\n\".format('\\n'.join(sentence\n",
    "    for sentence, probability in corpus0.items() if probability > 1 - epsilon)))\n",
    "print(\"False sentences:\\n{}\".format('\\n'.join(sentence\n",
    "    for sentence, probability in corpus0.items() if probability < epsilon)))"
   ]
  },
  {
   "cell_type": "code",
   "execution_count": 40,
   "metadata": {},
   "outputs": [
    {
     "data": {
      "text/plain": [
       "[DeviceArray(0., dtype=float32),\n",
       " DeviceArray(-0., dtype=float32),\n",
       " DeviceArray(-0., dtype=float32),\n",
       " DeviceArray(-0., dtype=float32),\n",
       " DeviceArray(-0., dtype=float32)]"
      ]
     },
     "execution_count": 40,
     "metadata": {},
     "output_type": "execute_result"
    }
   ],
   "source": [
    "import jax.numpy as np\n",
    "from jax import grad\n",
    "\n",
    "def mean_squared(y_true, y_pred):\n",
    "    return np.mean((np.array(y_true) - np.array(y_pred)) ** 2)\n",
    "\n",
    "@jit\n",
    "def mean_squared_loss(params):\n",
    "    c = corpus(params)\n",
    "    return mean_squared(*zip(*[(corpus0[sentence], c[sentence]) for sentence in sentences]))\n",
    "\n",
    "grad(mean_squared_loss)(params0)"
   ]
  },
  {
   "cell_type": "code",
   "execution_count": 41,
   "metadata": {},
   "outputs": [],
   "source": [
    "from jax import vmap\n",
    "\n",
    "f = lambda x: mean_squared_loss([x] + params0[1:])\n",
    "x = np.arange(0.0, 1.0, 0.01)\n",
    "y = vmap(f)(x)\n",
    "dy = vmap(grad(f))(x)"
   ]
  },
  {
   "cell_type": "code",
   "execution_count": 42,
   "metadata": {},
   "outputs": [
    {
     "data": {
      "image/png": "[encoded data removed]",
      "text/plain": [
       "<Figure size 864x360 with 2 Axes>"
      ]
     },
     "metadata": {
      "needs_background": "light"
     },
     "output_type": "display_data"
    }
   ],
   "source": [
    "import matplotlib.pyplot as plt\n",
    "\n",
    "plt.rcParams[\"figure.figsize\"] = (12, 5)\n",
    "\n",
    "plt.subplot(2, 1, 1)\n",
    "plt.plot(x, y)\n",
    "plt.title(\"functorial landscape for 'loves'\")\n",
    "plt.ylabel('loss')\n",
    "\n",
    "plt.subplot(2, 1, 2)\n",
    "plt.plot(x, dy)\n",
    "plt.xlabel('phase')\n",
    "plt.ylabel('grad')\n",
    "plt.show()"
   ]
  },
  {
   "cell_type": "code",
   "execution_count": 43,
   "metadata": {},
   "outputs": [
    {
     "name": "stdout",
     "output_type": "stream",
     "text": [
      "Training set:\n",
      "Bob loves Bob.\n",
      "Alice loves Alice.\n",
      "Bob loves Alice.\n",
      "\n",
      "Testing set:\n",
      "Does Alice love Bob?\n"
     ]
    }
   ],
   "source": [
    "from sklearn.model_selection import train_test_split\n",
    "\n",
    "sentence_train, sentence_test = train_test_split(sentences, test_size=0.25, random_state=42)\n",
    "\n",
    "print(\"Training set:\\n{}\\n\".format('\\n'.join(sentence_train)))\n",
    "print(\"Testing set:\\n{}\".format('\\n'.join(map(\n",
    "    lambda x: 'Does ' + x.replace('loves', 'love').replace('.', '?'), sentence_test))))"
   ]
  },
  {
   "cell_type": "code",
   "execution_count": 45,
   "metadata": {},
   "outputs": [
    {
     "name": "stdout",
     "output_type": "stream",
     "text": [
      "8.566 seconds to compile the update function just in time:\n",
      "[0.5 1.  0.  0.  0. ]\n"
     ]
    }
   ],
   "source": [
    "from jax import jit\n",
    "from time import time\n",
    "\n",
    "loss = {\n",
    "    sentence: lambda params:\n",
    "        mean_squared(corpus0[sentence], evaluate(params, sentence))\n",
    "        for sentence in sentences}\n",
    "\n",
    "step_size = 1e-2\n",
    "\n",
    "@jit\n",
    "def update(params):\n",
    "    for sentence in sentence_train:\n",
    "        params = params - step_size * grad(loss[sentence])(params)\n",
    "    return params\n",
    "\n",
    "start = time()\n",
    "print(\"{1:.3f} seconds to compile the update function just in time:\\n{0}\".format(\n",
    "    update(np.array(params0)), time() - start))"
   ]
  },
  {
   "cell_type": "code",
   "execution_count": 47,
   "metadata": {},
   "outputs": [
    {
     "name": "stdout",
     "output_type": "stream",
     "text": [
      "2.698 seconds to compile the testing loss of params0 (0.0)\n"
     ]
    }
   ],
   "source": [
    "@jit\n",
    "def testing_loss(params):\n",
    "    return np.mean(np.array([loss[sentence](params) for sentence in sentence_test]))\n",
    "\n",
    "start = time()\n",
    "print(\"{1:.3f} seconds to compile the testing loss of params0 ({0})\".format(\n",
    "    testing_loss(params0), time() - start))"
   ]
  },
  {
   "cell_type": "code",
   "execution_count": 62,
   "metadata": {},
   "outputs": [
    {
     "name": "stdout",
     "output_type": "stream",
     "text": [
      "Random parameter initialisation...\n",
      "Initial parameters: [0.02634338 0.78136903 0.27260637 0.0955924  0.6636843 ]\n",
      "Initial testing loss: 0.76977\n",
      "\n",
      "Epoch 0 (5.787 milliseconds)\n",
      "Testing loss: 0.06664\n",
      "params = [ 0.00274024  0.47193706  0.27174383 -0.21383967  0.66282177]\n",
      "\n",
      "Epoch 1 (5.797 milliseconds)\n",
      "Testing loss: 0.00575\n",
      "params = [ 0.00066911  0.38080707  0.27174136 -0.30496967  0.66281945]\n",
      "\n",
      "Epoch 2 (4.343 milliseconds)\n",
      "Testing loss: 0.00050\n",
      "params = [ 4.1753100e-04  3.5403037e-01  2.7174136e-01 -3.3174637e-01\n",
      "  6.6281945e-01]\n",
      "\n",
      "Epoch 3 (4.782 milliseconds)\n",
      "Testing loss: 0.00004\n",
      "params = [ 3.6180715e-04  3.4616208e-01  2.7174136e-01 -3.3961466e-01\n",
      "  6.6281945e-01]\n",
      "\n",
      "Epoch 4 (5.343 milliseconds)\n",
      "Testing loss: 0.00000\n",
      "params = [ 3.4675619e-04  3.4384999e-01  2.7174136e-01 -3.4192675e-01\n",
      "  6.6281945e-01]\n",
      "\n",
      "Epoch 5 (3.200 milliseconds)\n",
      "Testing loss: 0.00000\n",
      "params = [ 3.4244204e-04  3.4317055e-01  2.7174136e-01 -3.4260619e-01\n",
      "  6.6281945e-01]\n",
      "\n",
      "Epoch 6 (4.261 milliseconds)\n",
      "Testing loss: 0.00000\n",
      "params = [ 3.4118354e-04  3.4297091e-01  2.7174136e-01 -3.4280583e-01\n",
      "  6.6281945e-01]\n",
      "\n"
     ]
    }
   ],
   "source": [
    "from random import random, seed; seed(420)\n",
    "\n",
    "print(\"Random parameter initialisation...\")\n",
    "\n",
    "params = np.array([random() for _ in range(5)])\n",
    "print(\"Initial parameters: {}\".format(params))\n",
    "\n",
    "print(\"Initial testing loss: {:.5f}\\n\".format(testing_loss(params)))\n",
    "\n",
    "epochs, iterations = 7, 10\n",
    "\n",
    "for epoch in range(epochs):\n",
    "    start = time()\n",
    "    for i in range(iterations):\n",
    "        params = update(params)\n",
    "\n",
    "    print(\"Epoch {} ({:.3f} milliseconds)\".format(epoch, 1e3 * (time() - start)))\n",
    "    print(\"Testing loss: {:.5f}\".format(testing_loss(params)))\n",
    "    print(\"params = {}\\n\".format(params))"
   ]
  },
  {
   "cell_type": "code",
   "execution_count": 63,
   "metadata": {},
   "outputs": [
    {
     "name": "stdout",
     "output_type": "stream",
     "text": [
      "Does Alice love Bob?\n",
      "Yes\n"
     ]
    }
   ],
   "source": [
    "print(\"Does Alice love Bob?\")\n",
    "print(\"Yes\" if evaluate(params, 'Alice loves Bob.') > .9 else \"No\")"
   ]
  },
  {
   "cell_type": "code",
   "execution_count": 64,
   "metadata": {},
   "outputs": [
    {
     "name": "stdout",
     "output_type": "stream",
     "text": [
      "Alice loves Alice. 0.00016613459\n",
      "Alice loves Bob. 0.9345595\n",
      "Bob loves Alice. 0.9345595\n",
      "Bob loves Bob. 0.00016613459\n"
     ]
    }
   ],
   "source": [
    "for x, y in corpus(params).items(): print(x, y)"
   ]
  },
  {
   "cell_type": "code",
   "execution_count": null,
   "metadata": {},
   "outputs": [],
   "source": []
  }
 ],
 "metadata": {
  "kernelspec": {
   "display_name": "Python 3",
   "language": "python",
   "name": "python3"
  },
  "language_info": {
   "codemirror_mode": {
    "name": "ipython",
    "version": 3
   },
   "file_extension": ".py",
   "mimetype": "text/x-python",
   "name": "python",
   "nbconvert_exporter": "python",
   "pygments_lexer": "ipython3",
   "version": "3.8.2"
  }
 },
 "nbformat": 4,
 "nbformat_minor": 2
}
