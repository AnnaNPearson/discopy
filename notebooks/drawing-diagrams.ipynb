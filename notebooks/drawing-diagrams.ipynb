{
 "cells": [
  {
   "cell_type": "code",
   "execution_count": 1,
   "metadata": {},
   "outputs": [],
   "source": [
    "import ipywidgets as widgets\n",
    "from ipywidgets import interact, interact_manual\n",
    "from discopy import *\n",
    "\n",
    "def inormalize(diagram):\n",
    "    steps = [diagram] + list(diagram.normalize())\n",
    "    @interact\n",
    "    def widget(step=(0, len(steps) - 1, 1)):\n",
    "        steps[step].draw()"
   ]
  },
  {
   "cell_type": "code",
   "execution_count": 2,
   "metadata": {
    "scrolled": false
   },
   "outputs": [
    {
     "data": {
      "application/vnd.jupyter.widget-view+json": {
       "model_id": "7c63277ddc9f4cb6b4584bb2c10a16f8",
       "version_major": 2,
       "version_minor": 0
      },
      "text/plain": [
       "interactive(children=(IntSlider(value=2, description='step', max=4), Output()), _dom_classes=('widget-interact…"
      ]
     },
     "metadata": {},
     "output_type": "display_data"
    }
   ],
   "source": [
    "x, y = Ty('x'), Ty('y')\n",
    "f, g = moncat.Box('f', x, x @ y), moncat.Box('g', y @ x, x)\n",
    "d = moncat.Diagram(x @ x, x @ x, [f, g], [0, 1])\n",
    "diagram = (d @ d.dagger() >> d.dagger() @ d)\n",
    "inormalize(diagram)"
   ]
  },
  {
   "cell_type": "code",
   "execution_count": 3,
   "metadata": {},
   "outputs": [
    {
     "data": {
      "application/vnd.jupyter.widget-view+json": {
       "model_id": "0a41c4d23c1d4a9a91437e1061d27192",
       "version_major": 2,
       "version_minor": 0
      },
      "text/plain": [
       "interactive(children=(IntSlider(value=28, description='step', max=56), Output()), _dom_classes=('widget-intera…"
      ]
     },
     "metadata": {},
     "output_type": "display_data"
    }
   ],
   "source": [
    "inormalize(moncat._spiral(3))"
   ]
  },
  {
   "cell_type": "code",
   "execution_count": 4,
   "metadata": {},
   "outputs": [
    {
     "data": {
      "application/vnd.jupyter.widget-view+json": {
       "model_id": "a443285b29e340fa8dac23d157ac0023",
       "version_major": 2,
       "version_minor": 0
      },
      "text/plain": [
       "interactive(children=(IntSlider(value=50, description='step', max=101), Output()), _dom_classes=('widget-inter…"
      ]
     },
     "metadata": {},
     "output_type": "display_data"
    }
   ],
   "source": [
    "a, b, c, d = Ty('a'), Ty('b'), Ty('c'), Ty('d')\n",
    "snake = Box('f', a @ b, c @ d)\\\n",
    "    .transpose_l().transpose_l()\\\n",
    "    .transpose_r().transpose_r()\\\n",
    "    .transpose_l().transpose_r()\n",
    "inormalize(snake)"
   ]
  },
  {
   "cell_type": "code",
   "execution_count": 5,
   "metadata": {},
   "outputs": [
    {
     "data": {
      "application/vnd.jupyter.widget-view+json": {
       "model_id": "9e0aedc3a02547ea8b8efd8bddd62236",
       "version_major": 2,
       "version_minor": 0
      },
      "text/plain": [
       "interactive(children=(IntSlider(value=3, description='step', max=7), Output()), _dom_classes=('widget-interact…"
      ]
     },
     "metadata": {},
     "output_type": "display_data"
    }
   ],
   "source": [
    "s, n = Ty('s'), Ty('n')\n",
    "Alice, Bob = Word('Alice', n), Word('Bob', n)\n",
    "loves_box = Box('loves', n @ n, s)\n",
    "loves = Cap(n.r, n) @ Cap(n, n.l)\\\n",
    "    >> Id(n.r) @ loves_box @ Id(n.l)\n",
    "grammar = Cup(n, n.r) @ Id(s) @ Cup(n.l, n)\n",
    "sentence = Alice @ loves @ Bob >> grammar\n",
    "inormalize(sentence)"
   ]
  },
  {
   "cell_type": "code",
   "execution_count": 7,
   "metadata": {},
   "outputs": [
    {
     "data": {
      "text/plain": [
       "Matrix(dom=Dim(1), cod=Dim(1), array=[0.99999994])"
      ]
     },
     "execution_count": 7,
     "metadata": {},
     "output_type": "execute_result"
    }
   ],
   "source": [
    "loves_ansatz = circuit.CX\\\n",
    "    >> circuit.sqrt(2) @ circuit.H @ circuit.X\\\n",
    "    >> Bra(0, 0)\n",
    "ob = {s: 0, n: 1}\n",
    "ar = {Alice: Ket(0), loves_box: loves_ansatz, Bob: Ket(1)}\n",
    "F = CircuitFunctor(ob, ar)\n",
    "F(sentence.normal_form()).eval()"
   ]
  },
  {
   "cell_type": "code",
   "execution_count": null,
   "metadata": {},
   "outputs": [],
   "source": []
  }
 ],
 "metadata": {
  "kernelspec": {
   "display_name": "Python 3",
   "language": "python",
   "name": "python3"
  },
  "language_info": {
   "codemirror_mode": {
    "name": "ipython",
    "version": 3
   },
   "file_extension": ".py",
   "mimetype": "text/x-python",
   "name": "python",
   "nbconvert_exporter": "python",
   "pygments_lexer": "ipython3",
   "version": "3.7.5"
  }
 },
 "nbformat": 4,
 "nbformat_minor": 2
}
