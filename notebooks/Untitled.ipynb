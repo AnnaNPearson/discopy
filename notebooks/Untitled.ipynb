{
 "cells": [
  {
   "cell_type": "code",
   "execution_count": 1,
   "metadata": {},
   "outputs": [],
   "source": [
    "import ipywidgets as widgets\n",
    "from ipywidgets import interact, interact_manual"
   ]
  },
  {
   "cell_type": "code",
   "execution_count": 2,
   "metadata": {},
   "outputs": [],
   "source": [
    "from discopy import *"
   ]
  },
  {
   "cell_type": "code",
   "execution_count": 5,
   "metadata": {},
   "outputs": [],
   "source": [
    "def stepwise_normal_form(diagram, left=False):\n",
    "    diagrams = [diagram]\n",
    "    while True:\n",
    "        _diagram = diagram\n",
    "        for i in range(len(diagram) - 1):\n",
    "            box0, box1 = diagram.boxes[i], diagram.boxes[i + 1]\n",
    "            off0, off1 = diagram.offsets[i], diagram.offsets[i + 1]\n",
    "            if left and off1 >= off0 + len(box0.cod)\\\n",
    "                    or not left and off0 >= off1 + len(box1.dom):\n",
    "                try:\n",
    "                    diagram = diagram.interchange(i, i + 1, left=left)\n",
    "                    diagrams.append(diagram)\n",
    "                    break\n",
    "                except InterchangerError:\n",
    "                    pass\n",
    "        if diagram == _diagram:  # no more moves\n",
    "            break\n",
    "    return diagrams"
   ]
  },
  {
   "cell_type": "code",
   "execution_count": 13,
   "metadata": {},
   "outputs": [],
   "source": [
    "diagrams = stepwise_normal_form(moncat._spiral(6))"
   ]
  },
  {
   "cell_type": "code",
   "execution_count": 14,
   "metadata": {},
   "outputs": [
    {
     "data": {
      "application/vnd.jupyter.widget-view+json": {
       "model_id": "29aa8f0688864c0190f15dce0b70f563",
       "version_major": 2,
       "version_minor": 0
      },
      "text/plain": [
       "interactive(children=(IntSlider(value=182, description='steps', max=364), Output()), _dom_classes=('widget-int…"
      ]
     },
     "metadata": {},
     "output_type": "display_data"
    }
   ],
   "source": [
    "@interact\n",
    "def normalise(steps=(0, len(diagrams) - 1, 1)):\n",
    "    diagrams[steps].draw()"
   ]
  },
  {
   "cell_type": "code",
   "execution_count": null,
   "metadata": {},
   "outputs": [],
   "source": []
  }
 ],
 "metadata": {
  "kernelspec": {
   "display_name": "Python 3",
   "language": "python",
   "name": "python3"
  },
  "language_info": {
   "codemirror_mode": {
    "name": "ipython",
    "version": 3
   },
   "file_extension": ".py",
   "mimetype": "text/x-python",
   "name": "python",
   "nbconvert_exporter": "python",
   "pygments_lexer": "ipython3",
   "version": "3.7.5"
  }
 },
 "nbformat": 4,
 "nbformat_minor": 2
}
