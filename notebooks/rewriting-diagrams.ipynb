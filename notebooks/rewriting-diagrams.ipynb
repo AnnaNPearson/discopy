{
 "cells": [
  {
   "cell_type": "code",
   "execution_count": 1,
   "metadata": {},
   "outputs": [],
   "source": [
    "from discopy import *\n",
    "from IPython.display import HTML\n",
    "FOLDER = '../docs/imgs/'\n",
    "def inormalize(diagram, gif, **params):\n",
    "    diagram.to_gif(FOLDER + gif, loop=True, **params)\n",
    "    return HTML('<img src=\"{}\">'.format(FOLDER + gif))"
   ]
  },
  {
   "cell_type": "code",
   "execution_count": 2,
   "metadata": {
    "scrolled": false
   },
   "outputs": [
    {
     "data": {
      "text/html": [
       "<img src=\"../docs/imgs/simple-rewrite.gif\">"
      ],
      "text/plain": [
       "<IPython.core.display.HTML object>"
      ]
     },
     "execution_count": 2,
     "metadata": {},
     "output_type": "execute_result"
    }
   ],
   "source": [
    "x, y = Ty('x'), Ty('y')\n",
    "d = Box('f', x, x @ y) @ Id(x) >> Id(x) @ Box('g', y @ x, x)\n",
    "diagram = (d @ d.dagger() >> d.dagger() @ d)\n",
    "inormalize(diagram, 'simple-rewrite.gif', aspect='auto')"
   ]
  },
  {
   "cell_type": "code",
   "execution_count": 3,
   "metadata": {},
   "outputs": [
    {
     "data": {
      "text/html": [
       "<img src=\"../docs/imgs/spiral.gif\">"
      ],
      "text/plain": [
       "<IPython.core.display.HTML object>"
      ]
     },
     "execution_count": 3,
     "metadata": {},
     "output_type": "execute_result"
    }
   ],
   "source": [
    "inormalize(moncat.spiral(3), 'spiral.gif', draw_types=False)"
   ]
  },
  {
   "cell_type": "code",
   "execution_count": 4,
   "metadata": {},
   "outputs": [
    {
     "data": {
      "text/html": [
       "<img src=\"../docs/imgs/snake-removal.gif\">"
      ],
      "text/plain": [
       "<IPython.core.display.HTML object>"
      ]
     },
     "execution_count": 4,
     "metadata": {},
     "output_type": "execute_result"
    }
   ],
   "source": [
    "a, b, c, d = Ty('a'), Ty('b'), Ty('c'), Ty('d')\n",
    "snake = Box('f', a @ b, c @ d).transpose_l().transpose_r()\n",
    "inormalize(snake, 'snake-removal.gif', draw_types=False)"
   ]
  },
  {
   "cell_type": "code",
   "execution_count": 5,
   "metadata": {},
   "outputs": [
    {
     "name": "stdout",
     "output_type": "stream",
     "text": [
      "NotImplementedError(\"s0 >> s1 is not connected.\")\n"
     ]
    }
   ],
   "source": [
    "Eckmann_Hilton = Box('s0', Ty(), Ty()) @ Box('s1', Ty(), Ty())\n",
    "try:\n",
    "    Eckmann_Hilton.normal_form()\n",
    "except NotImplementedError as err:\n",
    "    print(\"NotImplementedError(\\\"{}\\\")\".format(err))"
   ]
  },
  {
   "cell_type": "code",
   "execution_count": 7,
   "metadata": {},
   "outputs": [
    {
     "data": {
      "text/html": [
       "<img src=\"../docs/imgs/EckmannHilton.gif\">"
      ],
      "text/plain": [
       "<IPython.core.display.HTML object>"
      ]
     },
     "execution_count": 7,
     "metadata": {},
     "output_type": "execute_result"
    }
   ],
   "source": [
    "inormalize(Eckmann_Hilton, 'EckmannHilton.gif', figsize=(2, 2))"
   ]
  },
  {
   "cell_type": "code",
   "execution_count": null,
   "metadata": {},
   "outputs": [],
   "source": []
  }
 ],
 "metadata": {
  "kernelspec": {
   "display_name": "Python 3",
   "language": "python",
   "name": "python3"
  },
  "language_info": {
   "codemirror_mode": {
    "name": "ipython",
    "version": 3
   },
   "file_extension": ".py",
   "mimetype": "text/x-python",
   "name": "python",
   "nbconvert_exporter": "python",
   "pygments_lexer": "ipython3",
   "version": "3.7.5"
  }
 },
 "nbformat": 4,
 "nbformat_minor": 2
}
