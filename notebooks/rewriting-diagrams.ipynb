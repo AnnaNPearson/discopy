{
 "cells": [
  {
   "cell_type": "code",
   "execution_count": 1,
   "metadata": {},
   "outputs": [],
   "source": [
    "from ipywidgets import interact\n",
    "from discopy import *\n",
    "\n",
    "_print = lambda circuit: print(str(circuit).replace('>>', '\\n>>'))"
   ]
  },
  {
   "cell_type": "code",
   "execution_count": 2,
   "metadata": {},
   "outputs": [],
   "source": [
    "def inormalize(diagram):\n",
    "    steps = [diagram] + list(diagram.normalize())\n",
    "    @interact\n",
    "    def widget(step=(0, len(steps) - 1, 1)):\n",
    "        steps[step].draw()"
   ]
  },
  {
   "cell_type": "code",
   "execution_count": 3,
   "metadata": {
    "scrolled": false
   },
   "outputs": [
    {
     "data": {
      "application/vnd.jupyter.widget-view+json": {
       "model_id": "191ff0a3abc1478c8d1a0c948e157545",
       "version_major": 2,
       "version_minor": 0
      },
      "text/plain": [
       "interactive(children=(IntSlider(value=2, description='step', max=4), Output()), _dom_classes=('widget-interact…"
      ]
     },
     "metadata": {},
     "output_type": "display_data"
    }
   ],
   "source": [
    "x, y = Ty('x'), Ty('y')\n",
    "d = Box('f', x, x @ y) @ Id(x) >> Id(x) @ Box('g', y @ x, x)\n",
    "diagram = (d @ d.dagger() >> d.dagger() @ d)\n",
    "inormalize(diagram)"
   ]
  },
  {
   "cell_type": "code",
   "execution_count": 4,
   "metadata": {},
   "outputs": [
    {
     "data": {
      "application/vnd.jupyter.widget-view+json": {
       "model_id": "48fd296d36e94bfe9b5ed8aa60b3bb84",
       "version_major": 2,
       "version_minor": 0
      },
      "text/plain": [
       "interactive(children=(IntSlider(value=28, description='step', max=56), Output()), _dom_classes=('widget-intera…"
      ]
     },
     "metadata": {},
     "output_type": "display_data"
    }
   ],
   "source": [
    "inormalize(moncat.build_spiral(3))"
   ]
  },
  {
   "cell_type": "code",
   "execution_count": 5,
   "metadata": {},
   "outputs": [
    {
     "data": {
      "application/vnd.jupyter.widget-view+json": {
       "model_id": "5056fb74b76947a3be59478d708438e6",
       "version_major": 2,
       "version_minor": 0
      },
      "text/plain": [
       "interactive(children=(IntSlider(value=50, description='step', max=101), Output()), _dom_classes=('widget-inter…"
      ]
     },
     "metadata": {},
     "output_type": "display_data"
    }
   ],
   "source": [
    "a, b, c, d = Ty('a'), Ty('b'), Ty('c'), Ty('d')\n",
    "snake = Box('f', a @ b, c @ d)\\\n",
    "    .transpose_l().transpose_l()\\\n",
    "    .transpose_r().transpose_r()\\\n",
    "    .transpose_l().transpose_r()\n",
    "inormalize(snake)"
   ]
  },
  {
   "cell_type": "code",
   "execution_count": 6,
   "metadata": {},
   "outputs": [
    {
     "data": {
      "application/vnd.jupyter.widget-view+json": {
       "model_id": "8a6155b330be4ea1820963cabfb3e4c2",
       "version_major": 2,
       "version_minor": 0
      },
      "text/plain": [
       "interactive(children=(IntSlider(value=3, description='step', max=7), Output()), _dom_classes=('widget-interact…"
      ]
     },
     "metadata": {},
     "output_type": "display_data"
    }
   ],
   "source": [
    "s, n = Ty('s'), Ty('n')\n",
    "Alice, Bob = Word('Alice', n), Word('Bob', n)\n",
    "loves_box = Box('loves', n @ n, s)\n",
    "loves = Cap(n.r, n) @ Cap(n, n.l)\\\n",
    "    >> Id(n.r) @ loves_box @ Id(n.l)\n",
    "grammar = Cup(n, n.r) @ Id(s) @ Cup(n.l, n)\n",
    "sentence = Alice @ loves @ Bob >> grammar\n",
    "inormalize(sentence)"
   ]
  },
  {
   "cell_type": "code",
   "execution_count": 13,
   "metadata": {
    "scrolled": true
   },
   "outputs": [
    {
     "data": {
      "image/png": "[encoded data removed]",
      "text/plain": [
       "<Figure size 432x288 with 1 Axes>"
      ]
     },
     "metadata": {},
     "output_type": "display_data"
    }
   ],
   "source": [
    "loves_ansatz = circuit.CX\\\n",
    "    >> circuit.sqrt(2) @ circuit.H @ circuit.X\\\n",
    "    >> Bra(0, 0)\n",
    "ob = {s: 0, n: 1}\n",
    "ar = {Alice: Ket(0), loves_box: loves_ansatz, Bob: Ket(1)}\n",
    "F = CircuitFunctor(ob, ar)\n",
    "F(sentence).draw(aspect='auto')"
   ]
  },
  {
   "cell_type": "code",
   "execution_count": 8,
   "metadata": {},
   "outputs": [
    {
     "name": "stdout",
     "output_type": "stream",
     "text": [
      "Autonomising before applying the functor:\n",
      "Ket(0) \n",
      ">> Id(1) @ Ket(1) \n",
      ">> CX \n",
      ">> sqrt(2) @ Id(2) \n",
      ">> H @ Id(1) \n",
      ">> Id(1) @ X \n",
      ">> Bra(0, 0)\n"
     ]
    }
   ],
   "source": [
    "print(\"Autonomising before applying the functor:\")\n",
    "_print(F(sentence.normal_form()))"
   ]
  },
  {
   "cell_type": "code",
   "execution_count": 9,
   "metadata": {},
   "outputs": [],
   "source": [
    "assert F(sentence).eval() == F(sentence.normal_form()).eval()"
   ]
  },
  {
   "cell_type": "code",
   "execution_count": 10,
   "metadata": {},
   "outputs": [
    {
     "name": "stdout",
     "output_type": "stream",
     "text": [
      "NotImplementedError(\"s0 >> s1 is not connected.\")\n"
     ]
    }
   ],
   "source": [
    "Eckmann_Hilton = Box('s0', Ty(), Ty()) @ Box('s1', Ty(), Ty())\n",
    "try:\n",
    "    Eckmann_Hilton.normal_form()\n",
    "except NotImplementedError as err:\n",
    "    print(\"NotImplementedError(\\\"{}\\\")\".format(err))"
   ]
  },
  {
   "cell_type": "code",
   "execution_count": 11,
   "metadata": {},
   "outputs": [
    {
     "name": "stdout",
     "output_type": "stream",
     "text": [
      "s1 >> s0\n",
      "s0 >> s1\n",
      "s1 >> s0\n",
      "s0 >> s1\n",
      "s1 >> s0\n",
      "...\n"
     ]
    }
   ],
   "source": [
    "gen = Eckmann_Hilton.normalize()\n",
    "for _ in range(5):\n",
    "    print(next(gen))\n",
    "print('...')"
   ]
  }
 ],
 "metadata": {
  "kernelspec": {
   "display_name": "Python 3",
   "language": "python",
   "name": "python3"
  },
  "language_info": {
   "codemirror_mode": {
    "name": "ipython",
    "version": 3
   },
   "file_extension": ".py",
   "mimetype": "text/x-python",
   "name": "python",
   "nbconvert_exporter": "python",
   "pygments_lexer": "ipython3",
   "version": "3.7.5"
  }
 },
 "nbformat": 4,
 "nbformat_minor": 2
}
