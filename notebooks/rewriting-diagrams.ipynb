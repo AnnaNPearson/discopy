{
 "cells": [
  {
   "cell_type": "code",
   "execution_count": 1,
   "metadata": {},
   "outputs": [],
   "source": [
    "from discopy import Ty, Box, Id, Diagram\n",
    "\n",
    "folder = lambda file: '../docs/imgs/' + file\n",
    "params = {\n",
    "    'aspect': 'auto',\n",
    "    'loop': True,\n",
    "    'draw_types': False,\n",
    "}"
   ]
  },
  {
   "cell_type": "code",
   "execution_count": 2,
   "metadata": {
    "scrolled": false
   },
   "outputs": [
    {
     "data": {
      "text/html": [
       "<img src=\"../docs/imgs/simple-rewrite.gif\">"
      ],
      "text/plain": [
       "<IPython.core.display.HTML object>"
      ]
     },
     "execution_count": 2,
     "metadata": {},
     "output_type": "execute_result"
    }
   ],
   "source": [
    "x = Ty('x')\n",
    "copy, add = Box('copy', x, x @ x), Box('add', x @ x, x)\n",
    "CX = copy @ Id(x) >> Id(x) @ add\n",
    "XC = Id(x) @ copy >> add @ Id(x)\n",
    "diagram = CX @ XC >> XC @ CX\n",
    "rewrite_steps = diagram.normalize(left=True)\n",
    "\n",
    "diagram.to_gif(*rewrite_steps,\n",
    "               path=folder('simple-rewrite.gif'), **params)"
   ]
  },
  {
   "cell_type": "code",
   "execution_count": 3,
   "metadata": {},
   "outputs": [
    {
     "data": {
      "text/html": [
       "<img src=\"../docs/imgs/spiral.gif\">"
      ],
      "text/plain": [
       "<IPython.core.display.HTML object>"
      ]
     },
     "execution_count": 3,
     "metadata": {},
     "output_type": "execute_result"
    }
   ],
   "source": [
    "from discopy.moncat import spiral\n",
    "\n",
    "diagram = spiral(3)\n",
    "diagram.to_gif(*diagram.normalize(),\n",
    "               path=folder('spiral.gif'),\n",
    "               **dict(params, draw_box_labels=False, aspect='equal'))"
   ]
  },
  {
   "cell_type": "code",
   "execution_count": 4,
   "metadata": {},
   "outputs": [
    {
     "data": {
      "text/html": [
       "<img src=\"../docs/imgs/snake-removal.gif\">"
      ],
      "text/plain": [
       "<IPython.core.display.HTML object>"
      ]
     },
     "execution_count": 4,
     "metadata": {},
     "output_type": "execute_result"
    }
   ],
   "source": [
    "snake = Box('f', x @ x, x @ x)\\\n",
    "    .transpose_l().transpose_l()\\\n",
    "    .transpose_r().transpose_r()\n",
    "\n",
    "snake.to_gif(*snake.normalize(), **params,\n",
    "             path=folder('snake-removal.gif'))"
   ]
  },
  {
   "cell_type": "code",
   "execution_count": 5,
   "metadata": {},
   "outputs": [
    {
     "name": "stdout",
     "output_type": "stream",
     "text": [
      "try: Eckmann_Hilton.normal_form()\n",
      "NotImplementedError(\"s0 >> s1 is not connected.\")\n"
     ]
    },
    {
     "data": {
      "text/html": [
       "<img src=\"../docs/imgs/EckmannHilton.gif\">"
      ],
      "text/plain": [
       "<IPython.core.display.HTML object>"
      ]
     },
     "execution_count": 5,
     "metadata": {},
     "output_type": "execute_result"
    }
   ],
   "source": [
    "Eckmann_Hilton = Box('s0', Ty(), Ty()) @ Box('s1', Ty(), Ty())\n",
    "try:\n",
    "    print(\"try: Eckmann_Hilton.normal_form()\")\n",
    "    Eckmann_Hilton.normal_form()\n",
    "except NotImplementedError as err:\n",
    "    print(\"NotImplementedError(\\\"{}\\\")\".format(err))\n",
    "\n",
    "rewrite_steps = [Eckmann_Hilton, next(Eckmann_Hilton.normalize())]\n",
    "Diagram.to_gif(*rewrite_steps,\n",
    "               path=folder('EckmannHilton.gif'),\n",
    "               **dict(params, aspect='equal'))"
   ]
  },
  {
   "cell_type": "code",
   "execution_count": 6,
   "metadata": {},
   "outputs": [
    {
     "data": {
      "image/png": "[encoded data removed]",
      "text/plain": [
       "<Figure size 576x144 with 1 Axes>"
      ]
     },
     "metadata": {
      "needs_background": "light"
     },
     "output_type": "display_data"
    }
   ],
   "source": [
    "from discopy import Word, Cup, pregroup\n",
    "\n",
    "s, n = Ty('s'), Ty('n')\n",
    "Alice = Word('Alice', n)\n",
    "loves = Word('loves', n.r @ s @ n.l)\n",
    "Bob =  Word('Bob', n)\n",
    "who = Word('who', n.r @ n @ s.l @ n)\n",
    "is_rich = Word('is rich', n.r @ s)\n",
    "\n",
    "noun_phrase = pregroup.eager_parse(Bob, who, is_rich, target=n)\n",
    "grammar = Cup(n, n.r) @ Id(s) @ Cup(n.l, n)\n",
    "sentence = Alice @ loves @ noun_phrase >> grammar\n",
    "pregroup.draw(sentence,\n",
    "              aspect='auto', figsize=(8, 2),\n",
    "              fontsize=14, fontsize_types=10)"
   ]
  },
  {
   "cell_type": "code",
   "execution_count": 7,
   "metadata": {},
   "outputs": [
    {
     "name": "stdout",
     "output_type": "stream",
     "text": [
      "Circuit for the three-legged Z spider:\n"
     ]
    },
    {
     "data": {
      "image/png": "[encoded data removed]",
      "text/plain": [
       "<Figure size 432x288 with 1 Axes>"
      ]
     },
     "metadata": {},
     "output_type": "display_data"
    },
    {
     "name": "stdout",
     "output_type": "stream",
     "text": [
      "Matrix(dom=Dim(1), cod=Dim(2, 2, 2), array=[0.99999994, 0.0, 0.0, 0.0, 0.0, 0.0, 0.0, 0.99999994])\n"
     ]
    }
   ],
   "source": [
    "from discopy.circuit import Circuit, sqrt, Ket, H, Rx, CX, SWAP\n",
    "\n",
    "GHZ =  Ket(0, 0, 0) @ sqrt(2)\\\n",
    "    >> Circuit.id(1) @ H @ Circuit.id(1)\\\n",
    "    >> Circuit.id(1) @ CX\\\n",
    "    >> (SWAP >>  CX) @ Circuit.id(1)\n",
    "\n",
    "print(\"Circuit for the three-legged Z spider:\")\n",
    "GHZ.draw(aspect='auto', draw_types=False)\n",
    "print(GHZ.eval())"
   ]
  },
  {
   "cell_type": "code",
   "execution_count": 8,
   "metadata": {},
   "outputs": [
    {
     "name": "stdout",
     "output_type": "stream",
     "text": [
      "Image of CircuitFunctor on 'Bob who is rich.':\n"
     ]
    },
    {
     "data": {
      "image/png": "[encoded data removed]",
      "text/plain": [
       "<Figure size 576x576 with 1 Axes>"
      ]
     },
     "metadata": {},
     "output_type": "display_data"
    }
   ],
   "source": [
    "from discopy import CircuitFunctor\n",
    "\n",
    "def intransitive_ansatz(phase):\n",
    "    return Ket(0) >> Rx(phase)\n",
    "\n",
    "def transitive_ansatz(phase):\n",
    "    return sqrt(2) @ Ket(0, 0) >> H @ Rx(phase) >> CX\n",
    "\n",
    "ob = {s: 0, n: 1}\n",
    "ar = lambda **params: {\n",
    "    Alice: Ket(0),\n",
    "    loves: transitive_ansatz(params['loves']),\n",
    "    Bob: Ket(1),\n",
    "    who: GHZ,\n",
    "    is_rich: intransitive_ansatz(params['is_rich'])}\n",
    "\n",
    "F = lambda params: CircuitFunctor(ob, ar(**params))\n",
    "\n",
    "params0 = {'loves': 0.5, 'is_rich': 1.}\n",
    "print(\"Image of CircuitFunctor on 'Bob who is rich.':\")\n",
    "F(params0)(noun_phrase).draw(\n",
    "    figsize=(8, 8), aspect='auto', draw_types=False, fontsize=10)"
   ]
  },
  {
   "cell_type": "code",
   "execution_count": 9,
   "metadata": {},
   "outputs": [
    {
     "data": {
      "text/html": [
       "<img src=\"../docs/imgs/circuit-rewrite.gif\">"
      ],
      "text/plain": [
       "<IPython.core.display.HTML object>"
      ]
     },
     "execution_count": 9,
     "metadata": {},
     "output_type": "execute_result"
    }
   ],
   "source": [
    "rewrite_steps = tuple(F(params0)(sentence).normalize())\n",
    "F(params0)(sentence).to_gif(\n",
    "    *rewrite_steps,\n",
    "    path=folder('circuit-rewrite.gif'),\n",
    "    **dict(params, loop=False, figsize=(8, 8)))"
   ]
  },
  {
   "cell_type": "code",
   "execution_count": 10,
   "metadata": {},
   "outputs": [
    {
     "data": {
      "image/png": "[encoded data removed]",
      "text/plain": [
       "<Figure size 576x576 with 1 Axes>"
      ]
     },
     "metadata": {},
     "output_type": "display_data"
    }
   ],
   "source": [
    "from discopy import Quiver, circuit\n",
    "\n",
    "def remove_ket1(ket):\n",
    "    x_gates = Circuit.id(0)\n",
    "    for bit in ket.bitstring:\n",
    "        x_gates = x_gates @ (circuit.X if bit else Circuit.id(1))\n",
    "    return Ket(*(len(ket.bitstring) * (0, ))) >> x_gates\n",
    "\n",
    "RemoveKet1 = CircuitFunctor(\n",
    "    ob=Quiver(lambda x: len(x)),\n",
    "    ar=Quiver(lambda f: remove_ket1(f) if isinstance(f, Ket) else f))\n",
    "\n",
    "diagram = RemoveKet1(rewrite_steps[-1])\n",
    "kets, circ, bras, scal =\\\n",
    "    diagram[0], diagram[1:-2], diagram[-1], diagram[-2]\n",
    "circ.draw(figsize=(8, 8), aspect='auto', draw_types=False)"
   ]
  },
  {
   "cell_type": "code",
   "execution_count": 11,
   "metadata": {},
   "outputs": [
    {
     "name": "stdout",
     "output_type": "stream",
     "text": [
      "<tket::Circuit qubits=8, gates=19>\n",
      "H q[1];\n",
      "Rx(0.5PI) q[2];\n",
      "X q[3];\n",
      "H q[5];\n",
      "Rx(1PI) q[7];\n",
      "CX q[1], q[2];\n",
      "CX q[5], q[6];\n",
      "CX q[0], q[1];\n",
      "SWAP q[4], q[5];\n",
      "CX q[6], q[7];\n",
      "H q[0];\n",
      "CX q[4], q[5];\n",
      "H q[6];\n",
      "CX q[3], q[4];\n",
      "H q[3];\n",
      "SWAP q[2], q[3];\n",
      "SWAP q[3], q[4];\n",
      "CX q[4], q[5];\n",
      "H q[4];\n"
     ]
    }
   ],
   "source": [
    "tk_circ = circ.to_tk()\n",
    "print(tk_circ)\n",
    "for gates in tk_circ: print(gates)"
   ]
  },
  {
   "cell_type": "code",
   "execution_count": 12,
   "metadata": {},
   "outputs": [
    {
     "name": "stdout",
     "output_type": "stream",
     "text": [
      "depth = 10\n"
     ]
    },
    {
     "data": {
      "text/html": [
       "<img src=\"../docs/imgs/foliate.gif\">"
      ],
      "text/plain": [
       "<IPython.core.display.HTML object>"
      ]
     },
     "execution_count": 12,
     "metadata": {},
     "output_type": "execute_result"
    }
   ],
   "source": [
    "rewrite_steps = tuple(circ.foliate())\n",
    "print('depth = {}'.format(circ.depth()))\n",
    "circ.to_gif(*rewrite_steps[:-1], path=folder('foliate.gif'), aspect='auto', draw_types=False)"
   ]
  }
 ],
 "metadata": {
  "kernelspec": {
   "display_name": "Python 3",
   "language": "python",
   "name": "python3"
  },
  "language_info": {
   "codemirror_mode": {
    "name": "ipython",
    "version": 3
   },
   "file_extension": ".py",
   "mimetype": "text/x-python",
   "name": "python",
   "nbconvert_exporter": "python",
   "pygments_lexer": "ipython3",
   "version": "3.7.4"
  }
 },
 "nbformat": 4,
 "nbformat_minor": 2
}
