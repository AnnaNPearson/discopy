{
 "cells": [
  {
   "cell_type": "code",
   "execution_count": 1,
   "metadata": {},
   "outputs": [
    {
     "data": {
      "image/png": "[encoded data removed]",
      "text/plain": [
       "<Figure size 432x288 with 1 Axes>"
      ]
     },
     "metadata": {},
     "output_type": "display_data"
    }
   ],
   "source": [
    "from discopy.circuit import *\n",
    "\n",
    "circuit = H @ X >> CX\n",
    "circuit.draw(draw_types=False)"
   ]
  },
  {
   "cell_type": "code",
   "execution_count": 2,
   "metadata": {},
   "outputs": [
    {
     "name": "stdout",
     "output_type": "stream",
     "text": [
      "<tket::Circuit qubits=2, gates=5>\n",
      "H q[0];\n",
      "X q[1];\n",
      "CX q[0], q[1];\n",
      "Measure q[0] --> c[0];\n",
      "Measure q[1] --> c[1];\n"
     ]
    }
   ],
   "source": [
    "tk_circuit = circuit.to_tk()\n",
    "tk_circuit.measure_all()\n",
    "print(tk_circuit)\n",
    "for gate in tk_circuit:\n",
    "    print(gate)"
   ]
  },
  {
   "cell_type": "code",
   "execution_count": 3,
   "metadata": {},
   "outputs": [
    {
     "name": "stdout",
     "output_type": "stream",
     "text": [
      "{(0, 1): 493, (1, 0): 531}\n"
     ]
    }
   ],
   "source": [
    "from pytket.backends.ibm import AerBackend\n",
    "\n",
    "backend = AerBackend()\n",
    "backend.compile_circuit(tk_circuit)\n",
    "assert backend.valid_circuit(tk_circuit)\n",
    "print(backend.get_counts(tk_circuit, n_shots=2**10))"
   ]
  }
 ],
 "metadata": {
  "kernelspec": {
   "display_name": "Python 3",
   "language": "python",
   "name": "python3"
  },
  "language_info": {
   "codemirror_mode": {
    "name": "ipython",
    "version": 3
   },
   "file_extension": ".py",
   "mimetype": "text/x-python",
   "name": "python",
   "nbconvert_exporter": "python",
   "pygments_lexer": "ipython3",
   "version": "3.7.5"
  }
 },
 "nbformat": 4,
 "nbformat_minor": 2
}
