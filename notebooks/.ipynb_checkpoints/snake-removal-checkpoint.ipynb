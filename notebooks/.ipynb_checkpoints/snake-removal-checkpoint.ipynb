{
 "cells": [
  {
   "cell_type": "markdown",
   "metadata": {},
   "source": [
    "# Removing snakes to simplify quantum circuit models.\n",
    "\n",
    "The snake removal procedure implemented in __rigidcat.normal_form()__ takes a diagram in a free rigid category and removes all the cups and caps that can be yanked using the snake equation, following the scheme from [Dunn, Vicary (2019)](https://arxiv.org/abs/1601.05372).\n",
    "\n",
    "__Antonin's lemma:__\n",
    "Given a diagram in a free rigid category such that the domain and codomain of every box and of the diagram itself are built from the basic types Ty('s') and Ty('n') only using tensor, it must have __rigidcat.normal_form()__ equal to a diagram where all cups and caps have been removed. [Delpeuch (2019)](https://arxiv.org/abs/1411.3827).\n",
    "\n",
    "We start by generating grammatical sentences from a simple language, then we define the functor A which decomposes each word into simpler components. By Antonin's lemma, applying this functor followed by __normal_form()__ will return simplified diagrams, without changing their semantics. We use this procedure to simplify the interpretation of sentences as parametrised quantum circuits. "
   ]
  },
  {
   "cell_type": "markdown",
   "metadata": {},
   "source": [
    "## Language generation"
   ]
  },
  {
   "cell_type": "code",
   "execution_count": 1,
   "metadata": {},
   "outputs": [],
   "source": [
    "from discopy import Ty, Box, Diagram, Word, pregroup\n",
    "\n",
    "# Pregroup types for words are built using adjoints of basic types\n",
    "\n",
    "s, n = Ty('s'), Ty('n')\n",
    "Alice = Word('Alice', n)\n",
    "loves = Word('loves', n.r @ s @ n.l)\n",
    "Bob =  Word('Bob', n)\n",
    "who = Word('who', n.r @ n @ s.l @ n)\n",
    "is_rich = Word('is rich', n.r @ s)\n",
    "\n",
    "vocab = [Alice, who, is_rich, loves, Bob]"
   ]
  },
  {
   "cell_type": "code",
   "execution_count": 2,
   "metadata": {},
   "outputs": [
    {
     "name": "stdout",
     "output_type": "stream",
     "text": [
      "Brute force search for grammatical sentences:\n",
      "Alice is rich.\n",
      "Bob is rich.\n",
      "Alice loves Alice.\n",
      "Alice loves Bob.\n",
      "Bob loves Alice.\n",
      "Bob loves Bob.\n",
      "Alice who is rich is rich.\n",
      "Bob who is rich is rich.\n",
      "Alice who is rich loves Alice.\n",
      "Alice who is rich loves Bob.\n",
      "Alice who loves Alice is rich.\n",
      "Alice who loves Bob is rich.\n",
      "Bob who is rich loves Alice.\n",
      "Bob who is rich loves Bob.\n",
      "Bob who loves Alice is rich.\n",
      "23.26 seconds to generate 15 sentences.\n",
      "\n"
     ]
    }
   ],
   "source": [
    "from time import time\n",
    "from discopy.pregroup import brute_force\n",
    "\n",
    "gen, n_sentences = brute_force(*vocab), 15\n",
    "sentences, parsing = list(), dict()\n",
    "\n",
    "print(\"Brute force search for grammatical sentences:\")\n",
    "\n",
    "start = time()\n",
    "for i in range(n_sentences):\n",
    "    diagram = next(gen)\n",
    "    sentence = ' '.join(str(w)\n",
    "        for w in diagram.boxes if isinstance(w, Word)) + '.'\n",
    "    sentences.append(sentence)\n",
    "    parsing.update({sentence: diagram})\n",
    "    print(sentence)\n",
    "\n",
    "print(\"{:.2f} seconds to generate {} sentences.\\n\".format(time() - start, n_sentences))"
   ]
  },
  {
   "cell_type": "markdown",
   "metadata": {},
   "source": [
    "## Snake removal"
   ]
  },
  {
   "cell_type": "code",
   "execution_count": 3,
   "metadata": {},
   "outputs": [],
   "source": [
    "from discopy import Cup, Cap, RigidFunctor\n",
    "\n",
    "# The types of the following boxes are built from the basic types Ty('s') and Ty('n') only using tensor.\n",
    "\n",
    "love_box = Box('loves', n @ n, s)\n",
    "is_rich_box = Box('is rich', n, s)\n",
    "copy = Box('copy', n, n @ n)\n",
    "update = Box('update', n @ s, n)\n",
    "\n",
    "# Define the Autonomization functor that decomposes a word into word_boxes:\n",
    "\n",
    "ob = {n: n, s: s}\n",
    "ar = {Alice: Alice,\n",
    "      Bob: Bob,\n",
    "      loves: Cap(n.r, n) @ Cap(n, n.l) >> Diagram.id(n.r) @ love_box @ Diagram.id(n.l),\n",
    "      is_rich: Cap(n.r, n) >> Diagram.id(n.r) @ is_rich_box,\n",
    "      who: Cap(n.r, n) >> Diagram.id(n.r) @ (copy >> Diagram.id(n) @ Cap(s, s.l) @ Diagram.id(n) >>\n",
    "                                             update @ Diagram.id(s.l @ n))\n",
    "     }\n",
    "\n",
    "A = RigidFunctor(ob, ar, ob_cls=Ty, ar_cls=Diagram)"
   ]
  },
  {
   "cell_type": "code",
   "execution_count": 4,
   "metadata": {},
   "outputs": [
    {
     "name": "stdout",
     "output_type": "stream",
     "text": [
      "Autonomization of 'loves':\n"
     ]
    },
    {
     "data": {
      "image/png": "[encoded data removed]",
      "text/plain": [
       "<Figure size 432x288 with 1 Axes>"
      ]
     },
     "metadata": {},
     "output_type": "display_data"
    }
   ],
   "source": [
    "print(\"Autonomization of 'loves':\")\n",
    "\n",
    "(loves @ Box('-->', Ty(), Ty()) @ A(loves)).interchange(1, 2, left=True).interchange(2, 3).draw()"
   ]
  },
  {
   "cell_type": "code",
   "execution_count": 5,
   "metadata": {},
   "outputs": [
    {
     "name": "stdout",
     "output_type": "stream",
     "text": [
      "Autonomization of 'who':\n"
     ]
    },
    {
     "data": {
      "image/png": "[encoded data removed]",
      "text/plain": [
       "<Figure size 432x288 with 1 Axes>"
      ]
     },
     "metadata": {},
     "output_type": "display_data"
    }
   ],
   "source": [
    "print(\"Autonomization of 'who':\")\n",
    "\n",
    "(who @ Box('-->', Ty(), Ty()) @ A(who)).interchange(1, 2, left=True).interchange(2, 3).draw()"
   ]
  },
  {
   "cell_type": "code",
   "execution_count": 6,
   "metadata": {},
   "outputs": [
    {
     "name": "stdout",
     "output_type": "stream",
     "text": [
      "Pregroup parsing for the sentence: 'Bob who is rich loves Alice.'\n"
     ]
    },
    {
     "data": {
      "image/png": "[encoded data removed]",
      "text/plain": [
       "<Figure size 432x288 with 1 Axes>"
      ]
     },
     "metadata": {
      "needs_background": "light"
     },
     "output_type": "display_data"
    }
   ],
   "source": [
    "print(\"Pregroup parsing for the sentence: '{}'\".format(sentences[12]))\n",
    "pregroup.draw(parsing[sentences[12]])"
   ]
  },
  {
   "cell_type": "code",
   "execution_count": 7,
   "metadata": {},
   "outputs": [
    {
     "name": "stdout",
     "output_type": "stream",
     "text": [
      "Removing snakes from autonomisation of 'Bob who is rich loves Alice.'\n"
     ]
    },
    {
     "data": {
      "text/html": [
       "<img src=\"../docs/imgs/unsnake-sentence.gif\">"
      ],
      "text/plain": [
       "<IPython.core.display.HTML object>"
      ]
     },
     "execution_count": 7,
     "metadata": {},
     "output_type": "execute_result"
    }
   ],
   "source": [
    "from discopy import *\n",
    "from IPython.display import HTML\n",
    "FOLDER = '../docs/imgs/'\n",
    "def inormalize(diagram, gif, **params):\n",
    "    diagram.to_gif(FOLDER + gif, loop=False, timestep=1000, **params)\n",
    "    return HTML('<img src=\"{}\">'.format(FOLDER + gif))\n",
    "\n",
    "print(\"Removing snakes from autonomisation of '{}'\".format(sentences[12]))\n",
    "inormalize(A(parsing[sentences[12]]), 'unsnake-sentence.gif', aspect='auto')"
   ]
  },
  {
   "cell_type": "code",
   "execution_count": 8,
   "metadata": {},
   "outputs": [],
   "source": [
    "# Check that sentences after autonomisation and snake removal do not contain cups or caps\n",
    "\n",
    "def has_cups_or_caps(diagram):\n",
    "    for box in diagram.boxes:\n",
    "        if isinstance(box, Cup) or isinstance(box, Cap):\n",
    "            return True\n",
    "    return False\n",
    "\n",
    "autonomised_sentences = [A(parsing[sentences[i]]).normal_form() for i in range(n_sentences)]\n",
    "\n",
    "for i in range(n_sentences):\n",
    "    assert not has_cups_or_caps(autonomised_sentences[i])"
   ]
  },
  {
   "cell_type": "markdown",
   "metadata": {},
   "source": [
    "## Quantum circuit models"
   ]
  },
  {
   "cell_type": "code",
   "execution_count": 9,
   "metadata": {},
   "outputs": [
    {
     "name": "stdout",
     "output_type": "stream",
     "text": [
      "Circuit for 'loves':\n"
     ]
    },
    {
     "data": {
      "image/png": "[encoded data removed]",
      "text/plain": [
       "<Figure size 432x288 with 1 Axes>"
      ]
     },
     "metadata": {},
     "output_type": "display_data"
    }
   ],
   "source": [
    "from discopy.circuit import Circuit, PRO, Id, CX, H, Rx, Ket, sqrt, SWAP, CircuitFunctor\n",
    "import jax.numpy as np\n",
    "\n",
    "def intransitive_ansatz(phase):\n",
    "    return Ket(0) >> Rx(phase)\n",
    "\n",
    "def transitive_ansatz(phase):\n",
    "    return sqrt(2) @ Ket(0) @ Ket(0) >> H @ Rx(phase) >> CX\n",
    "\n",
    "def who_ansatz():\n",
    "    return sqrt(2) @ Ket(0, 0, 0)\\\n",
    "    >> Circuit.id(1) @ H @ Circuit.id(1)\\\n",
    "    >> Circuit.id(1) @ CX\\\n",
    "    >> (SWAP >>  CX) @ Circuit.id(1)\n",
    "\n",
    "def split_ansatz():\n",
    "    return Circuit.id(1) @ Ket(0) >> CX\n",
    "\n",
    "def update_ansatz():\n",
    "    return Circuit.id(1)\n",
    "\n",
    "# Use ansatzes to define the semantics of \n",
    "\n",
    "ob = {s: 0, n: 1}\n",
    "ar = lambda params: {\n",
    "    Alice: Ket(0),\n",
    "    loves: transitive_ansatz(params['loves']),\n",
    "    who: who_ansatz(),\n",
    "    Bob: Ket(1),\n",
    "    is_rich: intransitive_ansatz(params['is_rich']),\n",
    "    copy: split_ansatz(),\n",
    "    update: update_ansatz(),\n",
    "    love_box: transitive_ansatz(- params['loves']).dagger(),\n",
    "    is_rich_box: intransitive_ansatz(- params['is_rich']).dagger()}\n",
    "\n",
    "F = lambda params: CircuitFunctor(ob, ar({'loves': params[0], 'is_rich': params[1]}))\n",
    "\n",
    "# Initialise parameters\n",
    "params0 = np.array([0.5, 1.])\n",
    "F0 = F(params0)\n",
    "print(\"Circuit for 'loves':\")\n",
    "F0(loves).normal_form().draw(aspect='auto')"
   ]
  },
  {
   "cell_type": "code",
   "execution_count": 11,
   "metadata": {},
   "outputs": [
    {
     "data": {
      "image/png": "[encoded data removed]",
      "text/plain": [
       "<Figure size 432x288 with 1 Axes>"
      ]
     },
     "metadata": {
      "needs_background": "light"
     },
     "output_type": "display_data"
    },
    {
     "name": "stdout",
     "output_type": "stream",
     "text": [
      "Circuit for noun phrase 'Bob who is rich':\n"
     ]
    },
    {
     "data": {
      "image/png": "[encoded data removed]",
      "text/plain": [
       "<Figure size 432x288 with 1 Axes>"
      ]
     },
     "metadata": {},
     "output_type": "display_data"
    }
   ],
   "source": [
    "from discopy.pregroup import eager_parse\n",
    "\n",
    "noun_phrase = eager_parse(Bob, who, is_rich, target=n)\n",
    "pregroup.draw(noun_phrase)\n",
    "\n",
    "print(\"Circuit for noun phrase 'Bob who is rich':\")\n",
    "F0(noun_phrase).normal_form().draw(draw_types=False, aspect='auto', fontsize=7)"
   ]
  },
  {
   "cell_type": "code",
   "execution_count": 12,
   "metadata": {},
   "outputs": [
    {
     "name": "stdout",
     "output_type": "stream",
     "text": [
      "depth = 6\n",
      "width = 5\n"
     ]
    }
   ],
   "source": [
    "# depth of the above circuit, excluding preparation and measurement layers. \n",
    "print('depth = {}'.format(F(params0)(noun_phrase).depth() - 2))\n",
    "print('width = {}'.format(F(params0)(noun_phrase).width()))"
   ]
  },
  {
   "cell_type": "code",
   "execution_count": 13,
   "metadata": {},
   "outputs": [
    {
     "data": {
      "image/png": "[encoded data removed]",
      "text/plain": [
       "<Figure size 432x288 with 1 Axes>"
      ]
     },
     "metadata": {},
     "output_type": "display_data"
    },
    {
     "name": "stdout",
     "output_type": "stream",
     "text": [
      "Equivalent circuit after snake removal:\n"
     ]
    },
    {
     "data": {
      "image/png": "[encoded data removed]",
      "text/plain": [
       "<Figure size 432x288 with 1 Axes>"
      ]
     },
     "metadata": {},
     "output_type": "display_data"
    },
    {
     "name": "stdout",
     "output_type": "stream",
     "text": [
      "depth = 2\n",
      "width = 2\n"
     ]
    }
   ],
   "source": [
    "A(noun_phrase).normal_form().draw(aspect='auto')\n",
    "print(\"Equivalent circuit after snake removal:\")\n",
    "circuit = F0(A(noun_phrase).normal_form()).normal_form()\n",
    "circuit.draw(draw_types=False, aspect='auto')\n",
    "print('depth = {}'.format(circuit.depth() - 2))\n",
    "print('width = {}'.format(circuit.width()))"
   ]
  },
  {
   "cell_type": "code",
   "execution_count": 15,
   "metadata": {
    "scrolled": true
   },
   "outputs": [],
   "source": [
    "# Check that the two circuits above generate the same distribution:\n",
    "assert np.allclose((F0(noun_phrase).measure()), F0(A(noun_phrase).normal_form()).measure())"
   ]
  },
  {
   "cell_type": "code",
   "execution_count": 17,
   "metadata": {},
   "outputs": [
    {
     "name": "stdout",
     "output_type": "stream",
     "text": [
      "Circuit for 'Bob who is rich loves Alice.':\n"
     ]
    },
    {
     "data": {
      "text/html": [
       "<img src=\"../docs/imgs/fuse-kets.gif\">"
      ],
      "text/plain": [
       "<IPython.core.display.HTML object>"
      ]
     },
     "execution_count": 17,
     "metadata": {},
     "output_type": "execute_result"
    }
   ],
   "source": [
    "print(\"Circuit for '{}':\".format(sentences[12]))\n",
    "circuit = F0(parsing[sentences[12]])\n",
    "inormalize(circuit, 'fuse-kets.gif', draw_types=False, aspect='auto', fontsize=6)"
   ]
  },
  {
   "cell_type": "code",
   "execution_count": 18,
   "metadata": {},
   "outputs": [
    {
     "name": "stdout",
     "output_type": "stream",
     "text": [
      "depth = 7\n",
      "width = 8\n"
     ]
    }
   ],
   "source": [
    "print('depth = {}'.format(circuit.normal_form().depth() - 2))\n",
    "print('width = {}'.format(circuit.width()))"
   ]
  },
  {
   "cell_type": "code",
   "execution_count": 15,
   "metadata": {},
   "outputs": [
    {
     "name": "stdout",
     "output_type": "stream",
     "text": [
      "Equivalent circuit after snake removal:\n"
     ]
    },
    {
     "data": {
      "image/png": "[encoded data removed]",
      "text/plain": [
       "<Figure size 432x288 with 1 Axes>"
      ]
     },
     "metadata": {},
     "output_type": "display_data"
    },
    {
     "name": "stdout",
     "output_type": "stream",
     "text": [
      "depth = 4\n",
      "width = 3\n"
     ]
    }
   ],
   "source": [
    "print(\"Equivalent circuit after snake removal:\")\n",
    "circuit = F0(autonomised_sentences[12]).normal_form()\n",
    "circuit.draw(draw_types=False, aspect='auto', fontsize=10)\n",
    "print('depth = {}'.format(circuit.depth() - 2))\n",
    "print('width = {}'.format(circuit.width()))"
   ]
  },
  {
   "cell_type": "code",
   "execution_count": 16,
   "metadata": {},
   "outputs": [],
   "source": [
    "# Check that the two circuits above generate the same distribution:\n",
    "assert np.allclose(F0(parsing[sentences[12]]).measure(), F(params0)(autonomised_sentences[12]).measure())"
   ]
  },
  {
   "cell_type": "code",
   "execution_count": null,
   "metadata": {},
   "outputs": [],
   "source": []
  }
 ],
 "metadata": {
  "kernelspec": {
   "display_name": "Python 3",
   "language": "python",
   "name": "python3"
  },
  "language_info": {
   "codemirror_mode": {
    "name": "ipython",
    "version": 3
   },
   "file_extension": ".py",
   "mimetype": "text/x-python",
   "name": "python",
   "nbconvert_exporter": "python",
   "pygments_lexer": "ipython3",
   "version": "3.7.4"
  }
 },
 "nbformat": 4,
 "nbformat_minor": 2
}
