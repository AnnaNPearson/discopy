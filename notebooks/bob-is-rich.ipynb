{
 "cells": [
  {
   "cell_type": "code",
   "execution_count": 1,
   "metadata": {},
   "outputs": [],
   "source": [
    "from discopy import Ty, Word\n",
    "\n",
    "s, n = Ty('s'), Ty('n')\n",
    "Alice = Word('Alice', n)\n",
    "loves = Word('loves', n.r @ s @ n.l)\n",
    "Bob =  Word('Bob', n)\n",
    "who = Word('who', n.r @ n @ s.l @ n)\n",
    "is_rich = Word('is rich', n.r @ s)\n",
    "\n",
    "vocab = [Alice, loves, Bob, who, is_rich]"
   ]
  },
  {
   "cell_type": "code",
   "execution_count": 2,
   "metadata": {},
   "outputs": [
    {
     "name": "stdout",
     "output_type": "stream",
     "text": [
      "Brute force search for grammatical sentences:\n",
      "Alice is rich.\n",
      "Bob is rich.\n",
      "Alice loves Alice.\n",
      "Alice loves Bob.\n",
      "Bob loves Alice.\n",
      "Bob loves Bob.\n",
      "Alice who is rich is rich.\n",
      "Bob who is rich is rich.\n",
      "Alice who loves Alice is rich.\n",
      "Alice who loves Bob is rich.\n",
      "Alice who is rich loves Alice.\n",
      "Alice who is rich loves Bob.\n",
      "Bob who loves Alice is rich.\n",
      "Bob who loves Bob is rich.\n",
      "Bob who is rich loves Alice.\n",
      "Bob who is rich loves Bob.\n",
      "Alice who loves Alice loves Alice.\n",
      "Alice who loves Alice loves Bob.\n",
      "Alice who loves Bob loves Alice.\n",
      "Alice who loves Bob loves Bob.\n",
      "13.44 seconds to generate 20 sentences.\n",
      "\n"
     ]
    }
   ],
   "source": [
    "from time import time\n",
    "from discopy.disco import brute_force\n",
    "\n",
    "gen, n_sentences = brute_force(*vocab), 20\n",
    "sentences, parsing = list(), dict()\n",
    "\n",
    "print(\"Brute force search for grammatical sentences:\")\n",
    "\n",
    "start = time()\n",
    "for i in range(n_sentences):\n",
    "    diagram = next(gen)\n",
    "    sentence = ' '.join(str(w)\n",
    "        for w in diagram.boxes if isinstance(w, Word)) + '.'\n",
    "    sentences.append(sentence)\n",
    "    parsing.update({sentence: diagram})\n",
    "    print(sentence)\n",
    "\n",
    "print(\"{:.2f} seconds to generate {} sentences.\\n\".format(time() - start, n_sentences))"
   ]
  },
  {
   "cell_type": "code",
   "execution_count": 5,
   "metadata": {},
   "outputs": [
    {
     "name": "stdout",
     "output_type": "stream",
     "text": [
      "Diagram for 'Alice who loves Bob is rich.':\n"
     ]
    },
    {
     "data": {
      "image/png": "[encoded data removed]",
      "text/plain": [
       "<Figure size 432x288 with 1 Axes>"
      ]
     },
     "metadata": {},
     "output_type": "display_data"
    }
   ],
   "source": [
    "print(\"Diagram for 'Alice who loves Bob is rich.':\")\n",
    "graph, positions, labels = parsing['Alice who loves Bob is rich.'].draw()"
   ]
  },
  {
   "cell_type": "code",
   "execution_count": null,
   "metadata": {},
   "outputs": [],
   "source": [
    "from discopy import CircuitModel\n",
    "from discopy.circuit import Circuit, sqrt, Ket, H, Rx, CX, SWAP\n",
    "\n",
    "GHZ = sqrt(2) @ Ket(0, 0, 0)\\\n",
    "    >> Circuit.id(1) @ H @ Circuit.id(1)\\\n",
    "    >> Circuit.id(1) @ CX\\\n",
    "    >> (SWAP >>  CX) @ Circuit.id(1)\n",
    "\n",
    "print(GHZ.eval())"
   ]
  },
  {
   "cell_type": "code",
   "execution_count": null,
   "metadata": {},
   "outputs": [],
   "source": [
    "import numpy as np\n",
    "\n",
    "def intransitive_ansatz(phase):\n",
    "    return Ket(0) >> Rx(phase)\n",
    "\n",
    "def transitive_ansatz(phase):\n",
    "    return sqrt(2) @ Ket(0, 0) >> H @ Rx(phase) >> CX\n",
    "\n",
    "ob = {s: 0, n: 1}\n",
    "ar = lambda params: {\n",
    "    Alice: Ket(0),\n",
    "    loves: transitive_ansatz(params['loves']),\n",
    "    Bob: Ket(1),\n",
    "    who: GHZ,\n",
    "    is_rich: intransitive_ansatz(params['is_rich'])}\n",
    "\n",
    "F = lambda params: CircuitModel(ob, ar({'loves': params[0], 'is_rich': params[1]}))\n",
    "\n",
    "params0 = np.array([0.5, 1.])\n",
    "print(\"Circuit for 'Alice who loves Bob is rich.':\")\n",
    "F(params0)(parsing['Alice who loves Bob is rich.']).draw()"
   ]
  },
  {
   "cell_type": "code",
   "execution_count": null,
   "metadata": {},
   "outputs": [],
   "source": [
    "evaluate = lambda F, sentence: F(parsing[sentence]).measure()\n",
    "corpus = {sentence: evaluate(F(params0), sentence) for sentence in sentences}\n",
    "\n",
    "epsilon = 1e-2\n",
    "\n",
    "print(\"True sentences:\\n{}\\n\".format('\\n'.join(sentence\n",
    "    for sentence, probability in corpus.items() if probability > 1 - epsilon)))\n",
    "print(\"False sentences:\\n{}\".format('\\n'.join(sentence\n",
    "    for sentence, probability in corpus.items() if probability < epsilon)))"
   ]
  },
  {
   "cell_type": "code",
   "execution_count": null,
   "metadata": {},
   "outputs": [],
   "source": [
    "from sklearn.model_selection import train_test_split\n",
    "\n",
    "sentence_train, sentence_test = train_test_split(sentences, test_size=0.5, random_state=42)\n",
    "\n",
    "print(\"Training set:\\n{}\\n\".format('\\n'.join(sentence_train)))\n",
    "print(\"Testing set:\\n{}\".format('\\n'.join(map(str, sentence_test))))"
   ]
  },
  {
   "cell_type": "code",
   "execution_count": null,
   "metadata": {},
   "outputs": [],
   "source": [
    "from jax import jit\n",
    "import jax.numpy as np\n",
    "\n",
    "@jit\n",
    "def training_loss(params):\n",
    "    return np.mean(np.array([\n",
    "        (corpus[sentence] - evaluate(F(params), sentence)) ** 2\n",
    "        for sentence in sentence_train]))\n",
    "\n",
    "@jit\n",
    "def testing_loss(params):\n",
    "    return np.mean(np.array([\n",
    "        (corpus[sentence] - evaluate(F(params), sentence)) ** 2\n",
    "        for sentence in sentence_test]))\n",
    "\n",
    "start = time()\n",
    "print(\"Training loss: {}\".format(training_loss(params0)))\n",
    "print(\"Testing loss: {}\".format(testing_loss(params0)))\n",
    "print(\"\\n{:.0f} seconds to compile the loss.\".format(time() - start))"
   ]
  },
  {
   "cell_type": "code",
   "execution_count": null,
   "metadata": {},
   "outputs": [],
   "source": [
    "from jax import grad\n",
    "\n",
    "step_size = 1e-2\n",
    "\n",
    "@jit\n",
    "def update(params):\n",
    "    return params - step_size * grad(training_loss)(params)\n",
    "\n",
    "start = time()\n",
    "p_loves, p_is_rich = update(params0)\n",
    "print(\"params['loves'] = {}\".format(p_loves))\n",
    "print(\"params['is rich'] = {}\".format(p_is_rich))\n",
    "print(\"\\n{:.0f} seconds to compile the update.\".format(time() - start))"
   ]
  },
  {
   "cell_type": "code",
   "execution_count": null,
   "metadata": {},
   "outputs": [],
   "source": [
    "from random import random, seed; seed(420)\n",
    "\n",
    "params = np.array([random(), random()])\n",
    "\n",
    "print(\"Random initialisation: {}\".format(params))\n",
    "print(\"Initial training loss: {}\".format(training_loss(params)))\n",
    "print(\"Initial testing loss: {}\".format(testing_loss(params)))\n",
    "\n",
    "print(\"\\nIs Alice who loves Bob rich?\")\n",
    "print(\"Yes, she is.\"\n",
    "      if evaluate(F(params), 'Alice who loves Bob is rich.') > 1 - epsilon\n",
    "      else \"No, she isn't.\")"
   ]
  },
  {
   "cell_type": "code",
   "execution_count": null,
   "metadata": {},
   "outputs": [],
   "source": [
    "epochs, iterations = 3, 333\n",
    "\n",
    "for i in range(epochs):\n",
    "    start_epoch = time()\n",
    "\n",
    "    for j in range(iterations):\n",
    "        start_iteration = time()\n",
    "        params = update(params)\n",
    "\n",
    "        if i == 0 and j < 3:\n",
    "            print(\"Update {} ({:.0f} microseconds)\".format(j, 1e6 * (time() - start_iteration)))\n",
    "            print(\"params['loves'] = {:.3f}\".format(params[0]))\n",
    "            print(\"params['is rich'] = {:.3f}\".format(params[1]))\n",
    "            print(\"Training loss: {}\".format(training_loss(params)))\n",
    "            print(\"Testing loss: {}\\n\".format(testing_loss(params)))\n",
    "\n",
    "    print(\"Epoch {} ({:.0f} milliseconds)\".format(i, 1e3 * (time() - start_epoch)))\n",
    "    print(\"params['loves'] = {:.3f}\".format(params[0]))\n",
    "    print(\"params['is rich'] = {:.3f}\".format(params[1]))\n",
    "    print(\"Training loss: {}\".format(training_loss(params)))\n",
    "    print(\"Testing loss: {}\\n\".format(testing_loss(params)))"
   ]
  },
  {
   "cell_type": "code",
   "execution_count": null,
   "metadata": {},
   "outputs": [],
   "source": [
    "print(\"Is Alice who loves Bob rich?\")\n",
    "print(\"Yes, she is.\"\n",
    "      if evaluate(F(params), 'Alice who loves Bob is rich.') > 1 - epsilon\n",
    "      else \"No, she isn't.\")"
   ]
  },
  {
   "cell_type": "code",
   "execution_count": null,
   "metadata": {},
   "outputs": [],
   "source": [
    "from jax import vmap\n",
    "\n",
    "start = time()\n",
    "\n",
    "x, y = np.meshgrid(np.arange(-1.0, 1.0, 1e-2), np.arange(-1.0, 1.0, 1e-2))\n",
    "xy = np.dstack((x.flatten(), y.flatten()))[0]\n",
    "z = vmap(training_loss)(xy).reshape(x.shape)\n",
    "\n",
    "print(\"{:.3f} seconds to compute the landscape.\".format(time() - start))"
   ]
  },
  {
   "cell_type": "code",
   "execution_count": null,
   "metadata": {},
   "outputs": [],
   "source": [
    "import matplotlib.pyplot as plt\n",
    "from matplotlib import cm\n",
    "from mpl_toolkits.mplot3d import Axes3D\n",
    "\n",
    "\n",
    "plt.rcParams[\"figure.figsize\"] = (15, 8)\n",
    "\n",
    "fig = plt.figure()\n",
    "ax = fig.gca(projection='3d')\n",
    "surf = ax.plot_surface(x, y, z, cmap=cm.coolwarm)\n",
    "plt.xlabel(\"params['loves']\")\n",
    "plt.ylabel(\"params['is rich']\")\n",
    "plt.title(\"functorial landscape for 'loves' and 'is rich'\")\n",
    "plt.show()"
   ]
  }
 ],
 "metadata": {
  "kernelspec": {
   "display_name": "Python 3",
   "language": "python",
   "name": "python3"
  },
  "language_info": {
   "codemirror_mode": {
    "name": "ipython",
    "version": 3
   },
   "file_extension": ".py",
   "mimetype": "text/x-python",
   "name": "python",
   "nbconvert_exporter": "python",
   "pygments_lexer": "ipython3",
   "version": "3.7.5"
  }
 },
 "nbformat": 4,
 "nbformat_minor": 2
}
