{
 "cells": [
  {
   "cell_type": "markdown",
   "metadata": {},
   "source": [
    "# Autonomization\n",
    "\n",
    "Given a diagram in a free rigid category where the dom and cod of every box consists of only basic types (i.e. doesn't contain adjoint types), it is equivalent to a diagram where all cups and caps have been removed (i.e. a diagram in the underlying free monoidal category). See Theorem 2 arxiv:1411.3827\n",
    "\n",
    "In this notebook we illustrate the above result by showing that the diagrams for parsed sentences from a simple language can be rewritten to remove all occurences of cups and caps."
   ]
  },
  {
   "cell_type": "code",
   "execution_count": 1,
   "metadata": {},
   "outputs": [],
   "source": [
    "from discopy.rigidcat import Ty, Box, Diagram\n",
    "from discopy.pregroup import Word\n",
    "\n",
    "# Pregroup types for words use adjoints\n",
    "\n",
    "s, n = Ty('s'), Ty('n')\n",
    "Alice = Word('Alice', n)\n",
    "loves = Word('loves', n.r @ s @ n.l)\n",
    "Bob =  Word('Bob', n)\n",
    "who = Word('who', n.r @ n @ s.l @ n)\n",
    "is_rich = Word('is rich', n.r @ s)\n",
    "\n",
    "vocab = [Alice, who, is_rich, loves, Bob]\n",
    "\n",
    "# word_boxes that don't use adjoints are in the underlying free monoidal category.\n",
    "\n",
    "love_box = Box('love_box', n @ n, s)\n",
    "is_rich_box = Box('is_rich_box', n, s)\n",
    "split = Box('split', n, n @ n)\n",
    "update = Box('update', n @ s, n)"
   ]
  },
  {
   "cell_type": "code",
   "execution_count": 2,
   "metadata": {},
   "outputs": [],
   "source": [
    "from discopy.rigidcat import Cup, Cap, RigidFunctor\n",
    "\n",
    "# Use a RigidFunctor to decompose the Words into  .\n",
    "\n",
    "ob = {n: n, s: s}\n",
    "ar = {Alice: Alice,\n",
    "      Bob: Bob,\n",
    "      loves: Cap(n.r, n) @ Cap(n, n.l) >> Diagram.id(n.r) @ love_box @ Diagram.id(n.l),\n",
    "      is_rich: Cap(n.r, n) >> Diagram.id(n.r) @ is_rich_box,\n",
    "      who: Cap(n.r, n) >> Diagram.id(n.r) @ (split >> Diagram.id(n) @ Cap(s, s.l) @ Diagram.id(n) >>\n",
    "                                             update @ Diagram.id(s.l @ n))\n",
    "     }\n",
    "\n",
    "F = RigidFunctor(ob, ar, ob_cls=Ty, ar_cls=Diagram)"
   ]
  },
  {
   "cell_type": "code",
   "execution_count": 3,
   "metadata": {},
   "outputs": [
    {
     "data": {
      "image/png": "[encoded data removed]",
      "text/plain": [
       "<Figure size 432x288 with 1 Axes>"
      ]
     },
     "metadata": {},
     "output_type": "display_data"
    },
    {
     "data": {
      "text/plain": [
       "(<networkx.classes.graph.Graph at 0x1231c1110>,\n",
       " {'box_1': (0.0, 3),\n",
       "  'wire_1_0': (-1.0, 3),\n",
       "  'wire_2_0': (-2.0, 2),\n",
       "  'wire_2_1': (-1.0, 2),\n",
       "  'wire_2_3': (1.0, 2),\n",
       "  'box_3': (-1.0, 1),\n",
       "  'wire_3_0': (-2.0, 1),\n",
       "  'wire_3_2': (0.0, 1),\n",
       "  'wire_3_3': (1.0, 1),\n",
       "  'output_0': (-2.0, 0),\n",
       "  'output_1': (-1.0, 0),\n",
       "  'output_2': (0.0, 0),\n",
       "  'output_3': (1.0, 0),\n",
       "  'wire_0_0': (-0.5, 4),\n",
       "  'wire_2_2': (0.0, 2)},\n",
       " {'box_1': 'split',\n",
       "  'box_3': 'update',\n",
       "  'output_0': 'n.r',\n",
       "  'output_1': 'n',\n",
       "  'output_2': 's.l',\n",
       "  'output_3': 'n'})"
      ]
     },
     "execution_count": 3,
     "metadata": {},
     "output_type": "execute_result"
    }
   ],
   "source": [
    "F(who).draw()"
   ]
  },
  {
   "cell_type": "code",
   "execution_count": 4,
   "metadata": {},
   "outputs": [
    {
     "name": "stdout",
     "output_type": "stream",
     "text": [
      "Brute force search for grammatical sentences:\n",
      "Alice is rich.\n",
      "Bob is rich.\n",
      "Alice loves Alice.\n",
      "Alice loves Bob.\n",
      "Bob loves Alice.\n",
      "Bob loves Bob.\n",
      "Alice who is rich is rich.\n",
      "Bob who is rich is rich.\n",
      "Alice who is rich loves Alice.\n",
      "Alice who is rich loves Bob.\n",
      "Alice who loves Alice is rich.\n",
      "Alice who loves Bob is rich.\n",
      "Bob who is rich loves Alice.\n",
      "Bob who is rich loves Bob.\n",
      "Bob who loves Alice is rich.\n",
      "Bob who loves Bob is rich.\n",
      "Alice who who is rich is rich is rich.\n",
      "Alice who is rich who is rich is rich.\n",
      "Alice who loves Alice loves Alice.\n",
      "Alice who loves Alice loves Bob.\n",
      "11.70 seconds to generate 20 sentences.\n",
      "\n"
     ]
    }
   ],
   "source": [
    "from time import time\n",
    "from discopy.pregroup import brute_force\n",
    "\n",
    "gen, n_sentences = brute_force(*vocab), 20\n",
    "sentences, parsing = list(), dict()\n",
    "\n",
    "print(\"Brute force search for grammatical sentences:\")\n",
    "\n",
    "start = time()\n",
    "for i in range(n_sentences):\n",
    "    diagram = next(gen)\n",
    "    sentence = ' '.join(str(w)\n",
    "        for w in diagram.boxes if isinstance(w, Word)) + '.'\n",
    "    sentences.append(sentence)\n",
    "    parsing.update({sentence: diagram})\n",
    "    print(sentence)\n",
    "\n",
    "print(\"{:.2f} seconds to generate {} sentences.\\n\".format(time() - start, n_sentences))"
   ]
  },
  {
   "cell_type": "code",
   "execution_count": 5,
   "metadata": {},
   "outputs": [
    {
     "name": "stdout",
     "output_type": "stream",
     "text": [
      "Alice who loves Alice loves Bob.\n"
     ]
    },
    {
     "data": {
      "image/png": "[encoded data removed]",
      "text/plain": [
       "<Figure size 432x288 with 1 Axes>"
      ]
     },
     "metadata": {},
     "output_type": "display_data"
    },
    {
     "data": {
      "text/plain": [
       "(<networkx.classes.graph.Graph at 0x123366950>,\n",
       " {'box_0': (-0.5, 12),\n",
       "  'box_1': (0.0, 11),\n",
       "  'wire_1_0': (-1.0, 11),\n",
       "  'box_2': (2.0, 10),\n",
       "  'wire_2_0': (-3.0, 10),\n",
       "  'wire_2_1': (-2.0, 10),\n",
       "  'wire_2_2': (-1.0, 10),\n",
       "  'wire_2_3': (0.0, 10),\n",
       "  'wire_2_4': (1.0, 10),\n",
       "  'box_3': (3.5, 9),\n",
       "  'wire_3_0': (-4.5, 9),\n",
       "  'wire_3_1': (-3.5, 9),\n",
       "  'wire_3_2': (-2.5, 9),\n",
       "  'wire_3_3': (-1.5, 9),\n",
       "  'wire_3_4': (-0.5, 9),\n",
       "  'wire_3_5': (0.5, 9),\n",
       "  'wire_3_6': (1.5, 9),\n",
       "  'wire_3_7': (2.5, 9),\n",
       "  'box_4': (4.0, 8),\n",
       "  'wire_4_0': (-5.0, 8),\n",
       "  'wire_4_1': (-4.0, 8),\n",
       "  'wire_4_2': (-3.0, 8),\n",
       "  'wire_4_3': (-2.0, 8),\n",
       "  'wire_4_4': (-1.0, 8),\n",
       "  'wire_4_5': (0.0, 8),\n",
       "  'wire_4_6': (1.0, 8),\n",
       "  'wire_4_7': (2.0, 8),\n",
       "  'wire_4_8': (3.0, 8),\n",
       "  'box_5': (5.5, 7),\n",
       "  'wire_5_0': (-6.5, 7),\n",
       "  'wire_5_1': (-5.5, 7),\n",
       "  'wire_5_2': (-4.5, 7),\n",
       "  'wire_5_3': (-3.5, 7),\n",
       "  'wire_5_4': (-2.5, 7),\n",
       "  'wire_5_5': (-1.5, 7),\n",
       "  'wire_5_6': (-0.5, 7),\n",
       "  'wire_5_7': (0.5, 7),\n",
       "  'wire_5_8': (1.5, 7),\n",
       "  'wire_5_9': (2.5, 7),\n",
       "  'wire_5_10': (3.5, 7),\n",
       "  'wire_5_11': (4.5, 7),\n",
       "  'wire_6_1': (-5.0, 6),\n",
       "  'wire_6_2': (-4.0, 6),\n",
       "  'wire_6_3': (-3.0, 6),\n",
       "  'wire_6_4': (-2.0, 6),\n",
       "  'wire_6_5': (-1.0, 6),\n",
       "  'wire_6_6': (0.0, 6),\n",
       "  'wire_6_7': (1.0, 6),\n",
       "  'wire_6_8': (2.0, 6),\n",
       "  'wire_6_9': (3.0, 6),\n",
       "  'wire_6_10': (4.0, 6),\n",
       "  'wire_6_11': (5.0, 6),\n",
       "  'wire_7_0': (-5.0, 5),\n",
       "  'wire_7_1': (-4.0, 5),\n",
       "  'wire_7_3': (-2.0, 5),\n",
       "  'wire_7_4': (-1.0, 5),\n",
       "  'wire_7_5': (0.0, 5),\n",
       "  'wire_7_6': (1.0, 5),\n",
       "  'wire_7_7': (2.0, 5),\n",
       "  'wire_7_8': (3.0, 5),\n",
       "  'wire_7_9': (4.0, 5),\n",
       "  'wire_8_0': (-4.0, 4),\n",
       "  'wire_8_2': (-2.0, 4),\n",
       "  'wire_8_3': (-1.0, 4),\n",
       "  'wire_8_4': (0.0, 4),\n",
       "  'wire_8_5': (1.0, 4),\n",
       "  'wire_8_6': (2.0, 4),\n",
       "  'wire_8_7': (3.0, 4),\n",
       "  'wire_9_0': (-3.0, 3),\n",
       "  'wire_9_2': (-1.0, 3),\n",
       "  'wire_9_3': (0.0, 3),\n",
       "  'wire_9_4': (1.0, 3),\n",
       "  'wire_9_5': (2.0, 3),\n",
       "  'wire_10_1': (-1.0, 2),\n",
       "  'wire_10_2': (0.0, 2),\n",
       "  'wire_10_3': (1.0, 2),\n",
       "  'wire_11_0': (-1.0, 1),\n",
       "  'output_0': (-0.5, 0),\n",
       "  'wire_6_0': (-6.0, 6),\n",
       "  'wire_7_2': (-3.0, 5),\n",
       "  'wire_8_1': (-3.0, 4),\n",
       "  'wire_9_1': (-2.0, 3),\n",
       "  'wire_10_0': (-2.0, 2),\n",
       "  'wire_11_1': (0.0, 1)},\n",
       " {'box_0': 'Alice',\n",
       "  'box_1': 'who',\n",
       "  'box_2': 'loves',\n",
       "  'box_3': 'Alice',\n",
       "  'box_4': 'loves',\n",
       "  'box_5': 'Bob',\n",
       "  'output_0': 's'})"
      ]
     },
     "execution_count": 5,
     "metadata": {},
     "output_type": "execute_result"
    }
   ],
   "source": [
    "print(sentences[19])\n",
    "parsing[sentences[19]].draw()"
   ]
  },
  {
   "cell_type": "code",
   "execution_count": 6,
   "metadata": {},
   "outputs": [
    {
     "data": {
      "image/png": "[encoded data removed]",
      "text/plain": [
       "<Figure size 432x288 with 1 Axes>"
      ]
     },
     "metadata": {},
     "output_type": "display_data"
    },
    {
     "data": {
      "text/plain": [
       "(<networkx.classes.graph.Graph at 0x123205510>,\n",
       " {'box_0': (-0.5, 7),\n",
       "  'box_1': (-0.5, 6),\n",
       "  'box_2': (0.5, 5),\n",
       "  'wire_2_0': (-1.5, 5),\n",
       "  'wire_2_1': (-0.5, 5),\n",
       "  'box_3': (0.0, 4),\n",
       "  'wire_3_0': (-1.0, 4),\n",
       "  'box_4': (-0.5, 3),\n",
       "  'box_5': (0.0, 2),\n",
       "  'wire_5_0': (-1.0, 2),\n",
       "  'box_6': (-0.5, 1),\n",
       "  'output_0': (-0.5, 0)},\n",
       " {'box_0': 'Alice',\n",
       "  'box_1': 'split',\n",
       "  'box_2': 'Alice',\n",
       "  'box_3': 'love_box',\n",
       "  'box_4': 'update',\n",
       "  'box_5': 'Bob',\n",
       "  'box_6': 'love_box',\n",
       "  'output_0': 's'})"
      ]
     },
     "execution_count": 6,
     "metadata": {},
     "output_type": "execute_result"
    }
   ],
   "source": [
    "F(parsing[sentences[19]]).normal_form().draw()"
   ]
  },
  {
   "cell_type": "code",
   "execution_count": 7,
   "metadata": {},
   "outputs": [],
   "source": [
    "def has_cups(diagram):\n",
    "    for box in diagram.boxes:\n",
    "        if isinstance(box, Cup) or isinstance(box, Cap):\n",
    "            return True\n",
    "    return False"
   ]
  },
  {
   "cell_type": "code",
   "execution_count": 8,
   "metadata": {},
   "outputs": [],
   "source": [
    "autonomised_sentences = [F(parsing[sentences[i]]).normal_form() for i in range(n_sentences)]"
   ]
  },
  {
   "cell_type": "code",
   "execution_count": 9,
   "metadata": {},
   "outputs": [],
   "source": [
    "for i in range(n_sentences):\n",
    "    assert not has_cups(autonomised_sentences[i])"
   ]
  }
 ],
 "metadata": {
  "kernelspec": {
   "display_name": "Python 3",
   "language": "python",
   "name": "python3"
  },
  "language_info": {
   "codemirror_mode": {
    "name": "ipython",
    "version": 3
   },
   "file_extension": ".py",
   "mimetype": "text/x-python",
   "name": "python",
   "nbconvert_exporter": "python",
   "pygments_lexer": "ipython3",
   "version": "3.7.4"
  }
 },
 "nbformat": 4,
 "nbformat_minor": 2
}
