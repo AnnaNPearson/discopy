{
 "cells": [
  {
   "cell_type": "markdown",
   "metadata": {},
   "source": [
    "# Autonomization\n",
    "\n",
    "Given a diagram in a free rigid category where the dom and cod of every box consists of only basic types (i.e. doesn't contain adjoint types), it is equivalent to a diagram where all cups and caps have been removed (i.e. a diagram in the underlying free monoidal category). See Theorem 2 arxiv:1411.3827\n",
    "\n",
    "In this notebook we illustrate the above result by showing that the diagrams for parsed sentences from a simple language can be rewritten to remove all occurences of cups and caps."
   ]
  },
  {
   "cell_type": "code",
   "execution_count": 1,
   "metadata": {},
   "outputs": [],
   "source": [
    "from discopy import Ty, Box, Diagram, Word, pregroup\n",
    "\n",
    "# Pregroup types for words use adjoints\n",
    "\n",
    "s, n = Ty('s'), Ty('n')\n",
    "Alice = Word('Alice', n)\n",
    "loves = Word('loves', n.r @ s @ n.l)\n",
    "Bob =  Word('Bob', n)\n",
    "who = Word('who', n.r @ n @ s.l @ n)\n",
    "is_rich = Word('is rich', n.r @ s)\n",
    "\n",
    "vocab = [Alice, who, is_rich, loves, Bob]\n",
    "\n",
    "# word_boxes that don't use adjoints are in the underlying free monoidal category.\n",
    "\n",
    "love_box = Box('love_box', n @ n, s)\n",
    "is_rich_box = Box('is_rich_box', n, s)\n",
    "split = Box('split', n, n @ n)\n",
    "update = Box('update', n @ s, n)"
   ]
  },
  {
   "cell_type": "code",
   "execution_count": 2,
   "metadata": {},
   "outputs": [],
   "source": [
    "from discopy import Cup, Cap, RigidFunctor\n",
    "\n",
    "# Use a RigidFunctor to decompose the Words into  .\n",
    "\n",
    "ob = {n: n, s: s}\n",
    "ar = {Alice: Alice,\n",
    "      Bob: Bob,\n",
    "      loves: Cap(n.r, n) @ Cap(n, n.l) >> Diagram.id(n.r) @ love_box @ Diagram.id(n.l),\n",
    "      is_rich: Cap(n.r, n) >> Diagram.id(n.r) @ is_rich_box,\n",
    "      who: Cap(n.r, n) >> Diagram.id(n.r) @ (split >> Diagram.id(n) @ Cap(s, s.l) @ Diagram.id(n) >>\n",
    "                                             update @ Diagram.id(s.l @ n))\n",
    "     }\n",
    "\n",
    "F = RigidFunctor(ob, ar, ob_cls=Ty, ar_cls=Diagram)"
   ]
  },
  {
   "cell_type": "code",
   "execution_count": 3,
   "metadata": {},
   "outputs": [
    {
     "data": {
      "image/png": "[encoded data removed]",
      "text/plain": [
       "<Figure size 432x288 with 1 Axes>"
      ]
     },
     "metadata": {},
     "output_type": "display_data"
    }
   ],
   "source": [
    "F(who).draw()"
   ]
  },
  {
   "cell_type": "code",
   "execution_count": 4,
   "metadata": {},
   "outputs": [
    {
     "name": "stdout",
     "output_type": "stream",
     "text": [
      "Brute force search for grammatical sentences:\n",
      "Alice is rich.\n",
      "Bob is rich.\n",
      "Alice loves Alice.\n",
      "Alice loves Bob.\n",
      "Bob loves Alice.\n",
      "Bob loves Bob.\n",
      "Alice who is rich is rich.\n",
      "Bob who is rich is rich.\n",
      "Alice who is rich loves Alice.\n",
      "Alice who is rich loves Bob.\n",
      "Alice who loves Alice is rich.\n",
      "Alice who loves Bob is rich.\n",
      "Bob who is rich loves Alice.\n",
      "Bob who is rich loves Bob.\n",
      "Bob who loves Alice is rich.\n",
      "Bob who loves Bob is rich.\n",
      "Alice who who is rich is rich is rich.\n",
      "Alice who is rich who is rich is rich.\n",
      "Alice who loves Alice loves Alice.\n",
      "Alice who loves Alice loves Bob.\n",
      "11.91 seconds to generate 20 sentences.\n",
      "\n"
     ]
    }
   ],
   "source": [
    "from time import time\n",
    "from discopy.pregroup import brute_force\n",
    "\n",
    "gen, n_sentences = brute_force(*vocab), 20\n",
    "sentences, parsing = list(), dict()\n",
    "\n",
    "print(\"Brute force search for grammatical sentences:\")\n",
    "\n",
    "start = time()\n",
    "for i in range(n_sentences):\n",
    "    diagram = next(gen)\n",
    "    sentence = ' '.join(str(w)\n",
    "        for w in diagram.boxes if isinstance(w, Word)) + '.'\n",
    "    sentences.append(sentence)\n",
    "    parsing.update({sentence: diagram})\n",
    "    print(sentence)\n",
    "\n",
    "print(\"{:.2f} seconds to generate {} sentences.\\n\".format(time() - start, n_sentences))"
   ]
  },
  {
   "cell_type": "code",
   "execution_count": 5,
   "metadata": {},
   "outputs": [
    {
     "name": "stdout",
     "output_type": "stream",
     "text": [
      "Alice who loves Alice loves Bob.\n"
     ]
    },
    {
     "data": {
      "image/png": "[encoded data removed]",
      "text/plain": [
       "<Figure size 432x288 with 1 Axes>"
      ]
     },
     "metadata": {
      "needs_background": "light"
     },
     "output_type": "display_data"
    }
   ],
   "source": [
    "print(sentences[19])\n",
    "pregroup.draw(parsing[sentences[19]])"
   ]
  },
  {
   "cell_type": "code",
   "execution_count": 13,
   "metadata": {},
   "outputs": [
    {
     "data": {
      "image/png": "[encoded data removed]",
      "text/plain": [
       "<Figure size 432x288 with 1 Axes>"
      ]
     },
     "metadata": {},
     "output_type": "display_data"
    }
   ],
   "source": [
    "F(parsing[sentences[19]]).normal_form().draw(aspect='auto')"
   ]
  },
  {
   "cell_type": "code",
   "execution_count": 7,
   "metadata": {},
   "outputs": [],
   "source": [
    "def has_cups(diagram):\n",
    "    for box in diagram.boxes:\n",
    "        if isinstance(box, Cup) or isinstance(box, Cap):\n",
    "            return True\n",
    "    return False"
   ]
  },
  {
   "cell_type": "code",
   "execution_count": 8,
   "metadata": {},
   "outputs": [],
   "source": [
    "autonomised_sentences = [F(parsing[sentences[i]]).normal_form() for i in range(n_sentences)]"
   ]
  },
  {
   "cell_type": "code",
   "execution_count": 9,
   "metadata": {},
   "outputs": [],
   "source": [
    "for i in range(n_sentences):\n",
    "    assert not has_cups(autonomised_sentences[i])"
   ]
  }
 ],
 "metadata": {
  "kernelspec": {
   "display_name": "Python 3",
   "language": "python",
   "name": "python3"
  },
  "language_info": {
   "codemirror_mode": {
    "name": "ipython",
    "version": 3
   },
   "file_extension": ".py",
   "mimetype": "text/x-python",
   "name": "python",
   "nbconvert_exporter": "python",
   "pygments_lexer": "ipython3",
   "version": "3.7.5"
  }
 },
 "nbformat": 4,
 "nbformat_minor": 2
}
