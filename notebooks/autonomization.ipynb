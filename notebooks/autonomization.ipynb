{
 "cells": [
  {
   "cell_type": "code",
   "execution_count": 3,
   "metadata": {},
   "outputs": [],
   "source": [
    "from discopy.pivotal import Ty, Box, Diagram\n",
    "from discopy.pregroup import Word\n",
    "\n",
    "s, n = Ty('s'), Ty('n')\n",
    "Alice = Word('Alice', n)\n",
    "loves = Word('loves', n.r @ s @ n.l)\n",
    "Bob =  Word('Bob', n)\n",
    "who = Word('who', n.r @ n @ s.l @ n)\n",
    "is_rich = Word('is rich', n.r @ s)\n",
    "\n",
    "vocab = [Alice, who, is_rich, loves, Bob]\n",
    "\n",
    "love_box = Box('love_box', n @ n, s)\n",
    "is_rich_box = Box('is_rich_box', n, s)\n",
    "split = Box('split', n, n @ n)\n",
    "update = Box('update', n @ s, n)"
   ]
  },
  {
   "cell_type": "code",
   "execution_count": null,
   "metadata": {},
   "outputs": [],
   "source": [
    "from discopy.pivotal import PivotalFunctor\n",
    "\n",
    "ob = {n: n, s: s}\n",
    "ar = {Alice: Alice,\n",
    "      Bob: Bob,\n",
    "      loves: Cap(n.r, n) @ Cap(n, n.l) >> Diagram.id(n.r) @ love_box @ Diagram.id(n.l),\n",
    "      is_rich: Cap(n.r, n) >> Diagram.id(n.r) @ is_rich_box,\n",
    "      who: Cap(n.r, n) >> Diagram.id(n.r) @ (split >> Diagram.id(n) @ Cap(s, s.l) @ Diagram.id(n) >>\n",
    "                                             update @ Diagram.id(s.l @ n))\n",
    "     }\n",
    "\n",
    "F = PivotalFunctor(ob, ar, ob_cls=Ty, ar_cls=Diagram)"
   ]
  },
  {
   "cell_type": "code",
   "execution_count": null,
   "metadata": {},
   "outputs": [],
   "source": [
    "F(who).draw()"
   ]
  },
  {
   "cell_type": "code",
   "execution_count": null,
   "metadata": {},
   "outputs": [],
   "source": [
    "from time import time\n",
    "from discopy.disco import brute_force\n",
    "\n",
    "gen, n_sentences = brute_force(*vocab), 20\n",
    "sentences, parsing = list(), dict()\n",
    "\n",
    "print(\"Brute force search for grammatical sentences:\")\n",
    "\n",
    "start = time()\n",
    "for i in range(n_sentences):\n",
    "    diagram = next(gen)\n",
    "    sentence = ' '.join(str(w)\n",
    "        for w in diagram.boxes if isinstance(w, Word)) + '.'\n",
    "    sentences.append(sentence)\n",
    "    parsing.update({sentence: diagram})\n",
    "    print(sentence)\n",
    "\n",
    "print(\"{:.2f} seconds to generate {} sentences.\\n\".format(time() - start, n_sentences))"
   ]
  },
  {
   "cell_type": "code",
   "execution_count": null,
   "metadata": {},
   "outputs": [],
   "source": [
    "print(sentences[19])\n",
    "parsing[sentences[19]].draw()"
   ]
  },
  {
   "cell_type": "code",
   "execution_count": null,
   "metadata": {},
   "outputs": [],
   "source": [
    "F(parsing[sentences[19]]).normal_form().draw()"
   ]
  },
  {
   "cell_type": "code",
   "execution_count": null,
   "metadata": {},
   "outputs": [],
   "source": [
    "def has_cups(diagram):\n",
    "    for box in diagram.boxes:\n",
    "        if isinstance(box, Cup) or isinstance(box, Cap):\n",
    "            return True\n",
    "    return False"
   ]
  },
  {
   "cell_type": "code",
   "execution_count": null,
   "metadata": {},
   "outputs": [],
   "source": [
    "autonomised_sentences = [F(parsing[sentences[i]]).normal_form() for i in range(n_sentences)]"
   ]
  },
  {
   "cell_type": "code",
   "execution_count": null,
   "metadata": {},
   "outputs": [],
   "source": [
    "for i in range(n_sentences):\n",
    "    assert not has_cups(autonomised_sentences[i])"
   ]
  },
  {
   "cell_type": "code",
   "execution_count": null,
   "metadata": {},
   "outputs": [],
   "source": [
    "autonomised_sentences[6].draw()"
   ]
  }
 ],
 "metadata": {
  "kernelspec": {
   "display_name": "Python 3",
   "language": "python",
   "name": "python3"
  }
 },
 "nbformat": 4,
 "nbformat_minor": 2
}
