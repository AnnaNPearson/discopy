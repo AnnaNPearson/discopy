{
 "cells": [
  {
   "cell_type": "markdown",
   "metadata": {},
   "source": [
    "# Snake removal and autonomisation\n",
    "\n",
    "The snake removal procedure implemented in __rigidcat.normal_form()__ takes a diagram in a free rigid category and removes all the cups and caps that can be yanked using the snake equation.\n",
    "\n",
    "Given a diagram in a free rigid category such that the domain and codomain of every box and of the diagram itself consist only of basic types (i.e. they don't contain adjoint types), it must be equal (up to the axioms of rigid categories) to a diagram where all cups and caps have been removed (i.e. a diagram in the underlying free monoidal category).\n",
    "See Theorem 2 in [autonomization](https://arxiv.org/abs/1411.3827).\n",
    "\n",
    "In this notebook, we define the autonomisation functor for a simple language and we use it, together with snake removal, to simplify the diagrams for sentences before computing their semantics."
   ]
  },
  {
   "cell_type": "code",
   "execution_count": 1,
   "metadata": {},
   "outputs": [],
   "source": [
    "from discopy import Ty, Box, Diagram, Word, pregroup\n",
    "\n",
    "# Pregroup types for words use adjoints\n",
    "\n",
    "s, n = Ty('s'), Ty('n')\n",
    "Alice = Word('Alice', n)\n",
    "loves = Word('loves', n.r @ s @ n.l)\n",
    "Bob =  Word('Bob', n)\n",
    "who = Word('who', n.r @ n @ s.l @ n)\n",
    "is_rich = Word('is rich', n.r @ s)\n",
    "\n",
    "vocab = [Alice, who, is_rich, loves, Bob]\n",
    "\n",
    "# word_boxes that don't use adjoints are in the underlying free monoidal category.\n",
    "\n",
    "love_box = Box('loves', n @ n, s)\n",
    "is_rich_box = Box('is rich', n, s)\n",
    "split = Box('split', n, n @ n)\n",
    "update = Box('update', n @ s, n)"
   ]
  },
  {
   "cell_type": "code",
   "execution_count": 2,
   "metadata": {},
   "outputs": [],
   "source": [
    "from discopy import Cup, Cap, RigidFunctor\n",
    "\n",
    "# Define the Autonomization functor using word_boxes.\n",
    "\n",
    "ob = {n: n, s: s}\n",
    "ar = {Alice: Alice,\n",
    "      Bob: Bob,\n",
    "      loves: Cap(n.r, n) @ Cap(n, n.l) >> Diagram.id(n.r) @ love_box @ Diagram.id(n.l),\n",
    "      is_rich: Cap(n.r, n) >> Diagram.id(n.r) @ is_rich_box,\n",
    "      who: Cap(n.r, n) >> Diagram.id(n.r) @ (split >> Diagram.id(n) @ Cap(s, s.l) @ Diagram.id(n) >>\n",
    "                                             update @ Diagram.id(s.l @ n))\n",
    "     }\n",
    "\n",
    "A = RigidFunctor(ob, ar, ob_cls=Ty, ar_cls=Diagram)"
   ]
  },
  {
   "cell_type": "code",
   "execution_count": 3,
   "metadata": {},
   "outputs": [
    {
     "data": {
      "image/png": "[encoded data removed]",
      "text/plain": [
       "<Figure size 432x288 with 1 Axes>"
      ]
     },
     "metadata": {},
     "output_type": "display_data"
    }
   ],
   "source": [
    "A(who).draw()"
   ]
  },
  {
   "cell_type": "code",
   "execution_count": 4,
   "metadata": {},
   "outputs": [
    {
     "name": "stdout",
     "output_type": "stream",
     "text": [
      "Brute force search for grammatical sentences:\n",
      "Alice is rich.\n",
      "Bob is rich.\n",
      "Alice loves Alice.\n",
      "Alice loves Bob.\n",
      "Bob loves Alice.\n",
      "Bob loves Bob.\n",
      "Alice who is rich is rich.\n",
      "Bob who is rich is rich.\n",
      "Alice who is rich loves Alice.\n",
      "Alice who is rich loves Bob.\n",
      "Alice who loves Alice is rich.\n",
      "Alice who loves Bob is rich.\n",
      "Bob who is rich loves Alice.\n",
      "Bob who is rich loves Bob.\n",
      "Bob who loves Alice is rich.\n",
      "Bob who loves Bob is rich.\n",
      "Alice who who is rich is rich is rich.\n",
      "Alice who is rich who is rich is rich.\n",
      "Alice who loves Alice loves Alice.\n",
      "Alice who loves Alice loves Bob.\n",
      "11.37 seconds to generate 20 sentences.\n",
      "\n"
     ]
    }
   ],
   "source": [
    "from time import time\n",
    "from discopy.pregroup import brute_force\n",
    "\n",
    "gen, n_sentences = brute_force(*vocab), 20\n",
    "sentences, parsing = list(), dict()\n",
    "\n",
    "print(\"Brute force search for grammatical sentences:\")\n",
    "\n",
    "start = time()\n",
    "for i in range(n_sentences):\n",
    "    diagram = next(gen)\n",
    "    sentence = ' '.join(str(w)\n",
    "        for w in diagram.boxes if isinstance(w, Word)) + '.'\n",
    "    sentences.append(sentence)\n",
    "    parsing.update({sentence: diagram})\n",
    "    print(sentence)\n",
    "\n",
    "print(\"{:.2f} seconds to generate {} sentences.\\n\".format(time() - start, n_sentences))"
   ]
  },
  {
   "cell_type": "code",
   "execution_count": 5,
   "metadata": {},
   "outputs": [
    {
     "name": "stdout",
     "output_type": "stream",
     "text": [
      "Bob who is rich loves Alice.\n"
     ]
    },
    {
     "data": {
      "image/png": "[encoded data removed]",
      "text/plain": [
       "<Figure size 432x288 with 1 Axes>"
      ]
     },
     "metadata": {
      "needs_background": "light"
     },
     "output_type": "display_data"
    }
   ],
   "source": [
    "print(sentences[12])\n",
    "pregroup.draw(parsing[sentences[12]])"
   ]
  },
  {
   "cell_type": "code",
   "execution_count": 22,
   "metadata": {},
   "outputs": [
    {
     "data": {
      "image/png": "[encoded data removed]",
      "text/plain": [
       "<Figure size 432x288 with 1 Axes>"
      ]
     },
     "metadata": {},
     "output_type": "display_data"
    }
   ],
   "source": [
    "A(parsing[sentences[12]]).normal_form().draw(aspect='auto')"
   ]
  },
  {
   "cell_type": "code",
   "execution_count": 7,
   "metadata": {},
   "outputs": [],
   "source": [
    "def has_cups(diagram):\n",
    "    for box in diagram.boxes:\n",
    "        if isinstance(box, Cup) or isinstance(box, Cap):\n",
    "            return True\n",
    "    return False"
   ]
  },
  {
   "cell_type": "code",
   "execution_count": 8,
   "metadata": {},
   "outputs": [],
   "source": [
    "autonomised_sentences = [A(parsing[sentences[i]]).normal_form() for i in range(n_sentences)]"
   ]
  },
  {
   "cell_type": "code",
   "execution_count": 9,
   "metadata": {},
   "outputs": [],
   "source": [
    "for i in range(n_sentences):\n",
    "    assert not has_cups(autonomised_sentences[i])"
   ]
  },
  {
   "cell_type": "markdown",
   "metadata": {},
   "source": [
    "___Simplifying circuit models___\n",
    "\n",
    "We use the snake removal procedure to simplify the interpretation of sentences as circuits. "
   ]
  },
  {
   "cell_type": "code",
   "execution_count": 10,
   "metadata": {},
   "outputs": [
    {
     "data": {
      "image/png": "[encoded data removed]",
      "text/plain": [
       "<Figure size 432x288 with 1 Axes>"
      ]
     },
     "metadata": {},
     "output_type": "display_data"
    }
   ],
   "source": [
    "from discopy.circuit import Circuit, PRO, Id, CX, H, Rx, Ket, sqrt, SWAP, CircuitFunctor\n",
    "import jax.numpy as np\n",
    "\n",
    "def who_ansatz():\n",
    "    return sqrt(2) @ Ket(0, 0, 0)\\\n",
    "    >> Circuit.id(1) @ H @ Circuit.id(1)\\\n",
    "    >> Circuit.id(1) @ CX\\\n",
    "    >> (SWAP >>  CX) @ Circuit.id(1)\n",
    "\n",
    "def split_ansatz():\n",
    "    return Circuit.id(1) @ Ket(0) >> CX\n",
    "\n",
    "def update_ansatz():\n",
    "    return Circuit.id(1)\n",
    "\n",
    "def intransitive_ansatz(phase):\n",
    "    return Ket(0) >> Rx(phase)\n",
    "\n",
    "def transitive_ansatz(phase):\n",
    "    return sqrt(2) @ Ket(0) @ Ket(0) >> H @ Rx(phase) >> CX\n",
    "\n",
    "ob = {s: 0, n: 1}\n",
    "ar = lambda params: {\n",
    "    Alice: Ket(0),\n",
    "    loves: transitive_ansatz(params['loves']),\n",
    "    who: who_ansatz(),\n",
    "    Bob: Ket(1),\n",
    "    is_rich: intransitive_ansatz(params['is_rich']),\n",
    "    split: split_ansatz(),\n",
    "    update: update_ansatz(),\n",
    "    love_box: transitive_ansatz(- params['loves']).dagger(),\n",
    "    is_rich_box: intransitive_ansatz(- params['is_rich']).dagger()}\n",
    "\n",
    "F = lambda params: CircuitFunctor(ob, ar({'loves': params[0], 'is_rich': params[1]}))\n",
    "\n",
    "params0 = np.array([0.5, 1.])\n",
    "\n",
    "F(params0)(who).draw(draw_types=False, aspect='auto')"
   ]
  },
  {
   "cell_type": "code",
   "execution_count": 18,
   "metadata": {},
   "outputs": [
    {
     "name": "stdout",
     "output_type": "stream",
     "text": [
      "Circuit for noun phrase 'Bob who is rich'\n"
     ]
    },
    {
     "data": {
      "image/png": "[encoded data removed]",
      "text/plain": [
       "<Figure size 432x288 with 1 Axes>"
      ]
     },
     "metadata": {},
     "output_type": "display_data"
    },
    {
     "name": "stdout",
     "output_type": "stream",
     "text": [
      "depth = 6\n",
      "width = 5\n"
     ]
    }
   ],
   "source": [
    "from discopy.pregroup import eager_parse\n",
    "\n",
    "noun_phrase = eager_parse(Bob, who, is_rich, target=n)\n",
    "\n",
    "print(\"Circuit for noun phrase 'Bob who is rich':\")\n",
    "F(params0)(noun_phrase).draw(draw_types=False, aspect='auto')\n",
    "\n",
    "# depth of circuit, excluding preparation and measurement layers. \n",
    "print('depth = {}'.format(F(params0)(noun_phrase).depth() - 2))\n",
    "print('width = {}'.format(F(params0)(noun_phrase).width()))"
   ]
  },
  {
   "cell_type": "code",
   "execution_count": 19,
   "metadata": {},
   "outputs": [
    {
     "name": "stdout",
     "output_type": "stream",
     "text": [
      "Circuit after snake removal:\n"
     ]
    },
    {
     "data": {
      "image/png": "[encoded data removed]",
      "text/plain": [
       "<Figure size 432x288 with 1 Axes>"
      ]
     },
     "metadata": {},
     "output_type": "display_data"
    },
    {
     "name": "stdout",
     "output_type": "stream",
     "text": [
      "depth = 2\n",
      "width = 2\n"
     ]
    }
   ],
   "source": [
    "print(\"Circuit after snake removal:\")\n",
    "F(params0)(A(noun_phrase).normal_form()).draw(draw_types=False, aspect='auto')\n",
    "print('depth = {}'.format(F(params0)(A(noun_phrase).normal_form()).depth() - 2))\n",
    "print('width = {}'.format(F(params0)(A(noun_phrase).normal_form()).width()))"
   ]
  },
  {
   "cell_type": "code",
   "execution_count": 13,
   "metadata": {
    "scrolled": true
   },
   "outputs": [],
   "source": [
    "assert np.allclose((F(params0)(noun_phrase).measure()), F(params0)(A(noun_phrase).normal_form()).measure())"
   ]
  },
  {
   "cell_type": "code",
   "execution_count": 14,
   "metadata": {},
   "outputs": [
    {
     "name": "stdout",
     "output_type": "stream",
     "text": [
      "Circuit for 'Bob who is rich loves Alice.':\n"
     ]
    },
    {
     "data": {
      "image/png": "[encoded data removed]",
      "text/plain": [
       "<Figure size 432x288 with 1 Axes>"
      ]
     },
     "metadata": {},
     "output_type": "display_data"
    },
    {
     "name": "stdout",
     "output_type": "stream",
     "text": [
      "depth = 7\n",
      "width = 8\n"
     ]
    }
   ],
   "source": [
    "print(\"Circuit for '{}':\".format(sentences[12]))\n",
    "F(params0)(parsing[sentences[12]]).draw(draw_types=False, aspect='auto', fontsize=6)\n",
    "print('depth = {}'.format(F(params0)(parsing[sentences[12]]).depth() - 2))\n",
    "print('width = {}'.format(F(params0)(parsing[sentences[12]]).width()))"
   ]
  },
  {
   "cell_type": "code",
   "execution_count": 20,
   "metadata": {},
   "outputs": [
    {
     "name": "stdout",
     "output_type": "stream",
     "text": [
      "Circuit after snake removal:\n"
     ]
    },
    {
     "data": {
      "image/png": "[encoded data removed]",
      "text/plain": [
       "<Figure size 432x288 with 1 Axes>"
      ]
     },
     "metadata": {},
     "output_type": "display_data"
    },
    {
     "name": "stdout",
     "output_type": "stream",
     "text": [
      "depth = 4\n",
      "width = 2\n"
     ]
    }
   ],
   "source": [
    "assert np.allclose(F(params0)(parsing[sentences[12]]).measure(), F(params0)(autonomised_sentences[12]).measure())\n",
    "\n",
    "print(\"Circuit after snake removal:\")\n",
    "F(params0)(autonomised_sentences[12]).draw(draw_types=False, aspect='auto', fontsize=10)\n",
    "print('depth = {}'.format(F(params0)(autonomised_sentences[12]).depth() - 2))\n",
    "print('width = {}'.format(F(params0)(autonomised_sentences[12]).width()))"
   ]
  },
  {
   "cell_type": "code",
   "execution_count": null,
   "metadata": {},
   "outputs": [],
   "source": []
  }
 ],
 "metadata": {
  "kernelspec": {
   "display_name": "Python 3",
   "language": "python",
   "name": "python3"
  },
  "language_info": {
   "codemirror_mode": {
    "name": "ipython",
    "version": 3
   },
   "file_extension": ".py",
   "mimetype": "text/x-python",
   "name": "python",
   "nbconvert_exporter": "python",
   "pygments_lexer": "ipython3",
   "version": "3.7.4"
  }
 },
 "nbformat": 4,
 "nbformat_minor": 2
}
