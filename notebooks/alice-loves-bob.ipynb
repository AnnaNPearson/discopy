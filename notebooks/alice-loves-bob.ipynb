{
 "cells": [
  {
   "cell_type": "code",
   "execution_count": 1,
   "metadata": {},
   "outputs": [
    {
     "name": "stdout",
     "output_type": "stream",
     "text": [
      "Vocabulary:\n",
      "Word('Alice', Ty('n'))\n",
      "Word('loves', Ty(Ob('n', z=1), 's', Ob('n', z=-1)))\n",
      "Word('Bob', Ty('n'))\n"
     ]
    }
   ],
   "source": [
    "from discopy import Ty, Word\n",
    "\n",
    "s, n = Ty('s'), Ty('n')\n",
    "Alice, loves, Bob = Word('Alice', n), Word('loves', n.r @ s @ n.l), Word('Bob', n)\n",
    "\n",
    "print(\"Vocabulary:\\n{}\".format('\\n'.join(map(repr, [Alice, loves, Bob]))))"
   ]
  },
  {
   "cell_type": "code",
   "execution_count": 2,
   "metadata": {},
   "outputs": [
    {
     "name": "stdout",
     "output_type": "stream",
     "text": [
      "Diagram for 'Alice loves Bob':\n"
     ]
    },
    {
     "data": {
      "image/png": "[encoded data removed]",
      "text/plain": [
       "<Figure size 432x288 with 1 Axes>"
      ]
     },
     "metadata": {
      "needs_background": "light"
     },
     "output_type": "display_data"
    }
   ],
   "source": [
    "from discopy import Diagram, Id, Cup\n",
    "from discopy.grammar import draw\n",
    "\n",
    "grammar = Cup(n, n.r) @ Id(s) @ Cup(n.l, n)\n",
    "parsing = {\"{} {} {}.\".format(subj, verb, obj): subj @ verb @ obj >> grammar\n",
    "            for subj in [Alice, Bob] for verb in [loves] for obj in [Alice, Bob]}\n",
    "\n",
    "diagram = parsing['Alice loves Bob.']\n",
    "print(\"Diagram for 'Alice loves Bob':\")\n",
    "draw(diagram, draw_types=True)"
   ]
  },
  {
   "cell_type": "code",
   "execution_count": 3,
   "metadata": {},
   "outputs": [
    {
     "name": "stdout",
     "output_type": "stream",
     "text": [
      "Grammatical sentences:\n",
      "Alice loves Alice.\n",
      "Alice loves Bob.\n",
      "Bob loves Alice.\n",
      "Bob loves Bob.\n"
     ]
    }
   ],
   "source": [
    "sentences = list(parsing.keys())\n",
    "print(\"Grammatical sentences:\\n{}\".format('\\n'.join(sentences)))"
   ]
  },
  {
   "cell_type": "code",
   "execution_count": 6,
   "metadata": {},
   "outputs": [
    {
     "name": "stdout",
     "output_type": "stream",
     "text": [
      "From discopy:\n",
      "Rx(0.5) @ Id(qubit ** 2) >> CX @ Id(qubit) >> Id(qubit ** 2) @ Rx(0.125)\n",
      "\n"
     ]
    },
    {
     "ename": "AttributeError",
     "evalue": "'Circuit' object has no attribute 'to_tk'",
     "output_type": "error",
     "traceback": [
      "\u001b[0;31m---------------------------------------------------------------------------\u001b[0m",
      "\u001b[0;31mAttributeError\u001b[0m                            Traceback (most recent call last)",
      "\u001b[0;32m<ipython-input-6-41204f793acc>\u001b[0m in \u001b[0;36m<module>\u001b[0;34m\u001b[0m\n\u001b[1;32m      4\u001b[0m \u001b[0mprint\u001b[0m\u001b[0;34m(\u001b[0m\u001b[0;34m\"From discopy:\\n{}\\n\"\u001b[0m\u001b[0;34m.\u001b[0m\u001b[0mformat\u001b[0m\u001b[0;34m(\u001b[0m\u001b[0mc0\u001b[0m\u001b[0;34m)\u001b[0m\u001b[0;34m)\u001b[0m\u001b[0;34m\u001b[0m\u001b[0;34m\u001b[0m\u001b[0m\n\u001b[1;32m      5\u001b[0m \u001b[0;34m\u001b[0m\u001b[0m\n\u001b[0;32m----> 6\u001b[0;31m \u001b[0mc_tk\u001b[0m \u001b[0;34m=\u001b[0m \u001b[0mc0\u001b[0m\u001b[0;34m.\u001b[0m\u001b[0mto_tk\u001b[0m\u001b[0;34m(\u001b[0m\u001b[0;34m)\u001b[0m\u001b[0;34m\u001b[0m\u001b[0;34m\u001b[0m\u001b[0m\n\u001b[0m\u001b[1;32m      7\u001b[0m \u001b[0mprint\u001b[0m\u001b[0;34m(\u001b[0m\u001b[0;34m\"... to tket:\\n{}\\n\"\u001b[0m\u001b[0;34m.\u001b[0m\u001b[0mformat\u001b[0m\u001b[0;34m(\u001b[0m\u001b[0mlist\u001b[0m\u001b[0;34m(\u001b[0m\u001b[0mc_tk\u001b[0m\u001b[0;34m)\u001b[0m\u001b[0;34m)\u001b[0m\u001b[0;34m)\u001b[0m\u001b[0;34m\u001b[0m\u001b[0;34m\u001b[0m\u001b[0m\n\u001b[1;32m      8\u001b[0m \u001b[0;34m\u001b[0m\u001b[0m\n",
      "\u001b[0;31mAttributeError\u001b[0m: 'Circuit' object has no attribute 'to_tk'"
     ]
    }
   ],
   "source": [
    "from discopy.quantum import qubit, Circuit, Rx, CX, H, sqrt\n",
    "\n",
    "c0 = Rx(0.5) @ Circuit.id(qubit ** 2) >> CX @ Rx(0.125)\n",
    "print(\"From discopy:\\n{}\\n\".format(c0))\n",
    "\n",
    "c_tk = c0.to_tk()\n",
    "print(\"... to tket:\\n{}\\n\".format(list(c_tk)))\n",
    "\n",
    "c1 = Circuit.from_tk(c_tk)\n",
    "print(\"... and back! (up to interchanger)\\n{}\".format(c1))\n",
    "\n",
    "assert c0 == c1.interchange(1, 2)"
   ]
  },
  {
   "cell_type": "code",
   "execution_count": null,
   "metadata": {},
   "outputs": [],
   "source": [
    "from discopy import Gate, Ket\n",
    "\n",
    "def verb_ansatz(phase):\n",
    "    return Ket(0, 0) >> H @ sqrt(2) @ Rx(phase) >> CX\n",
    "\n",
    "print(verb_ansatz(0).eval())"
   ]
  },
  {
   "cell_type": "code",
   "execution_count": null,
   "metadata": {},
   "outputs": [],
   "source": [
    "(verb_ansatz(0) >> verb_ansatz(0.5).dagger()).measure()"
   ]
  },
  {
   "cell_type": "code",
   "execution_count": null,
   "metadata": {},
   "outputs": [],
   "source": [
    ".25 * (verb_ansatz(0) >> verb_ansatz(0).dagger()).measure()"
   ]
  },
  {
   "cell_type": "code",
   "execution_count": null,
   "metadata": {},
   "outputs": [],
   "source": [
    "from discopy.quantum import CircuitFunctor\n",
    "\n",
    "ob = {s: 0, n: 1}\n",
    "ar = lambda params: {\n",
    "    Alice: Ket(0), Bob: Ket(1),\n",
    "    loves: verb_ansatz(params['loves'])}\n",
    "\n",
    "F = lambda params: CircuitFunctor(ob, ar(params))\n",
    "\n",
    "params0 = {'loves': 0.5}\n",
    "\n",
    "print(\"Circuit for 'Alice loves Bob':\")\n",
    "F(params0)(parsing['Alice loves Bob.']).draw(\n",
    "    aspect='auto', draw_types=False, figsize=(5, 5))"
   ]
  },
  {
   "cell_type": "code",
   "execution_count": null,
   "metadata": {},
   "outputs": [],
   "source": [
    "from pytket.backends.ibm import AerBackend\n",
    "\n",
    "circuit = F(params0)(parsing['Alice loves Bob.'])\n",
    "tk_circ = circuit.to_tk()\n",
    "list(tk_circ)"
   ]
  },
  {
   "cell_type": "code",
   "execution_count": null,
   "metadata": {},
   "outputs": [],
   "source": [
    "print(\"Amplitude for 'Alice loves Bob':\")\n",
    "print(F(params0)(parsing['Alice loves Bob.']).eval())"
   ]
  },
  {
   "cell_type": "code",
   "execution_count": null,
   "metadata": {},
   "outputs": [],
   "source": [
    "evaluate = lambda F, sentence: F(parsing[sentence]).measure()\n",
    "\n",
    "print(\"Does Alice love Bob?\\n{}\".format(\n",
    "    \"Yes\" if evaluate(F(params0), 'Alice loves Bob.') else \"No\"))"
   ]
  },
  {
   "cell_type": "code",
   "execution_count": null,
   "metadata": {},
   "outputs": [],
   "source": [
    "corpus = {sentence: evaluate(F(params0), sentence) for sentence in sentences}\n",
    "\n",
    "epsilon = 1e-2\n",
    "\n",
    "print(\"True sentences:\\n{}\\n\".format('\\n'.join(sentence\n",
    "    for sentence, probability in corpus.items() if probability > 1 - epsilon)))\n",
    "print(\"False sentences:\\n{}\".format('\\n'.join(sentence\n",
    "    for sentence, probability in corpus.items() if probability < epsilon)))"
   ]
  },
  {
   "cell_type": "code",
   "execution_count": null,
   "metadata": {},
   "outputs": [],
   "source": [
    "import jax.numpy as np\n",
    "from jax import grad\n",
    "\n",
    "def mean_squared(y_true, y_pred):\n",
    "    return np.mean((np.array(y_true) - np.array(y_pred)) ** 2)\n",
    "\n",
    "f = lambda phase: mean_squared(*zip(*[\n",
    "    (evaluate(F(params0), sentence), evaluate(F({'loves': phase}), sentence))\n",
    "     for sentence in sentences]))\n",
    "\n",
    "grad(f)(0.75)"
   ]
  },
  {
   "cell_type": "code",
   "execution_count": null,
   "metadata": {},
   "outputs": [],
   "source": [
    "from jax import vmap\n",
    "\n",
    "x = np.arange(0.0, 1.0, 0.01)\n",
    "y = vmap(f)(x)\n",
    "dy = vmap(grad(f))(x)"
   ]
  },
  {
   "cell_type": "code",
   "execution_count": null,
   "metadata": {},
   "outputs": [],
   "source": [
    "import matplotlib.pyplot as plt\n",
    "\n",
    "plt.rcParams[\"figure.figsize\"] = (12, 5)\n",
    "\n",
    "plt.subplot(2, 1, 1)\n",
    "plt.plot(x, y)\n",
    "plt.title(\"functorial landscape for 'loves'\")\n",
    "plt.ylabel('loss')\n",
    "\n",
    "plt.subplot(2, 1, 2)\n",
    "plt.plot(x, dy)\n",
    "plt.xlabel('phase')\n",
    "plt.ylabel('grad')\n",
    "plt.show()"
   ]
  },
  {
   "cell_type": "code",
   "execution_count": null,
   "metadata": {},
   "outputs": [],
   "source": [
    "from sklearn.model_selection import train_test_split\n",
    "\n",
    "sentence_train, sentence_test = train_test_split(sentences, test_size=0.25, random_state=42)\n",
    "\n",
    "print(\"Training set:\\n{}\\n\".format('\\n'.join(sentence_train)))\n",
    "print(\"Testing set:\\n{}\".format('\\n'.join(map(\n",
    "    lambda x: 'Does ' + x.replace('loves', 'love').replace('.', '?'), sentence_test))))"
   ]
  },
  {
   "cell_type": "code",
   "execution_count": null,
   "metadata": {},
   "outputs": [],
   "source": [
    "from jax import jit\n",
    "from time import time\n",
    "\n",
    "loss = {sentence: lambda params: mean_squared(corpus[sentence], evaluate(F(params), sentence))\n",
    "                 for sentence in sentences}\n",
    "\n",
    "@jit\n",
    "def testing_loss(params):\n",
    "    return np.mean(np.array([loss[sentence](params) for sentence in sentence_test]))\n",
    "\n",
    "start = time()\n",
    "print(\"{1:.3f} seconds to compile the testing loss of params0 ({0})\".format(\n",
    "    testing_loss(params0), time() - start))\n",
    "\n",
    "step_size = 1e-2\n",
    "\n",
    "@jit\n",
    "def update(params):\n",
    "    for sentence in sentence_train:\n",
    "        params = {word: phase - step_size * grad(loss[sentence])(params)[word]\n",
    "                  for word, phase in params.items()}\n",
    "    return params\n",
    "\n",
    "start = time()\n",
    "print(\"{1:.3f} seconds to compile the update function just in time:\\n{0}\".format(\n",
    "    update(params0), time() - start))"
   ]
  },
  {
   "cell_type": "code",
   "execution_count": null,
   "metadata": {},
   "outputs": [],
   "source": [
    "from random import random, seed; seed(420)\n",
    "\n",
    "print(\"Random parameter initialisation...\")\n",
    "\n",
    "params = {'loves': random()}\n",
    "print(\"Initial parameters: {}\".format(params))\n",
    "\n",
    "print(\"Initial testing loss: {:.5f}\\n\".format(testing_loss(params)))\n",
    "\n",
    "epochs, iterations = 7, 10\n",
    "\n",
    "for epoch in range(epochs):\n",
    "    start = time()\n",
    "    for i in range(iterations):\n",
    "        params = update(params)\n",
    "\n",
    "    print(\"Epoch {} ({:.3f} milliseconds)\".format(epoch, 1e3 * (time() - start)))\n",
    "    print(\"Testing loss: {:.5f}\".format(testing_loss(params)))\n",
    "    print(\"params['loves'] = {:.3f}\\n\".format(params['loves']))"
   ]
  },
  {
   "cell_type": "code",
   "execution_count": null,
   "metadata": {},
   "outputs": [],
   "source": [
    "print(\"Does Alice love Bob?\")\n",
    "print(\"Yes\" if evaluate(F(params), 'Alice loves Bob.') > 1 - epsilon else \"No\")"
   ]
  },
  {
   "cell_type": "code",
   "execution_count": null,
   "metadata": {},
   "outputs": [],
   "source": []
  }
 ],
 "metadata": {
  "kernelspec": {
   "display_name": "Python 3",
   "language": "python",
   "name": "python3"
  },
  "language_info": {
   "codemirror_mode": {
    "name": "ipython",
    "version": 3
   },
   "file_extension": ".py",
   "mimetype": "text/x-python",
   "name": "python",
   "nbconvert_exporter": "python",
   "pygments_lexer": "ipython3",
   "version": "3.8.2"
  }
 },
 "nbformat": 4,
 "nbformat_minor": 2
}
