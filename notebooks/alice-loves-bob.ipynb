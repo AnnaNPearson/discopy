{
 "cells": [
  {
   "cell_type": "code",
   "execution_count": 1,
   "metadata": {},
   "outputs": [
    {
     "name": "stdout",
     "output_type": "stream",
     "text": [
      "Vocabulary:\n",
      "Word('Alice', Ty('n'))\n",
      "Word('loves', Ty(Ob('n', z=1), 's', Ob('n', z=-1)))\n",
      "Word('Bob', Ty('n'))\n"
     ]
    }
   ],
   "source": [
    "from discopy import Ty, Word\n",
    "\n",
    "s, n = Ty('s'), Ty('n')\n",
    "Alice, loves, Bob = Word('Alice', n), Word('loves', n.r @ s @ n.l), Word('Bob', n)\n",
    "\n",
    "print(\"Vocabulary:\\n{}\".format('\\n'.join(map(repr, [Alice, loves, Bob]))))"
   ]
  },
  {
   "cell_type": "code",
   "execution_count": 2,
   "metadata": {},
   "outputs": [
    {
     "name": "stdout",
     "output_type": "stream",
     "text": [
      "Diagram for 'Alice loves Bob':\n",
      "Alice \n",
      ">> Wire(n) @ loves \n",
      ">> Wire(n @ n.r @ s @ n.l) @ Bob \n",
      ">> Cup(n, n.r) @ Wire(s @ n.l @ n) \n",
      ">> Wire(s) @ Cup(n.l, n)\n"
     ]
    }
   ],
   "source": [
    "from discopy import Diagram, Id, Cup\n",
    "\n",
    "grammar = Cup(n, n.r) @ Id(s) @ Cup(n.l, n)\n",
    "parsing = {\"{} {} {}.\".format(subj, verb, obj): subj @ verb @ obj >> grammar\n",
    "            for subj in [Alice, Bob] for verb in [loves] for obj in [Alice, Bob]}\n",
    "\n",
    "diagram = parsing['Alice loves Bob.']\n",
    "print(\"Diagram for 'Alice loves Bob':\")\n",
    "print(str(diagram).replace('>>', '\\n>>'))\n",
    "\n",
    "assert diagram == Diagram(dom=Ty(),\n",
    "                          cod=s,\n",
    "                          boxes=[Alice, loves, Bob, Cup(n, n.r), Cup(n.l, n)],\n",
    "                          offsets=[0, 1, 4, 0, 1])"
   ]
  },
  {
   "cell_type": "code",
   "execution_count": 3,
   "metadata": {},
   "outputs": [
    {
     "name": "stdout",
     "output_type": "stream",
     "text": [
      "Grammatical sentences:\n",
      "Alice loves Alice.\n",
      "Alice loves Bob.\n",
      "Bob loves Alice.\n",
      "Bob loves Bob.\n"
     ]
    }
   ],
   "source": [
    "sentences = list(parsing.keys())\n",
    "print(\"Grammatical sentences:\\n{}\".format('\\n'.join(sentences)))"
   ]
  },
  {
   "cell_type": "code",
   "execution_count": 4,
   "metadata": {},
   "outputs": [
    {
     "name": "stdout",
     "output_type": "stream",
     "text": [
      "From discopy:\n",
      "Rx(0.5) @ Id(2) >> CX @ Id(1) >> Id(2) @ Rx(0.125)\n",
      "\n",
      "... to tket:\n",
      "[Rx(0.5PI) q[0];, Rx(0.125PI) q[2];, CX q[0], q[1];]\n",
      "\n",
      "... and back! (up to interchanger)\n",
      "Rx(0.5) @ Id(2) >> Id(2) @ Rx(0.125) >> CX @ Id(1)\n"
     ]
    }
   ],
   "source": [
    "from discopy.circuit import Circuit, Rx, CX\n",
    "\n",
    "c0 = Rx(0.5) @ Circuit.id(2) >> CX @ Rx(0.125)\n",
    "print(\"From discopy:\\n{}\\n\".format(c0))\n",
    "\n",
    "c_tk = c0.to_tk()\n",
    "print(\"... to tket:\\n{}\\n\".format(list(c_tk)))\n",
    "\n",
    "c1 = Circuit.from_tk(c_tk)\n",
    "print(\"... and back! (up to interchanger)\\n{}\".format(c1))\n",
    "\n",
    "assert c0 == c1.interchange(1, 2)"
   ]
  },
  {
   "cell_type": "code",
   "execution_count": 5,
   "metadata": {},
   "outputs": [
    {
     "name": "stdout",
     "output_type": "stream",
     "text": [
      "Matrix(dom=Dim(1), cod=Dim(2, 2), array=[(1+0j), 0j, 0j, (1+0j)])\n"
     ]
    }
   ],
   "source": [
    "from discopy import Gate, Ket\n",
    "\n",
    "H = Gate('H', 1, [1, 1, 1, -1])\n",
    "\n",
    "def verb_ansatz(phase):\n",
    "    return Ket(0, 0) >> H @ Rx(phase) >> CX\n",
    "\n",
    "print(verb_ansatz(0).eval())"
   ]
  },
  {
   "cell_type": "code",
   "execution_count": 6,
   "metadata": {},
   "outputs": [
    {
     "data": {
      "text/plain": [
       "DeviceArray(7.642742e-15, dtype=float32)"
      ]
     },
     "execution_count": 6,
     "metadata": {},
     "output_type": "execute_result"
    }
   ],
   "source": [
    "(verb_ansatz(0) >> verb_ansatz(0.5).dagger()).measure()"
   ]
  },
  {
   "cell_type": "code",
   "execution_count": 7,
   "metadata": {},
   "outputs": [
    {
     "data": {
      "text/plain": [
       "DeviceArray(1., dtype=float32)"
      ]
     },
     "execution_count": 7,
     "metadata": {},
     "output_type": "execute_result"
    }
   ],
   "source": [
    ".25 * (verb_ansatz(0) >> verb_ansatz(0).dagger()).measure()"
   ]
  },
  {
   "cell_type": "code",
   "execution_count": 8,
   "metadata": {},
   "outputs": [
    {
     "name": "stdout",
     "output_type": "stream",
     "text": [
      "Circuit for 'Alice loves Bob':\n",
      "Ket(0) \n",
      ">> Id(1) @ Ket(0, 0) \n",
      ">> Id(1) @ H @ Id(1) \n",
      ">> Id(2) @ Rx(0.5) \n",
      ">> Id(1) @ CX \n",
      ">> Id(3) @ Ket(1) \n",
      ">> CX @ Id(2) \n",
      ">> H @ sqrt(2) @ Id(3) \n",
      ">> Bra(0, 0) @ Id(2) \n",
      ">> CX \n",
      ">> H @ sqrt(2) @ Id(1) \n",
      ">> Bra(0, 0)\n"
     ]
    }
   ],
   "source": [
    "from discopy import CircuitModel\n",
    "\n",
    "ob = {s: 0, n: 1}\n",
    "ar = lambda params: {\n",
    "    Alice: Ket(0), Bob: Ket(1),\n",
    "    loves: verb_ansatz(params['loves'])}\n",
    "\n",
    "F = lambda params: CircuitModel(ob, ar(params))\n",
    "\n",
    "params0 = {'loves': 0.5}\n",
    "\n",
    "print(\"Circuit for 'Alice loves Bob':\\n{}\".format(\n",
    "    str(F(params0)(parsing['Alice loves Bob.'])).replace('>>', '\\n>>')))"
   ]
  },
  {
   "cell_type": "code",
   "execution_count": 9,
   "metadata": {},
   "outputs": [
    {
     "name": "stdout",
     "output_type": "stream",
     "text": [
      "Amplitude for 'Alice loves Bob':\n",
      "Matrix(dom=Dim(1), cod=Dim(1), array=[(1+4.371139e-08j)])\n"
     ]
    }
   ],
   "source": [
    "print(\"Amplitude for 'Alice loves Bob':\")\n",
    "print(F(params0)(parsing['Alice loves Bob.']).eval())"
   ]
  },
  {
   "cell_type": "code",
   "execution_count": 10,
   "metadata": {},
   "outputs": [
    {
     "name": "stdout",
     "output_type": "stream",
     "text": [
      "Does Alice love Bob?\n",
      "Yes\n"
     ]
    }
   ],
   "source": [
    "evaluate = lambda F, sentence: F(parsing[sentence]).measure()\n",
    "\n",
    "print(\"Does Alice love Bob?\\n{}\".format(\n",
    "    \"Yes\" if evaluate(F(params0), 'Alice loves Bob.') else \"No\"))"
   ]
  },
  {
   "cell_type": "code",
   "execution_count": 11,
   "metadata": {},
   "outputs": [
    {
     "name": "stdout",
     "output_type": "stream",
     "text": [
      "True sentences:\n",
      "Alice loves Bob.\n",
      "Bob loves Alice.\n",
      "\n",
      "False sentences:\n",
      "Alice loves Alice.\n",
      "Bob loves Bob.\n"
     ]
    }
   ],
   "source": [
    "corpus = {sentence: evaluate(F(params0), sentence) for sentence in sentences}\n",
    "\n",
    "epsilon = 1e-2\n",
    "\n",
    "print(\"True sentences:\\n{}\\n\".format('\\n'.join(sentence\n",
    "    for sentence, probability in corpus.items() if probability > 1 - epsilon)))\n",
    "print(\"False sentences:\\n{}\".format('\\n'.join(sentence\n",
    "    for sentence, probability in corpus.items() if probability < epsilon)))"
   ]
  },
  {
   "cell_type": "code",
   "execution_count": 12,
   "metadata": {},
   "outputs": [
    {
     "data": {
      "text/plain": [
       "DeviceArray(3.141592, dtype=float32)"
      ]
     },
     "execution_count": 12,
     "metadata": {},
     "output_type": "execute_result"
    }
   ],
   "source": [
    "import jax.numpy as np\n",
    "from jax import grad\n",
    "\n",
    "def mean_squared(y_true, y_pred):\n",
    "    return np.mean((np.array(y_true) - np.array(y_pred)) ** 2)\n",
    "\n",
    "f = lambda phase: mean_squared(*zip(*[\n",
    "    (evaluate(F(params0), sentence), evaluate(F({'loves': phase}), sentence))\n",
    "     for sentence in sentences]))\n",
    "\n",
    "grad(f)(0.75)"
   ]
  },
  {
   "cell_type": "code",
   "execution_count": 13,
   "metadata": {},
   "outputs": [],
   "source": [
    "from jax import vmap\n",
    "\n",
    "x = np.arange(0.0, 1.0, 0.01)\n",
    "y = vmap(f)(x)\n",
    "dy = vmap(grad(f))(x)"
   ]
  },
  {
   "cell_type": "code",
   "execution_count": 14,
   "metadata": {},
   "outputs": [
    {
     "data": {
      "image/png": "[encoded data removed]",
      "text/plain": [
       "<Figure size 864x360 with 2 Axes>"
      ]
     },
     "metadata": {
      "needs_background": "light"
     },
     "output_type": "display_data"
    }
   ],
   "source": [
    "import matplotlib.pyplot as plt\n",
    "\n",
    "plt.rcParams[\"figure.figsize\"] = (12, 5)\n",
    "\n",
    "plt.subplot(2, 1, 1)\n",
    "plt.plot(x, y)\n",
    "plt.title(\"functorial landscape for 'loves'\")\n",
    "plt.ylabel('loss')\n",
    "\n",
    "plt.subplot(2, 1, 2)\n",
    "plt.plot(x, dy)\n",
    "plt.xlabel('phase')\n",
    "plt.ylabel('grad')\n",
    "plt.show()"
   ]
  },
  {
   "cell_type": "code",
   "execution_count": 15,
   "metadata": {},
   "outputs": [
    {
     "name": "stdout",
     "output_type": "stream",
     "text": [
      "Training set:\n",
      "Bob loves Bob.\n",
      "Alice loves Alice.\n",
      "Bob loves Alice.\n",
      "\n",
      "Testing set:\n",
      "Does Alice love Bob?\n"
     ]
    }
   ],
   "source": [
    "from sklearn.model_selection import train_test_split\n",
    "\n",
    "sentence_train, sentence_test = train_test_split(sentences, test_size=0.25, random_state=42)\n",
    "\n",
    "print(\"Training set:\\n{}\\n\".format('\\n'.join(sentence_train)))\n",
    "print(\"Testing set:\\n{}\".format('\\n'.join(map(\n",
    "    lambda x: 'Does ' + x.replace('loves', 'love').replace('.', '?'), sentence_test))))"
   ]
  },
  {
   "cell_type": "code",
   "execution_count": 16,
   "metadata": {},
   "outputs": [
    {
     "name": "stdout",
     "output_type": "stream",
     "text": [
      "0.313 seconds to compile the testing loss of params0 (0.0)\n",
      "1.726 seconds to compile the update function just in time:\n",
      "{'loves': DeviceArray(0.5, dtype=float32)}\n"
     ]
    }
   ],
   "source": [
    "from jax import jit\n",
    "from time import time\n",
    "\n",
    "loss = {sentence: lambda params: mean_squared(corpus[sentence], evaluate(F(params), sentence))\n",
    "                 for sentence in sentences}\n",
    "\n",
    "@jit\n",
    "def testing_loss(params):\n",
    "    return np.mean(np.array([loss[sentence](params) for sentence in sentence_test]))\n",
    "\n",
    "start = time()\n",
    "print(\"{1:.3f} seconds to compile the testing loss of params0 ({0})\".format(\n",
    "    testing_loss(params0), time() - start))\n",
    "\n",
    "step_size = 1e-2\n",
    "\n",
    "@jit\n",
    "def update(params):\n",
    "    for sentence in sentence_train:\n",
    "        params = {word: phase - step_size * grad(loss[sentence])(params)[word]\n",
    "                  for word, phase in params.items()}\n",
    "    return params\n",
    "\n",
    "start = time()\n",
    "print(\"{1:.3f} seconds to compile the update function just in time:\\n{0}\".format(\n",
    "    update(params0), time() - start))"
   ]
  },
  {
   "cell_type": "code",
   "execution_count": 17,
   "metadata": {},
   "outputs": [
    {
     "name": "stdout",
     "output_type": "stream",
     "text": [
      "Random parameter initialisation...\n",
      "Initial parameters: {'loves': 0.026343380459525556}\n",
      "Initial testing loss: 0.98638\n",
      "\n",
      "Epoch 0 (1436.500 milliseconds)\n",
      "Testing loss: 0.00321\n",
      "params['loves'] = 0.424\n",
      "\n",
      "Epoch 1 (1.831 milliseconds)\n",
      "Testing loss: 0.00060\n",
      "params['loves'] = 0.450\n",
      "\n",
      "Epoch 2 (1.736 milliseconds)\n",
      "Testing loss: 0.00024\n",
      "params['loves'] = 0.460\n",
      "\n",
      "Epoch 3 (2.619 milliseconds)\n",
      "Testing loss: 0.00013\n",
      "params['loves'] = 0.466\n",
      "\n",
      "Epoch 4 (1.621 milliseconds)\n",
      "Testing loss: 0.00008\n",
      "params['loves'] = 0.470\n",
      "\n",
      "Epoch 5 (1.686 milliseconds)\n",
      "Testing loss: 0.00005\n",
      "params['loves'] = 0.473\n",
      "\n",
      "Epoch 6 (1.569 milliseconds)\n",
      "Testing loss: 0.00004\n",
      "params['loves'] = 0.475\n",
      "\n"
     ]
    }
   ],
   "source": [
    "from random import random, seed; seed(420)\n",
    "\n",
    "print(\"Random parameter initialisation...\")\n",
    "\n",
    "params = {'loves': random()}\n",
    "print(\"Initial parameters: {}\".format(params))\n",
    "\n",
    "print(\"Initial testing loss: {:.5f}\\n\".format(testing_loss(params)))\n",
    "\n",
    "epochs, iterations = 7, 10\n",
    "\n",
    "for epoch in range(epochs):\n",
    "    start = time()\n",
    "    for i in range(iterations):\n",
    "        params = update(params)\n",
    "\n",
    "    print(\"Epoch {} ({:.3f} milliseconds)\".format(epoch, 1e3 * (time() - start)))\n",
    "    print(\"Testing loss: {:.5f}\".format(testing_loss(params)))\n",
    "    print(\"params['loves'] = {:.3f}\\n\".format(params['loves']))"
   ]
  },
  {
   "cell_type": "code",
   "execution_count": 18,
   "metadata": {},
   "outputs": [
    {
     "name": "stdout",
     "output_type": "stream",
     "text": [
      "Does Alice love Bob?\n",
      "Yes\n"
     ]
    }
   ],
   "source": [
    "print(\"Does Alice love Bob?\")\n",
    "print(\"Yes\" if evaluate(F(params), 'Alice loves Bob.') > 1 - epsilon else \"No\")"
   ]
  }
 ],
 "metadata": {
  "kernelspec": {
   "display_name": "Python 3",
   "language": "python",
   "name": "python3"
  },
  "language_info": {
   "codemirror_mode": {
    "name": "ipython",
    "version": 3
   },
   "file_extension": ".py",
   "mimetype": "text/x-python",
   "name": "python",
   "nbconvert_exporter": "python",
   "pygments_lexer": "ipython3",
   "version": "3.7.5"
  }
 },
 "nbformat": 4,
 "nbformat_minor": 2
}
