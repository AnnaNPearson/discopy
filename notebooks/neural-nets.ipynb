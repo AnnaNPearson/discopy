{
 "cells": [
  {
   "cell_type": "code",
   "execution_count": 2,
   "metadata": {},
   "outputs": [
    {
     "ename": "ImportError",
     "evalue": "cannot import name 'Wire' from 'discopy.pregroup' (/Users/giovannidefelice/.pyenv/versions/3.7.4/lib/python3.7/site-packages/discopy/pregroup.py)",
     "output_type": "error",
     "traceback": [
      "\u001b[0;31m---------------------------------------------------------------------------\u001b[0m",
      "\u001b[0;31mImportError\u001b[0m                               Traceback (most recent call last)",
      "\u001b[0;32m<ipython-input-2-1583190286cf>\u001b[0m in \u001b[0;36m<module>\u001b[0;34m\u001b[0m\n\u001b[0;32m----> 1\u001b[0;31m \u001b[0;32mfrom\u001b[0m \u001b[0mdiscopy\u001b[0m \u001b[0;32mimport\u001b[0m \u001b[0;34m*\u001b[0m\u001b[0;34m\u001b[0m\u001b[0;34m\u001b[0m\u001b[0m\n\u001b[0m\u001b[1;32m      2\u001b[0m \u001b[0;32mfrom\u001b[0m \u001b[0mdiscopy\u001b[0m\u001b[0;34m.\u001b[0m\u001b[0mfunction\u001b[0m \u001b[0;32mimport\u001b[0m \u001b[0;34m*\u001b[0m\u001b[0;34m\u001b[0m\u001b[0;34m\u001b[0m\u001b[0m\n",
      "\u001b[0;32m~/.pyenv/versions/3.7.4/lib/python3.7/site-packages/discopy/__init__.py\u001b[0m in \u001b[0;36m<module>\u001b[0;34m\u001b[0m\n\u001b[1;32m     16\u001b[0m \u001b[0;32mfrom\u001b[0m \u001b[0mdiscopy\u001b[0m\u001b[0;34m.\u001b[0m\u001b[0mmatrix\u001b[0m \u001b[0;32mimport\u001b[0m \u001b[0mDim\u001b[0m\u001b[0;34m,\u001b[0m \u001b[0mMatrix\u001b[0m\u001b[0;34m,\u001b[0m \u001b[0mMatrixFunctor\u001b[0m\u001b[0;34m\u001b[0m\u001b[0;34m\u001b[0m\u001b[0m\n\u001b[1;32m     17\u001b[0m \u001b[0;32mfrom\u001b[0m \u001b[0mdiscopy\u001b[0m\u001b[0;34m.\u001b[0m\u001b[0mcircuit\u001b[0m \u001b[0;32mimport\u001b[0m \u001b[0mPRO\u001b[0m\u001b[0;34m,\u001b[0m \u001b[0mCircuit\u001b[0m\u001b[0;34m,\u001b[0m \u001b[0mGate\u001b[0m\u001b[0;34m,\u001b[0m \u001b[0mBra\u001b[0m\u001b[0;34m,\u001b[0m \u001b[0mKet\u001b[0m\u001b[0;34m,\u001b[0m \u001b[0mCircuitFunctor\u001b[0m\u001b[0;34m\u001b[0m\u001b[0;34m\u001b[0m\u001b[0m\n\u001b[0;32m---> 18\u001b[0;31m \u001b[0;32mfrom\u001b[0m \u001b[0mdiscopy\u001b[0m\u001b[0;34m.\u001b[0m\u001b[0mpregroup\u001b[0m \u001b[0;32mimport\u001b[0m \u001b[0mOb\u001b[0m\u001b[0;34m,\u001b[0m \u001b[0mTy\u001b[0m\u001b[0;34m,\u001b[0m \u001b[0mBox\u001b[0m\u001b[0;34m,\u001b[0m \u001b[0mDiagram\u001b[0m\u001b[0;34m,\u001b[0m \u001b[0mWire\u001b[0m\u001b[0;34m,\u001b[0m \u001b[0mCup\u001b[0m\u001b[0;34m,\u001b[0m \u001b[0mCap\u001b[0m\u001b[0;34m\u001b[0m\u001b[0;34m\u001b[0m\u001b[0m\n\u001b[0m\u001b[1;32m     19\u001b[0m \u001b[0;32mfrom\u001b[0m \u001b[0mdiscopy\u001b[0m\u001b[0;34m.\u001b[0m\u001b[0mdisco\u001b[0m \u001b[0;32mimport\u001b[0m \u001b[0mWord\u001b[0m\u001b[0;34m,\u001b[0m \u001b[0mModel\u001b[0m\u001b[0;34m,\u001b[0m \u001b[0mCircuitModel\u001b[0m\u001b[0;34m\u001b[0m\u001b[0;34m\u001b[0m\u001b[0m\n\u001b[1;32m     20\u001b[0m \u001b[0;34m\u001b[0m\u001b[0m\n",
      "\u001b[0;31mImportError\u001b[0m: cannot import name 'Wire' from 'discopy.pregroup' (/Users/giovannidefelice/.pyenv/versions/3.7.4/lib/python3.7/site-packages/discopy/pregroup.py)"
     ]
    }
   ],
   "source": [
    "from discopy import *\n",
    "from discopy.function import *"
   ]
  },
  {
   "cell_type": "code",
   "execution_count": null,
   "metadata": {},
   "outputs": [],
   "source": [
    "def scalar_mult(scalar):\n",
    "     return Function('scalar_mult({})'.format(repr(scalar)), Dim(1), Dim(1), lambda x: scalar * x)\n",
    "    \n",
    "def scalar_mults(dom, weights):\n",
    "    result = Id(0)\n",
    "    for i in range(dom):\n",
    "        result = result @ scalar_mult(weights[i])\n",
    "    return result\n",
    "   \n",
    "def bias(scalar):\n",
    "    return Function('bias({})'.format(repr(scalar)), Dim(0), Dim(1), lambda x: np.array([scalar]))\n",
    "\n",
    "def merge(cod, copies):\n",
    "    @discofunc(cod * copies, cod, name='merge({}, {})'.format(cod, copies))\n",
    "    def add(x):\n",
    "        return np.array([np.sum([x[i + cod * j] for j in range(copies)]) for i in range(cod)])\n",
    "    return add\n",
    "\n",
    "def split(dom, copies):\n",
    "    @discofunc(dom, dom * copies, name='split({}, {})'.format(dom, copies))\n",
    "    def copy(x):\n",
    "        return np.concatenate([x for i in range(copies)])\n",
    "    return copy\n",
    "\n",
    "@discofunc(1, 1)\n",
    "def sigmoid(x):\n",
    "    return 1/(1 + np.exp(-x))"
   ]
  },
  {
   "cell_type": "code",
   "execution_count": 6,
   "metadata": {},
   "outputs": [],
   "source": [
    "def neuron(dom, cod, weights, beta=0): # weights is a 1d array of length dom, beta is a scalar bias\n",
    "    return scalar_mults(dom, weights) @ bias(beta) >> merge(1, dom + 1) >> sigmoid >> split(1, cod)"
   ]
  },
  {
   "cell_type": "code",
   "execution_count": 12,
   "metadata": {
    "scrolled": true
   },
   "outputs": [
    {
     "data": {
      "text/plain": [
       "scalar_mult(0) @ scalar_mult(2.1) @ scalar_mult(0.3) @ scalar_mult(0.1) @ bias(0) >> merge(1, 5) >> sigmoid >> split(1, 4)"
      ]
     },
     "execution_count": 12,
     "metadata": {},
     "output_type": "execute_result"
    }
   ],
   "source": [
    "neuron(4, 4, [0, 2.1, 0.3, 0.1])"
   ]
  },
  {
   "cell_type": "code",
   "execution_count": 18,
   "metadata": {},
   "outputs": [
    {
     "name": "stdout",
     "output_type": "stream",
     "text": [
      "[0.7875132 0.7875132 0.7875132 0.7875132]\n",
      "[0.         0.35140604 0.05020086 0.01673362]\n"
     ]
    }
   ],
   "source": [
    "from jax import jit, grad\n",
    "\n",
    "print(jit(neuron(4, 4, [0, 2.1, 0.3, 0.1]))(np.array([0., 0.3, 1.2, 3.2])))\n",
    "print(grad(lambda x: neuron(4, 1, [0, 2.1, 0.3, 0.1])(x)[0])(np.array([0., 0.3, 1.2, 3.2])))"
   ]
  },
  {
   "cell_type": "code",
   "execution_count": 8,
   "metadata": {},
   "outputs": [],
   "source": [
    "def layer(dom, cod, weights, biases): # weights is an array of size: cod x dom (note cod = number of neurons)\n",
    "    neurons = Id(0)                   # biases is a 1d array of length cod\n",
    "    for i in range(cod):\n",
    "        neurons = neurons @ neuron(dom, 1, weights[i], biases[i])\n",
    "    return split(dom, cod) >> neurons"
   ]
  },
  {
   "cell_type": "code",
   "execution_count": 9,
   "metadata": {},
   "outputs": [
    {
     "data": {
      "text/plain": [
       "DeviceArray([0.5, 0.5], dtype=float32)"
      ]
     },
     "execution_count": 9,
     "metadata": {},
     "output_type": "execute_result"
    }
   ],
   "source": [
    "layer(3, 2, [[0, 0, 0], [0, 0, 0]], [0, 0])(np.array([4, 1, 10]))"
   ]
  },
  {
   "cell_type": "code",
   "execution_count": null,
   "metadata": {},
   "outputs": [],
   "source": []
  }
 ],
 "metadata": {
  "kernelspec": {
   "display_name": "Python 3",
   "language": "python",
   "name": "python3"
  }
 },
 "nbformat": 4,
 "nbformat_minor": 2
}
