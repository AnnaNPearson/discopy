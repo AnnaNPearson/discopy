{
 "cells": [
  {
   "cell_type": "markdown",
   "metadata": {},
   "source": [
    "# Composing neurons\n",
    "\n",
    "We show how to construct neurons, layers and neural nets by composing scalar multiplications, bias, copy and merge. See arxiv:1711.10455."
   ]
  },
  {
   "cell_type": "code",
   "execution_count": 1,
   "metadata": {},
   "outputs": [],
   "source": [
    "# First define the syntax\n",
    "\n",
    "from discopy import Ob, Ty, Box, Diagram, Id\n",
    "\n",
    "obj = Ty(Ob(1))\n",
    "activate = Box('activate', obj, obj)\n",
    "merge = lambda cod, copies: Box('merge', obj**(cod * copies), obj**(cod)) \n",
    "split = lambda dom, copies: Box('split', obj**(dom), obj**(dom * copies))\n",
    "neuron = lambda dom: merge(1, dom) >> activate\n",
    "\n",
    "def layer(dom, n_neurons): \n",
    "    neurons = neuron(dom)\n",
    "    for i in range(n_neurons - 1):\n",
    "        neurons = neurons @ neuron(dom)\n",
    "    return split(dom, n_neurons) >> neurons"
   ]
  },
  {
   "cell_type": "code",
   "execution_count": 2,
   "metadata": {},
   "outputs": [
    {
     "data": {
      "image/png": "[encoded data removed]",
      "text/plain": [
       "<Figure size 432x288 with 1 Axes>"
      ]
     },
     "metadata": {},
     "output_type": "display_data"
    }
   ],
   "source": [
    "neuron(3).draw()"
   ]
  },
  {
   "cell_type": "code",
   "execution_count": 3,
   "metadata": {},
   "outputs": [
    {
     "data": {
      "image/png": "[encoded data removed]",
      "text/plain": [
       "<Figure size 432x288 with 1 Axes>"
      ]
     },
     "metadata": {},
     "output_type": "display_data"
    }
   ],
   "source": [
    "layer(2, 3).draw()"
   ]
  },
  {
   "cell_type": "code",
   "execution_count": 4,
   "metadata": {},
   "outputs": [],
   "source": [
    "# The semantics is given by discopy Functions\n",
    "\n",
    "from discopy import *\n",
    "from discopy.function import Vec, Function, Id, discofunc\n",
    "\n",
    "def mult(weight): \n",
    "    return Function('mult({})'.format(str(weight)), 1, 1, lambda x: weight * x)\n",
    "    \n",
    "def mults(dom, weights):\n",
    "    result = Id(0)\n",
    "    for i in range(dom):\n",
    "        result = result @ mult(weights[i])\n",
    "    result._name = 'mults({})'.format(str(weights))\n",
    "    return result\n",
    "\n",
    "def bias(weight):\n",
    "    return Function('bias({})'.format(str(weight)), Vec(0), Vec(1), lambda x: np.array([weight]))\n",
    "\n",
    "def add(cod, copies):\n",
    "    @discofunc(cod * copies, cod, name='add({}, {})'.format(cod, copies))\n",
    "    def merge(x):\n",
    "        return np.array([np.sum([x[i + cod * j] for j in range(copies)]) for i in range(cod)])\n",
    "    return merge\n",
    "\n",
    "sigmoid = Function('sigmoid', 1, 1, lambda x: 1/(1 + np.exp(-x)))"
   ]
  },
  {
   "cell_type": "code",
   "execution_count": 5,
   "metadata": {},
   "outputs": [],
   "source": [
    "def Neuron(dom, weights, beta=0): \n",
    "    # weights is a 1d array of length dom, beta is a scalar bias\n",
    "    return mults(dom, weights) @ bias(beta) >> add(1, dom + 1) >> sigmoid"
   ]
  },
  {
   "cell_type": "markdown",
   "metadata": {},
   "source": [
    "We can jit and take the gradient of neurons using Jax."
   ]
  },
  {
   "cell_type": "code",
   "execution_count": 6,
   "metadata": {
    "scrolled": true
   },
   "outputs": [
    {
     "name": "stdout",
     "output_type": "stream",
     "text": [
      "[0.7875132]\n",
      "[0.         0.35140604 0.05020086 0.01673362]\n"
     ]
    }
   ],
   "source": [
    "import jax.numpy as np\n",
    "from jax import jit, grad\n",
    "\n",
    "print(jit(Neuron(4, [0, 2.1, 0.3, 0.1]))(np.array([0., 0.3, 1.2, 3.2])))\n",
    "print(grad(lambda x: Neuron(4, [0., 2.1, 0.3, 0.1])(x)[0])(np.array([0., 0.3, 1.2, 3.2])))"
   ]
  },
  {
   "cell_type": "code",
   "execution_count": 7,
   "metadata": {},
   "outputs": [],
   "source": [
    "from discopy.function import Copy\n",
    "\n",
    "def Layer(dom, cod, weights, biases): # weights is an array of shape: (cod, dom) (note cod = number of neurons)\n",
    "    neurons = Id(0)                   # biases is a 1d array of shape (cod, )\n",
    "    for i in range(cod):\n",
    "        neurons = neurons @ Neuron(dom, weights[i], biases[i])\n",
    "    return Copy(dom, cod) >> neurons"
   ]
  },
  {
   "cell_type": "code",
   "execution_count": 8,
   "metadata": {},
   "outputs": [],
   "source": [
    "disconnected_layer = lambda x: Layer(3, 1, [[0., 0., 0.]], [0., 0.])(x)[0]\n",
    "assert np.all(grad(disconnected_layer)(np.array([2., 3.4, 1.])) == np.array([0., 0., 0.]))"
   ]
  },
  {
   "cell_type": "code",
   "execution_count": 9,
   "metadata": {},
   "outputs": [],
   "source": [
    "def neural_net(layers, weights, biases): \n",
    "    # each layer has layer[i] neurons and is fully connected to adjacent layers \n",
    "    # weights is a list of arrays of shape (layers[i+1], layers[i]) of length len(layers) - 1\n",
    "    # biases is a list of 1d arrays of shape (layers[i], ) of length len(layers) - 1\n",
    "    result = Id(layers[0])\n",
    "    for i in range(len(layers) - 1):\n",
    "        result = result >> Layer(layers[i], layers[i + 1], weights[i], biases[i])\n",
    "    return result"
   ]
  },
  {
   "cell_type": "code",
   "execution_count": 10,
   "metadata": {},
   "outputs": [
    {
     "name": "stdout",
     "output_type": "stream",
     "text": [
      "0.9997029\n",
      "[DeviceArray(-1.7505185e-06, dtype=float32), DeviceArray(2.6194587e-06, dtype=float32)]\n"
     ]
    }
   ],
   "source": [
    "from random import uniform\n",
    "\n",
    "layers = [2, 3, 1]\n",
    "weights = [[[uniform(-10, 10) for k in range(layers[i])] for j in range(layers[i+1])] for i in range(len(layers) - 1)]\n",
    "biases = [[uniform(-5, 5) for j in range(layers[i+1])] for i in range(len(layers) - 1)]\n",
    "\n",
    "nnet = lambda x: neural_net(layers, weights, biases)(x)[0]\n",
    "jit(nnet)\n",
    "print(nnet([2.23, 4.2]))\n",
    "print(grad(nnet)([2., 4.]))"
   ]
  }
 ],
 "metadata": {
  "kernelspec": {
   "display_name": "Python 3",
   "language": "python",
   "name": "python3"
  },
  "language_info": {
   "codemirror_mode": {
    "name": "ipython",
    "version": 3
   },
   "file_extension": ".py",
   "mimetype": "text/x-python",
   "name": "python",
   "nbconvert_exporter": "python",
   "pygments_lexer": "ipython3",
   "version": "3.7.5"
  }
 },
 "nbformat": 4,
 "nbformat_minor": 2
}
