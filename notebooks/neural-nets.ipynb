{
 "cells": [
  {
   "cell_type": "code",
   "execution_count": null,
   "metadata": {},
   "outputs": [],
   "source": [
    "from discopy import *\n",
    "from discopy.function import *"
   ]
  },
  {
   "cell_type": "code",
   "execution_count": null,
   "metadata": {},
   "outputs": [],
   "source": [
    "def scalar_mult(scalar):\n",
    "     return Function('scalar_mult({})'.format(repr(scalar)), Dim(1), Dim(1), lambda x: scalar * x)\n",
    "    \n",
    "def scalar_mults(dom, weights):\n",
    "    result = Id(0)\n",
    "    for i in range(dom):\n",
    "        result = result @ scalar_mult(weights[i])\n",
    "    return result\n",
    "   \n",
    "def bias(scalar):\n",
    "    return Function('bias({})'.format(repr(scalar)), Dim(0), Dim(1), lambda x: np.array([scalar]))\n",
    "\n",
    "def merge(cod, copies):\n",
    "    @discofunc(cod * copies, cod)\n",
    "    def add(x):\n",
    "        return np.array([np.sum([x[i + cod * j] for j in range(copies)]) for i in range(cod)])\n",
    "    return add\n",
    "\n",
    "def split(dom, copies):\n",
    "    @discofunc(dom, dom * copies)\n",
    "    def copy(x):\n",
    "        return np.concatenate([x for i in range(copies)])\n",
    "    return copy\n",
    "\n",
    "@discofunc(1, 1)\n",
    "def sigmoid(x):\n",
    "    return 1/(1 + np.exp(-x))"
   ]
  },
  {
   "cell_type": "code",
   "execution_count": null,
   "metadata": {},
   "outputs": [],
   "source": [
    "def neuron(dom, cod, weights, beta=0): # weights is a 1d array of length dom, beta is a scalar bias\n",
    "    return scalar_mults(dom, weights) @ bias(beta) >> merge(1, dom + 1) >> sigmoid >> split(1, cod)"
   ]
  },
  {
   "cell_type": "code",
   "execution_count": null,
   "metadata": {},
   "outputs": [],
   "source": [
    "neuron(4, 4, [0.5, 2.1, 0.3, 0.1])(np.array([0.1, 1, 0.2, 0.4]))"
   ]
  },
  {
   "cell_type": "code",
   "execution_count": null,
   "metadata": {},
   "outputs": [],
   "source": [
    "def layer(dom, cod, weights, biases): # weights is an array of size: cod x dom (note cod = number of neurons)\n",
    "    neurons = Id(0)                   # biases is a 1d array of length cod\n",
    "    for i in range(cod):\n",
    "        neurons = neurons @ neuron(dom, 1, weights[i], biases[i])\n",
    "    return split(dom, cod) >> neurons"
   ]
  },
  {
   "cell_type": "code",
   "execution_count": null,
   "metadata": {},
   "outputs": [],
   "source": [
    "layer(3, 2, np.array([[2.1, 3, -4], [2, 0, 1.5]]), np.array([-1, 0]))(np.array([0.1, 0, 0.2]))"
   ]
  }
 ],
 "metadata": {
  "kernelspec": {
   "display_name": "Python 3",
   "language": "python",
   "name": "python3"
  },
  "language_info": {
   "codemirror_mode": {
    "name": "ipython",
    "version": 3
   },
   "file_extension": ".py",
   "mimetype": "text/x-python",
   "name": "python",
   "nbconvert_exporter": "python",
   "pygments_lexer": "ipython3",
   "version": "3.7.4"
  }
 },
 "nbformat": 4,
 "nbformat_minor": 2
}
