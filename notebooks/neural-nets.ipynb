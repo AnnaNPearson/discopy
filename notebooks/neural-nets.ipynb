{
 "cells": [
  {
   "cell_type": "markdown",
   "metadata": {},
   "source": [
    "# Composing neurons\n",
    "\n",
    "In the learner.py file, the classes for neurons and layers are constructed by composing scalar multiplications, bias, copy and sum, following arxiv:1711.10455. Here we show how this composition works and how to take gradients of neurons and layers using Jax."
   ]
  },
  {
   "cell_type": "code",
   "execution_count": 3,
   "metadata": {},
   "outputs": [
    {
     "data": {
      "image/png": "[encoded data removed]",
      "text/plain": [
       "<Figure size 576x288 with 1 Axes>"
      ]
     },
     "metadata": {},
     "output_type": "display_data"
    }
   ],
   "source": [
    "from discopy.learner import Neuron\n",
    "import jax.numpy as np\n",
    "\n",
    "dom = 3\n",
    "weights = np.arange(dom + 1)\n",
    "Neuron(dom, weights).draw(draw_types=False, aspect='auto', figsize=(8, 4))"
   ]
  },
  {
   "cell_type": "code",
   "execution_count": 8,
   "metadata": {},
   "outputs": [
    {
     "data": {
      "image/png": "[encoded data removed]",
      "text/plain": [
       "<Figure size 576x288 with 1 Axes>"
      ]
     },
     "metadata": {},
     "output_type": "display_data"
    }
   ],
   "source": [
    "from discopy.learner import Layer\n",
    "\n",
    "dom, cod = 2, 3\n",
    "params = np.arange((dom + 1) * cod).reshape(dom + 1, cod).astype(float)\n",
    "Layer(dom, cod, params).draw(draw_types=False, aspect='auto', figsize=(8, 4))"
   ]
  },
  {
   "cell_type": "markdown",
   "metadata": {},
   "source": [
    "We can jit and take the gradient of neurons using Jax."
   ]
  },
  {
   "cell_type": "code",
   "execution_count": 3,
   "metadata": {
    "scrolled": true
   },
   "outputs": [
    {
     "name": "stdout",
     "output_type": "stream",
     "text": [
      "0.243 seconds to compile a neuron just in time:\n",
      "[0.794839]\n",
      "\n",
      "Gradient at [0, 0, 0, 0]: [-0.27718723  0.08234481 -0.10376777]\n"
     ]
    }
   ],
   "source": [
    "from jax import jit, grad\n",
    "from time import time\n",
    "from random import uniform\n",
    "\n",
    "dom = 3\n",
    "weights = [uniform(-2, 2) for i in range(dom + 1)]\n",
    "input_vector = np.array([uniform(-1, 1) for i in range(dom)])\n",
    "neuron = Neuron(dom, weights)\n",
    "\n",
    "start = time()\n",
    "jit(neuron)\n",
    "print(\"{1:.3f} seconds to compile a neuron just in time:\\n{0}\".format(neuron(input_vector), time() - start))\n",
    "\n",
    "print(\"\\nGradient at [0., 0., 0.]: {}\".format(grad(lambda x: neuron(x)[0])(np.array([0.2, 0.3, 0.4]))))"
   ]
  },
  {
   "cell_type": "code",
   "execution_count": 4,
   "metadata": {},
   "outputs": [
    {
     "name": "stdout",
     "output_type": "stream",
     "text": [
      "0.663 seconds to compile layer just in time:\n",
      "[0.9023688  0.12513153 0.12779681]\n",
      "\n",
      "Gradient at [0, 0, 0, 0]: [-0.26577592  0.06809294 -0.28774536  0.24472626]\n"
     ]
    }
   ],
   "source": [
    "dom, cod = 4, 3\n",
    "params = [[uniform(-2, 2) for i in range(dom + 1)] for j in range(cod)]\n",
    "layer = Layer(dom, cod, params)\n",
    "input_vector = np.array([uniform(-1, 1) for i in range(dom)])\n",
    "\n",
    "start = time()\n",
    "jit(layer)\n",
    "print(\"{1:.3f} seconds to compile layer just in time:\\n{0}\".format(layer(input_vector), time() - start))\n",
    "\n",
    "print(\"\\nGradient at [0., 0., 0., 0.]: {}\".format(grad(lambda x: layer(x)[0])(np.array([0., 0., 0., 0.]))))"
   ]
  },
  {
   "cell_type": "code",
   "execution_count": 5,
   "metadata": {},
   "outputs": [],
   "source": [
    "dom, cod = 3, 1\n",
    "zeros = [[0. for i in range(dom + 1)] for j in range(cod)]\n",
    "disconnected_layer = Layer(dom, cod, zeros)\n",
    "assert np.all(grad(lambda x: disconnected_layer(x)[0])(np.array([2., 3.4, 1.])) == np.array([0., 0., 0.]))"
   ]
  },
  {
   "cell_type": "code",
   "execution_count": null,
   "metadata": {},
   "outputs": [],
   "source": []
  }
 ],
 "metadata": {
  "kernelspec": {
   "display_name": "Python 3",
   "language": "python",
   "name": "python3"
  },
  "language_info": {
   "codemirror_mode": {
    "name": "ipython",
    "version": 3
   },
   "file_extension": ".py",
   "mimetype": "text/x-python",
   "name": "python",
   "nbconvert_exporter": "python",
   "pygments_lexer": "ipython3",
   "version": "3.7.4"
  }
 },
 "nbformat": 4,
 "nbformat_minor": 2
}
