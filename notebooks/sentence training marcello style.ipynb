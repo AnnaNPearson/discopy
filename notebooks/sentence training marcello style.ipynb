{
 "cells": [
  {
   "cell_type": "code",
   "execution_count": null,
   "metadata": {},
   "outputs": [],
   "source": [
    "from discopy.circuit import *\n",
    "from discopy import *\n",
    "import numpy as np"
   ]
  },
  {
   "cell_type": "code",
   "execution_count": null,
   "metadata": {},
   "outputs": [],
   "source": [
    "s , n = Ty('s'), Ty('n')"
   ]
  },
  {
   "cell_type": "code",
   "execution_count": null,
   "metadata": {},
   "outputs": [],
   "source": [
    "Alice = Word('Alice', n) \n",
    "Bob = Word('Bob', n) \n",
    "loves = Word('loves', n.r @ s @ n.l)"
   ]
  },
  {
   "cell_type": "code",
   "execution_count": null,
   "metadata": {},
   "outputs": [],
   "source": [
    "grammar = Cup(n, n.r) @ Id(s) @ Cup(n.l, n)"
   ]
  },
  {
   "cell_type": "code",
   "execution_count": null,
   "metadata": {},
   "outputs": [],
   "source": [
    "sentences = [Alice @ loves @ Bob >> grammar, Bob @ loves @ Alice >> grammar]"
   ]
  },
  {
   "cell_type": "code",
   "execution_count": null,
   "metadata": {},
   "outputs": [],
   "source": [
    "loves_box = Box('loves', n, s @ n.l)\n",
    "Bob_box = Box('Bob', n.l, Ty())\n",
    "\n",
    "loves_ansatz = Cap(n.r, n) >> Id(n.r) @ Box('loves', n, s @ n.l)\n",
    "Bob_transpose = Cap(n, n.l) >> Id(n) @ Box('Bob', n.l, Ty())\n",
    "\n",
    "A = RigidFunctor(ob={s: s, n: n},\n",
    "                 ar={Alice: Alice, Bob: Bob_transpose, loves: loves_ansatz})\n"
   ]
  },
  {
   "cell_type": "code",
   "execution_count": null,
   "metadata": {},
   "outputs": [],
   "source": [
    "for sentence in sentences:\n",
    "    A(sentence).draw(); A(sentence).normal_form().draw()"
   ]
  },
  {
   "cell_type": "code",
   "execution_count": null,
   "metadata": {},
   "outputs": [],
   "source": [
    "F = lambda params: CircuitFunctor(\n",
    "    ob={s : 0, n: 1},\n",
    "    ar={Alice: Ket(0), loves_box: Rz(params[0]) >> Rx(params[1]) >> H >>  Rz(params[2]) >> Rx(params[3]), Bob_box: Bra(1)})"
   ]
  },
  {
   "cell_type": "code",
   "execution_count": null,
   "metadata": {},
   "outputs": [],
   "source": [
    "#outputs circuit of sentencence in normal form with given parameters\n",
    "C = lambda sentence, params: F(params)(A(sentence).normal_form())"
   ]
  },
  {
   "cell_type": "code",
   "execution_count": null,
   "metadata": {},
   "outputs": [],
   "source": [
    "#loss of a circuit with given parameters with respect to the label of the sentence it represents\n",
    "#label is a 0/1 truth value and measuring the circuit gives a scalar in [0,1];\n",
    "#this is the case where sentence space is scalar s=0\n",
    "Loss = lambda circuit, label : (circuit.measure()-label)**2"
   ]
  },
  {
   "cell_type": "code",
   "execution_count": null,
   "metadata": {},
   "outputs": [],
   "source": [
    "#loss of many sentences as mean of losses of each sentence\n",
    "Loss_text = lambda sentences, labels, params: sum([Loss(C(sentences[x],params),labels[x]) for x in range(len(sentences))])/len(sentences)"
   ]
  },
  {
   "cell_type": "code",
   "execution_count": null,
   "metadata": {},
   "outputs": [],
   "source": [
    "#assume the parameters are phases\n",
    "#two updates for different phase rotations\n",
    "def update_param_plus(p, dp = 0.01):\n",
    "    p = p + dp\n",
    "    return p\n",
    "def update_param_minus(p, dp = 0.01):\n",
    "    p = p - dp\n",
    "    return p"
   ]
  },
  {
   "cell_type": "code",
   "execution_count": null,
   "metadata": {},
   "outputs": [],
   "source": [
    "def train(sentence, label, params, threshold = 0.01):\n",
    "    \n",
    "    #construct circuit and get loss from given sentence\n",
    "    circuit = C(sentence, params)\n",
    "    loss = Loss(circuit, label)\n",
    "    \n",
    "    while loss > threshold:\n",
    "    #optimise params of sentence such that loss of its circuit is below threshold\n",
    "        \n",
    "        for pp, param in enumerate(params):\n",
    "            \n",
    "            #for each parameter, in series do:\n",
    "            #try a counter-clock-wise phase rotation\n",
    "            #check if loss decreased:\n",
    "            #if yes, update the param\n",
    "            #if no, do clock-wise update\n",
    "            #check again if loss decreased:\n",
    "            #if yes, update the param\n",
    "            #if no, do nothing and go to the next parameter\n",
    "            \n",
    "            tempparam = update_param_plus(param)\n",
    "            tempparams = params\n",
    "            tempparams[pp] = tempparam \n",
    "            tempcircuit = C(sentence, tempparams)\n",
    "            temploss = Loss(tempcircuit, label)\n",
    "            \n",
    "            if temploss < loss:\n",
    "                \n",
    "                params[pp] = tempparam \n",
    "                loss = temploss\n",
    "            \n",
    "            else:\n",
    "                \n",
    "                tempparam = update_param_minus(param)\n",
    "                tempparams = params\n",
    "                tempparams[pp] = tempparam \n",
    "                tempcircuit = C(sentence, tempparams)\n",
    "                temploss = Loss(tempcircuit, label)\n",
    "                \n",
    "                if temploss < loss:\n",
    "                    \n",
    "                    params[pp] = tempparam \n",
    "                    loss = temploss\n",
    "    \n",
    "    return params, loss"
   ]
  },
  {
   "cell_type": "code",
   "execution_count": null,
   "metadata": {},
   "outputs": [],
   "source": [
    "def train_text(sentences, labels, params, threshold = 0.05):\n",
    "    # loop over sentences and train params for each one in series\n",
    "    \n",
    "    loss_text = Loss_text(sentences, labels, params)\n",
    "    \n",
    "    while loss_text > threshold:\n",
    "    \n",
    "        for x in range(len(sentences)):\n",
    "            \n",
    "            params = train(sentences[x], labels[x], params)[0]\n",
    "            loss_text = Loss_text(sentences, labels, params)\n",
    "            \n",
    "    return params, loss_text"
   ]
  },
  {
   "cell_type": "code",
   "execution_count": null,
   "metadata": {},
   "outputs": [],
   "source": [
    "#test that training one sentence works\n",
    "labels = [1,0] # choose some true/false labels for each sentence\n",
    "\n",
    "params = np.random.rand(4) # initialise random parameters\n",
    "\n",
    "sentidx = 1 #chose a sentence (by its index in the list \"sentences\")\n",
    "train(sentences[sentidx], labels[sentidx], params)"
   ]
  },
  {
   "cell_type": "code",
   "execution_count": null,
   "metadata": {
    "scrolled": true
   },
   "outputs": [],
   "source": [
    "#test that training two sentences (i.e. text) works\n",
    "\n",
    "labels = [1,1] # choose some true/false labels for each sentence\n",
    "#You cannot choose [1,0] for this because training never terminate if we're using only one qubit!\n",
    "\n",
    "params = np.random.rand(4) # initialise random parameters\n",
    "\n",
    "params = train_text(sentences, labels, params)[0]"
   ]
  },
  {
   "cell_type": "code",
   "execution_count": null,
   "metadata": {},
   "outputs": [],
   "source": [
    "#draw the circuits for sentences with the optimal parameters\n",
    "for sentence in sentences:\n",
    "    circuit = C(sentence, params)\n",
    "    circuit.draw()"
   ]
  },
  {
   "cell_type": "code",
   "execution_count": null,
   "metadata": {},
   "outputs": [],
   "source": []
  }
 ],
 "metadata": {
  "kernelspec": {
   "display_name": "Python 3",
   "language": "python",
   "name": "python3"
  },
  "language_info": {
   "codemirror_mode": {
    "name": "ipython",
    "version": 3
   },
   "file_extension": ".py",
   "mimetype": "text/x-python",
   "name": "python",
   "nbconvert_exporter": "python",
   "pygments_lexer": "ipython3",
   "version": "3.7.4"
  }
 },
 "nbformat": 4,
 "nbformat_minor": 2
}
