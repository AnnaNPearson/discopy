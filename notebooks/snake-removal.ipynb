{
 "cells": [
  {
   "cell_type": "markdown",
   "metadata": {},
   "source": [
    "# Removing snakes to simplify quantum circuit models.\n",
    "\n",
    "The snake removal procedure implemented in __rigidcat.normal_form()__ takes a diagram in a free rigid category and removes all the cups and caps that can be yanked using the snake equation, following the scheme from [Dunn, Vicary (2019)](https://arxiv.org/abs/1601.05372).\n",
    "\n",
    "__Antonin's lemma:__\n",
    "Given a diagram in a free rigid category such that the domain and codomain of every box and of the diagram itself are built from the basic types Ty('s') and Ty('n') only using tensor, it must have __rigidcat.normal_form()__ equal to a diagram where all cups and caps have been removed. [Delpeuch (2019)](https://arxiv.org/abs/1411.3827).\n",
    "\n",
    "We start by generating grammatical sentences from a simple language, then we define the functor A which decomposes each word into simpler components. By Antonin's lemma, applying this functor followed by __normal_form()__ will return simplified diagrams, without changing their semantics. We use this procedure to simplify the interpretation of sentences as parametrised quantum circuits. "
   ]
  },
  {
   "cell_type": "markdown",
   "metadata": {},
   "source": [
    "## Language generation"
   ]
  },
  {
   "cell_type": "code",
   "execution_count": null,
   "metadata": {},
   "outputs": [],
   "source": [
    "from discopy import Ty, Box, Diagram, Word, pregroup\n",
    "\n",
    "# Pregroup types for words are built using adjoints of basic types\n",
    "\n",
    "s, n = Ty('s'), Ty('n')\n",
    "Alice = Word('Alice', n)\n",
    "loves = Word('loves', n.r @ s @ n.l)\n",
    "Bob =  Word('Bob', n)\n",
    "who = Word('who', n.r @ n @ s.l @ n)\n",
    "is_rich = Word('is rich', n.r @ s)\n",
    "\n",
    "vocab = [Alice, who, is_rich, loves, Bob]"
   ]
  },
  {
   "cell_type": "code",
   "execution_count": null,
   "metadata": {},
   "outputs": [],
   "source": [
    "from time import time\n",
    "from discopy.pregroup import brute_force\n",
    "\n",
    "gen, n_sentences = brute_force(*vocab), 15\n",
    "sentences, parsing = list(), dict()\n",
    "\n",
    "print(\"Brute force search for grammatical sentences:\")\n",
    "\n",
    "start = time()\n",
    "for i in range(n_sentences):\n",
    "    diagram = next(gen)\n",
    "    sentence = ' '.join(str(w)\n",
    "        for w in diagram.boxes if isinstance(w, Word)) + '.'\n",
    "    sentences.append(sentence)\n",
    "    parsing.update({sentence: diagram})\n",
    "    print(sentence)\n",
    "\n",
    "print(\"{:.2f} seconds to generate {} sentences.\\n\".format(time() - start, n_sentences))"
   ]
  },
  {
   "cell_type": "code",
   "execution_count": null,
   "metadata": {},
   "outputs": [],
   "source": [
    "print(\"Pregroup parsing for the sentence: '{}'\".format(sentences[12]))\n",
    "pregroup.draw(parsing[sentences[12]])"
   ]
  },
  {
   "cell_type": "markdown",
   "metadata": {},
   "source": [
    "## Snake removal"
   ]
  },
  {
   "cell_type": "code",
   "execution_count": null,
   "metadata": {},
   "outputs": [],
   "source": [
    "from discopy import Cup, Cap, Functor\n",
    "\n",
    "# The types of the following boxes are built from the basic types Ty('s') and Ty('n') only using tensor.\n",
    "\n",
    "love_box = Box('loves', n @ n, s)\n",
    "is_rich_box = Box('is rich', n, s)\n",
    "copy = Box('copy', n, n @ n)\n",
    "update = Box('update', n @ s, n)\n",
    "\n",
    "# Define the Autonomization functor that decomposes a word into word_boxes:\n",
    "\n",
    "ob = {n: n, s: s}\n",
    "ar = {Alice: Alice,\n",
    "      Bob: Bob,\n",
    "      loves: Cap(n.r, n) @ Cap(n, n.l) >> Diagram.id(n.r) @ love_box @ Diagram.id(n.l),\n",
    "      is_rich: Cap(n.r, n) >> Diagram.id(n.r) @ is_rich_box,\n",
    "      who: Cap(n.r, n) >> Diagram.id(n.r) @ (copy >> Diagram.id(n) @ Cap(s, s.l) @ Diagram.id(n) >>\n",
    "                                             update @ Diagram.id(s.l @ n))\n",
    "     }\n",
    "\n",
    "A = Functor(ob, ar, ob_cls=Ty, ar_cls=Diagram)"
   ]
  },
  {
   "cell_type": "code",
   "execution_count": null,
   "metadata": {},
   "outputs": [],
   "source": [
    "print(\"Autonomization of 'loves':\")\n",
    "\n",
    "(loves @ Box('-->', Ty(), Ty()) @ A(loves)).interchange(1, 2, left=True).interchange(2, 3).draw()"
   ]
  },
  {
   "cell_type": "code",
   "execution_count": null,
   "metadata": {},
   "outputs": [],
   "source": [
    "print(\"Autonomization of 'who':\")\n",
    "\n",
    "(who @ Box('-->', Ty(), Ty()) @ A(who)).interchange(1, 2, left=True).interchange(2, 3).draw()"
   ]
  },
  {
   "cell_type": "code",
   "execution_count": null,
   "metadata": {},
   "outputs": [],
   "source": [
    "from discopy import *\n",
    "\n",
    "print(\"Removing snakes from autonomisation of '{}'\".format(sentences[12]))\n",
    "parsing[sentences[12]].draw(aspect='auto')\n",
    "diagrams = list(A(parsing[sentences[12]]).normalize())\n",
    "parsing[sentences[12]].to_gif(*diagrams, aspect='auto', path='../docs/imgs/unsnake-sentence.gif')"
   ]
  },
  {
   "cell_type": "code",
   "execution_count": null,
   "metadata": {},
   "outputs": [],
   "source": [
    "# Check that sentences after autonomisation and snake removal do not contain cups or caps\n",
    "\n",
    "def has_cups_or_caps(diagram):\n",
    "    for box in diagram.boxes:\n",
    "        if isinstance(box, Cup) or isinstance(box, Cap):\n",
    "            return True\n",
    "    return False\n",
    "\n",
    "autonomised_sentences = [A(parsing[sentences[i]]).normal_form() for i in range(n_sentences)]\n",
    "\n",
    "for i in range(n_sentences):\n",
    "    assert not has_cups_or_caps(autonomised_sentences[i])"
   ]
  },
  {
   "cell_type": "markdown",
   "metadata": {},
   "source": [
    "## Quantum circuit models"
   ]
  },
  {
   "cell_type": "code",
   "execution_count": null,
   "metadata": {},
   "outputs": [],
   "source": [
    "from discopy.circuit import Circuit, PRO, Id, CX, H, Rx, Ket, sqrt, SWAP, CircuitFunctor\n",
    "import jax.numpy as np\n",
    "\n",
    "# Ansatzes for transitive and intransitive verbs:\n",
    "\n",
    "def intransitive_ansatz(phase):\n",
    "    return Ket(0) >> Rx(phase)\n",
    "\n",
    "def transitive_ansatz(phase):\n",
    "    return sqrt(2) @ Ket(0) @ Ket(0) >> H @ Rx(phase) >> CX\n",
    "\n",
    "# The ansatz for 'who' is the GHZ state which can be realised with the following circuit:\n",
    "\n",
    "def who_ansatz():\n",
    "    return sqrt(2) @ Ket(0, 0, 0)\\\n",
    "    >> Circuit.id(1) @ H @ Circuit.id(1)\\\n",
    "    >> Circuit.id(1) @ CX\\\n",
    "    >> (SWAP >>  CX) @ Circuit.id(1)\n",
    "\n",
    "# The ansatzes for the boxes 'copy' and 'update' are simpler to realise then the GHZ state:\n",
    "\n",
    "def copy_ansatz():\n",
    "    return Circuit.id(1) @ Ket(0) >> CX\n",
    "\n",
    "def update_ansatz():\n",
    "    return Circuit.id(1)\n",
    "\n",
    "# Gather the ansatzes above into a CircuitFunctor:\n",
    "\n",
    "ob = {s: 0, n: 1}\n",
    "ar = lambda params: {\n",
    "    Alice: Ket(0),\n",
    "    loves: transitive_ansatz(params['loves']),\n",
    "    who: who_ansatz(),\n",
    "    Bob: Ket(1),\n",
    "    is_rich: intransitive_ansatz(params['is_rich']),\n",
    "    copy: copy_ansatz(),\n",
    "    update: update_ansatz(),\n",
    "    love_box: transitive_ansatz(- params['loves']).dagger(),\n",
    "    is_rich_box: intransitive_ansatz(- params['is_rich']).dagger()}\n",
    "\n",
    "F = lambda params: CircuitFunctor(ob, ar({'loves': params[0], 'is_rich': params[1]}))\n",
    "\n",
    "# Initialise parameters\n",
    "params0 = np.array([0.5, 1.])\n",
    "F0 = F(params0)\n",
    "\n",
    "def draw_functor(d0, d1):\n",
    "    return (d0 @ Box('-->', Ty(), Ty()) @ d1).interchange(1, 2, left=True).draw(aspect='auto')\n",
    "\n",
    "print(\"Image of 'loves':\")\n",
    "draw_functor(loves, F0(loves).normal_form())\n",
    "print(\"The image of 'who' is the GHZ state:\")\n",
    "draw_functor(who, F0(who).normal_form())\n",
    "print(\"Image of the box 'copy':\")\n",
    "draw_functor(copy, F0(copy).normal_form())"
   ]
  },
  {
   "cell_type": "code",
   "execution_count": null,
   "metadata": {},
   "outputs": [],
   "source": [
    "from discopy.pregroup import eager_parse\n",
    "\n",
    "noun_phrase = eager_parse(Bob, who, is_rich, target=n)\n",
    "\n",
    "print(\"Pregroup diagram for noun phrase 'Bob who is rich':\")\n",
    "pregroup.draw(noun_phrase)\n",
    "\n",
    "print(\"Image under the Circuit model:\")\n",
    "F0(noun_phrase).normal_form().draw(draw_types=False, aspect='auto', fontsize=7)\n",
    "print('depth = {}'.format(F(params0)(noun_phrase).depth() - 2))\n",
    "print('width = {}'.format(F(params0)(noun_phrase).width()))"
   ]
  },
  {
   "cell_type": "code",
   "execution_count": null,
   "metadata": {},
   "outputs": [],
   "source": [
    "print(\"Diagram for 'Bob who is rich' after snake removal:\")\n",
    "A(noun_phrase).normal_form().draw(aspect='auto')\n",
    "print(\"Image under the Circuit model\")\n",
    "circuit = F0(A(noun_phrase).normal_form()).normal_form()\n",
    "circuit.draw(draw_types=False, aspect='auto')\n",
    "print('depth = {}'.format(circuit.depth() - 2))\n",
    "print('width = {}'.format(circuit.width()))"
   ]
  },
  {
   "cell_type": "code",
   "execution_count": null,
   "metadata": {
    "scrolled": true
   },
   "outputs": [],
   "source": [
    "# Check that the two circuits above generate the same distribution:\n",
    "assert np.allclose((F0(noun_phrase).measure()), F0(A(noun_phrase).normal_form()).measure())"
   ]
  },
  {
   "cell_type": "code",
   "execution_count": null,
   "metadata": {},
   "outputs": [],
   "source": [
    "print(\"Circuit for '{}':\".format(sentences[12]))\n",
    "circuit = F0(parsing[sentences[12]])\n",
    "circuit.normal_form().draw(draw_types=False, aspect='auto', fontsize=7)\n",
    "print('depth = {}'.format(circuit.normal_form().depth() - 2))\n",
    "print('width = {}'.format(circuit.normal_form().width()))\n",
    "\n",
    "print(\"\\nCircuit for '{}' after snake removal:\".format(sentences[12]))\n",
    "circuit = F0(autonomised_sentences[12])\n",
    "circuit.normal_form().draw(draw_types=False, aspect='auto', fontsize=10)\n",
    "print('depth = {}'.format(circuit.normal_form().depth() - 2))\n",
    "print('width = {}'.format(circuit.normal_form().width()))"
   ]
  },
  {
   "cell_type": "code",
   "execution_count": null,
   "metadata": {},
   "outputs": [],
   "source": [
    "# Check that the above circuits generate the same distribution:\n",
    "assert np.allclose(F0(parsing[sentences[12]]).measure(), F0(autonomised_sentences[12]).measure())"
   ]
  }
 ],
 "metadata": {
  "kernelspec": {
   "display_name": "Python 3",
   "language": "python",
   "name": "python3"
  },
  "language_info": {
   "codemirror_mode": {
    "name": "ipython",
    "version": 3
   },
   "file_extension": ".py",
   "mimetype": "text/x-python",
   "name": "python",
   "nbconvert_exporter": "python",
   "pygments_lexer": "ipython3",
   "version": "3.7.4"
  }
 },
 "nbformat": 4,
 "nbformat_minor": 2
}
