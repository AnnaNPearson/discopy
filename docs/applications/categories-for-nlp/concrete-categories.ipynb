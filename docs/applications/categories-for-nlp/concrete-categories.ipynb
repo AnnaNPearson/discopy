{
 "cells": [
  {
   "cell_type": "markdown",
   "metadata": {},
   "source": [
    "# Concrete categories and functors in DisCoPy\n",
    "\n",
    "We show how to implement functors from Diagram to concrete categories such as monoid and tensor and how these correspond to weighted context-free grammars and tensor network models respectively. \n",
    "\n",
    "## Monoid\n",
    "Weighted CFGs as functors in the Monoid delooping."
   ]
  },
  {
   "cell_type": "code",
   "execution_count": 1,
   "metadata": {},
   "outputs": [],
   "source": [
    "from discopy import monoidal\n",
    "from discopy.monoidal import Ty\n",
    "from functools import reduce\n",
    "import operator\n",
    "\n",
    "prod = lambda x: reduce(operator.mul, x, 1)\n",
    "\n",
    "class Monoid(monoidal.Box):\n",
    "    def __init__(self, m):\n",
    "        self.m = m\n",
    "        super().__init__(m, Ty(), Ty())\n",
    "\n",
    "    def __repr__(self):\n",
    "        return \"Monoid({})\".format(self.m)\n",
    "\n",
    "    def then(self, other):\n",
    "        if not isinstance(other, Monoid):\n",
    "            raise ValueError\n",
    "        return Monoid(self.m * other.m)\n",
    "\n",
    "    def tensor(self, other):\n",
    "        return Monoid(self.m * other.m)\n",
    "\n",
    "    def __call__(self, *others):\n",
    "        return Monoid(prod([self.m] + [other.m for other in others]))\n",
    "\n",
    "    @staticmethod\n",
    "    def id(x):\n",
    "        if x != Ty():\n",
    "            raise ValueError\n",
    "        return Monoid(1)\n",
    "\n",
    "assert Monoid(2) @ Monoid.id(Ty()) >> Monoid(5) @ Monoid(0.1) == Monoid(1.0)\n",
    "assert Monoid(2)(Monoid(1), Monoid(4)) == Monoid(8)"
   ]
  },
  {
   "cell_type": "markdown",
   "metadata": {
    "scrolled": false
   },
   "source": [
    "A weighted CFG is a monoidal Functor from trees to Monoid."
   ]
  },
  {
   "cell_type": "code",
   "execution_count": 2,
   "metadata": {},
   "outputs": [],
   "source": [
    "from discopy.monoidal import Functor, Box, Id\n",
    "\n",
    "class WeightedGrammar(Functor):\n",
    "    def __init__(self, ar):\n",
    "        ob = lambda x: Ty()\n",
    "        super().__init__(ob, ar, ar_factory=Monoid)\n",
    "\n",
    "weight = lambda box: Monoid(0.5)\\\n",
    "    if (box.dom, box.cod) == (Ty('N'), Ty('A', 'N')) else Monoid(1.0)\n",
    "\n",
    "WCFG = WeightedGrammar(weight)\n",
    "A = Box('A', Ty('N'), Ty('A', 'N'))\n",
    "tree = A >> Id(Ty('A')) @ A\n",
    "assert WCFG(tree) == Monoid(0.25)"
   ]
  },
  {
   "cell_type": "code",
   "execution_count": 3,
   "metadata": {},
   "outputs": [
    {
     "data": {
      "image/png": "[encoded data removed]",
      "text/plain": [
       "<Figure size 432x288 with 1 Axes>"
      ]
     },
     "metadata": {
      "needs_background": "light"
     },
     "output_type": "display_data"
    }
   ],
   "source": [
    "from discopy.operad import from_nltk, tree2diagram\n",
    "from nltk import CFG\n",
    "from nltk.parse import RecursiveDescentParser\n",
    "grammar = CFG.fromstring(\"\"\"\n",
    "S -> VP NP\n",
    "NP -> D N\n",
    "VP -> N V\n",
    "N -> A N\n",
    "V -> 'crossed'\n",
    "D -> 'the'\n",
    "N -> 'Moses'\n",
    "A -> 'Red'\n",
    "N -> 'Sea'\"\"\")\n",
    "\n",
    "rd = RecursiveDescentParser(grammar)\n",
    "parse = next(rd.parse('Moses crossed the Red Sea'.split()))\n",
    "diagram = tree2diagram(from_nltk(parse))\n",
    "parse2 = next(rd.parse('Moses crossed the Red Red Sea'.split()))\n",
    "diagram2 = tree2diagram(from_nltk(parse2))\n",
    "assert WCFG(diagram).m > WCFG(diagram2).m\n",
    "diagram.draw()"
   ]
  },
  {
   "cell_type": "markdown",
   "metadata": {},
   "source": [
    "## Tensor\n",
    "\n",
    "Implementation of the category of tensors with matrix multiplication as 'then' and kronecker product as 'tensor'.\n",
    "\n",
    "We check the axioms of compact-closed categories for a given object."
   ]
  },
  {
   "cell_type": "code",
   "execution_count": 19,
   "metadata": {},
   "outputs": [],
   "source": [
    "from discopy import Dim, Tensor\n",
    "import numpy as np\n",
    "\n",
    "x = Dim(3, 2)\n",
    "cup_r, cap_r = Tensor.cups(x, x.r), Tensor.caps(x.r, x)\n",
    "cup_l, cap_l = Tensor.cups(x.l, x), Tensor.caps(x, x.l)\n",
    "snake_r = Tensor.id(x) @ cap_r >> cup_r @ Tensor.id(x)\n",
    "snake_l =  cap_l @ Tensor.id(x) >> Tensor.id(x) @ cup_l\n",
    "assert np.allclose(snake_l.array, Tensor.id(x).array, snake_r.array)\n",
    "\n",
    "swap = Tensor.swap(x, x)\n",
    "assert np.allclose((swap >> swap).array, Tensor.id(x @ x).array)\n",
    "assert np.allclose((swap @ Tensor.id(x) >> Tensor.id(x) @ swap).array, Tensor.swap(x, x @ x).array)"
   ]
  },
  {
   "cell_type": "markdown",
   "metadata": {},
   "source": [
    "We generate a pregroup reduction with Lambeq and evaluate it in a tensor model."
   ]
  },
  {
   "cell_type": "code",
   "execution_count": 5,
   "metadata": {},
   "outputs": [
    {
     "data": {
      "image/png": "[encoded data removed]",
      "text/plain": [
       "<Figure size 432x288 with 1 Axes>"
      ]
     },
     "metadata": {
      "needs_background": "light"
     },
     "output_type": "display_data"
    }
   ],
   "source": [
    "from discopy.rigid import Ty, Id, Box, Cup\n",
    "\n",
    "n, s = Ty('n'), Ty('s')\n",
    "Moses, Sea = Box('Moses', Ty(), n), Box('Sea', Ty(), n)\n",
    "Red, the = Box('Red', Ty(), n @ n.l), Box('the', Ty(), n @ n.l)\n",
    "crossed = Box('crossed', Ty(), n.r @ s @ n.l)\n",
    "\n",
    "# Diagram for 'Moses crossed the Red Sea' generated with lambeq's BobcatParser:\n",
    "diagram = Moses >> Id(n) @ crossed >> Id(n @ n.r @ s @ n.l) @ the >> Id(n @ n.r @ s @ n.l @ n @ n.l) @ Red >> Id(n @ n.r @ s @ n.l @ n @ n.l @ n @ n.l) @ Sea >> Id(n @ n.r @ s @ n.l @ n @ n.l @ n) @ Cup(n.l, n) >> Id(n @ n.r @ s @ n.l @ n) @ Cup(n.l, n) >> Id(n @ n.r @ s) @ Cup(n.l, n) >> Cup(n, n.r) @ Id(s)\n",
    "diagram.draw()"
   ]
  },
  {
   "cell_type": "code",
   "execution_count": 6,
   "metadata": {},
   "outputs": [
    {
     "data": {
      "text/plain": [
       "Tensor(dom=Dim(1), cod=Dim(1), array=[1.])"
      ]
     },
     "execution_count": 6,
     "metadata": {},
     "output_type": "execute_result"
    }
   ],
   "source": [
    "from discopy.tensor import Dim, Tensor, Functor\n",
    "import numpy as np\n",
    "\n",
    "def box_to_array(box):\n",
    "    if box.name =='Moses':\n",
    "        return np.array([1, 0])\n",
    "    if box.name == 'Sea':\n",
    "        return np.array([0, 1])\n",
    "    if box.name == 'crossed':\n",
    "        return np.array([[0, 1], [1, 0]])\n",
    "    if box.name in ['the', 'Red']:\n",
    "        return np.eye(2)\n",
    "    else:\n",
    "        raise NotImplementedError()\n",
    "\n",
    "ob = lambda x: 2 if x == n else 1\n",
    "F = Functor(ob, box_to_array)\n",
    "F(diagram)"
   ]
  },
  {
   "cell_type": "markdown",
   "metadata": {},
   "source": [
    "## Function\n",
    "Implementation of the category of Python functions with cartesian product as tensor.\n",
    "Application: towards Montague moodels."
   ]
  },
  {
   "cell_type": "code",
   "execution_count": 7,
   "metadata": {},
   "outputs": [],
   "source": [
    "class Function(monoidal.Box):\n",
    "    def __init__(self, inside, dom, cod):\n",
    "        self.inside = inside\n",
    "        name = \"Function({}, {}, {})\".format(inside, dom, cod)\n",
    "        super().__init__(name, dom, cod)\n",
    "\n",
    "    def then(self, other):\n",
    "        inside = lambda *xs: other(*tuple(self(*xs)))\n",
    "        return Function(inside, self.dom, other.cod)\n",
    "\n",
    "    def tensor(self, other):\n",
    "        def inside(*xs):\n",
    "            left, right = xs[:len(self.dom)], xs[len(self.dom):]\n",
    "            result = tuple(self(*left)) + tuple(other(*right))\n",
    "            return (result[0], ) if len(self.cod @ other.cod) == 1 else result\n",
    "        return Function(inside, self.dom @ other.dom, self.cod @ other.cod)\n",
    "\n",
    "    def __call__(self, *xs): return self.inside(*xs)\n",
    "\n",
    "    @staticmethod\n",
    "    def id(x):\n",
    "        return Function(lambda *xs: xs, x, x)\n",
    "\n",
    "    @staticmethod\n",
    "    def copy(x):\n",
    "        return Function(lambda *xs: (*xs, *xs), x, x @ x)\n",
    "    \n",
    "    @staticmethod\n",
    "    def delete(x):\n",
    "        return Function(lambda *xs: (), x, Ty())\n",
    "    \n",
    "    @staticmethod\n",
    "    def swap(x, y):\n",
    "        return Function(lambda x0, y0: (y0, x0), x @ y, y @ x)\n",
    "    \n",
    "    @staticmethod\n",
    "    def dagger(self):\n",
    "        return self"
   ]
  },
  {
   "cell_type": "markdown",
   "metadata": {},
   "source": [
    "We check the axioms of cartesian categories"
   ]
  },
  {
   "cell_type": "code",
   "execution_count": 9,
   "metadata": {},
   "outputs": [],
   "source": [
    "X = Ty('X')\n",
    "copy = Function.copy(X)\n",
    "delete = Function.delete(X)\n",
    "I = Function.id(X)\n",
    "swap = Function.swap(X, X)\n",
    "\n",
    "assert (copy >> copy @ I)(54) == (copy >> I @ copy)(54)\n",
    "assert (copy >> delete @ I)(46) == (copy >> I @ delete)(46)\n",
    "assert (copy >> swap)('was my number') == (copy)('was my number')\n",
    "\n",
    "f = Function(lambda x: (46,) if x == 54 else (54,), X, X)\n",
    "assert (f >> copy)(54) == (copy >> f @ f)(54)\n",
    "assert (copy @ copy >> I @ swap @ I)(54, 46) == Function.copy(X @ X)(54, 46)"
   ]
  },
  {
   "cell_type": "markdown",
   "metadata": {},
   "source": [
    "We generate a diagram using the interface with SpaCy... "
   ]
  },
  {
   "cell_type": "code",
   "execution_count": 10,
   "metadata": {},
   "outputs": [],
   "source": [
    "from discopy.operad import from_spacy, tree2diagram\n",
    "import spacy\n",
    "nlp = spacy.load(\"en_core_web_sm\") \n",
    "doc = nlp(\"Fifty four was my number\")"
   ]
  },
  {
   "cell_type": "code",
   "execution_count": 11,
   "metadata": {
    "scrolled": true
   },
   "outputs": [
    {
     "data": {
      "image/png": "[encoded data removed]",
      "text/plain": [
       "<Figure size 432x288 with 1 Axes>"
      ]
     },
     "metadata": {
      "needs_background": "light"
     },
     "output_type": "display_data"
    }
   ],
   "source": [
    "diagram = tree2diagram(from_spacy(doc), contravariant=True)\n",
    "diagram.draw()"
   ]
  },
  {
   "cell_type": "markdown",
   "metadata": {},
   "source": [
    "... and we evaluate its semantics as Functor to Function"
   ]
  },
  {
   "cell_type": "code",
   "execution_count": 12,
   "metadata": {},
   "outputs": [
    {
     "data": {
      "text/plain": [
       "(True,)"
      ]
     },
     "execution_count": 12,
     "metadata": {},
     "output_type": "execute_result"
    }
   ],
   "source": [
    "from discopy.monoidal import Ty, Id, Box, Functor\n",
    "\n",
    "X = Ty('X')\n",
    "ob = lambda x: X\n",
    "def box_to_function(box):\n",
    "    if box.name == 'was':\n",
    "        return Function(lambda x, y: (x == y, ), X @ X, X)\n",
    "    if box.name == 'number':\n",
    "        return Function.id(X)\n",
    "    if box.name == 'four':\n",
    "        return Function(lambda x: (4 + x, ), X, X)\n",
    "    if box.name == 'Fifty':\n",
    "        return Function(lambda: (50, ), Ty(), X)\n",
    "    if box.name == 'my':\n",
    "        return Function(lambda: (54, ), Ty(), X)\n",
    "    raise NotImplementedError()\n",
    "\n",
    "F = Functor(ob, box_to_function, ob_factory=Ty, ar_factory=Function)\n",
    "F(diagram)()"
   ]
  },
  {
   "cell_type": "code",
   "execution_count": 21,
   "metadata": {},
   "outputs": [
    {
     "name": "stdout",
     "output_type": "stream",
     "text": [
      "crossed(Moses, Sea(the, Red))\n"
     ]
    }
   ],
   "source": [
    "import spacy\n",
    "nlp = spacy.load(\"en_core_web_sm\")\n",
    "doc = nlp(\"Moses crossed the Red Sea\")\n",
    "print(from_spacy(doc))"
   ]
  },
  {
   "cell_type": "code",
   "execution_count": null,
   "metadata": {},
   "outputs": [],
   "source": []
  }
 ],
 "metadata": {
  "kernelspec": {
   "display_name": "Python 3",
   "language": "python",
   "name": "python3"
  },
  "language_info": {
   "codemirror_mode": {
    "name": "ipython",
    "version": 3
   },
   "file_extension": ".py",
   "mimetype": "text/x-python",
   "name": "python",
   "nbconvert_exporter": "python",
   "pygments_lexer": "ipython3",
   "version": "3.7.4"
  }
 },
 "nbformat": 4,
 "nbformat_minor": 2
}
