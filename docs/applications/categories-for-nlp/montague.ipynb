{
 "cells": [
  {
   "cell_type": "markdown",
   "metadata": {},
   "source": [
    "# Montague semantics from currying"
   ]
  },
  {
   "cell_type": "code",
   "execution_count": 1,
   "metadata": {},
   "outputs": [],
   "source": [
    "from discopy import biclosed\n",
    "from discopy.biclosed import Ty, Over, Under\n",
    "\n",
    "class Function(biclosed.Box):\n",
    "    def __init__(self, inside, dom, cod):\n",
    "        self.inside = inside\n",
    "        name = \"Function({}, {}, {})\".format(inside, dom, cod)\n",
    "        super().__init__(name, dom, cod)\n",
    "\n",
    "    def then(self, other):\n",
    "        inside = lambda *xs: other(*tuple(self(*xs)))\n",
    "        return Function(inside, self.dom, other.cod)\n",
    "\n",
    "    def tensor(self, other):\n",
    "        def inside(*xs):\n",
    "            left, right = xs[:len(self.dom)], xs[len(self.dom):]\n",
    "            result = tuple(self(*left)) + tuple(other(*right))\n",
    "            return (result[0], ) if len(self.cod @ other.cod) == 1 else result\n",
    "        return Function(inside, self.dom @ other.dom, self.cod @ other.cod)\n",
    "\n",
    "    def __call__(self, *xs): return self.inside(*xs)\n",
    "\n",
    "    @staticmethod\n",
    "    def id(x):\n",
    "        return Function(lambda *xs: xs, x, x)\n",
    "\n",
    "    @staticmethod\n",
    "    def copy(x):\n",
    "        return Function(lambda *xs: (*xs, *xs), x, x @ x)\n",
    "    \n",
    "    @staticmethod\n",
    "    def delete(x):\n",
    "        return Function(lambda *xs: (), x, Ty())\n",
    "    \n",
    "    @staticmethod\n",
    "    def swap(x, y):\n",
    "        return Function(lambda x0, y0: (y0, x0), x @ y, y @ x)\n",
    "    \n",
    "    def curry(self, n_wires=1, left=False):\n",
    "        if not left:\n",
    "            dom = self.dom[:-n_wires]\n",
    "            cod = self.cod << self.dom[-n_wires:]\n",
    "            inside = lambda *xl: (lambda *xr: self.inside(*(xl + xr)),)\n",
    "            return Function(inside, dom, cod)\n",
    "        else:\n",
    "            dom = self.dom[n_wires:]\n",
    "            cod = self.dom[:n_wires] >> self.cod\n",
    "            inside = lambda *xl: (lambda *xr: self.inside(*(xl + xr)),)\n",
    "            return Function(inside, dom, cod)\n",
    "        \n",
    "    def uncurry(self):\n",
    "        if isinstance(self.cod, Over):\n",
    "            left, right = self.cod.left, self.cod.right\n",
    "            cod = left\n",
    "            dom = self.dom @ right\n",
    "            inside = lambda *xs: self.inside(*xs[:len(self.dom)])[0](*xs[len(self.dom):])\n",
    "            return Function(inside, dom, cod)\n",
    "        elif isinstance(self.cod, Under):\n",
    "            left, right = self.cod.left, self.cod.right\n",
    "            cod = right\n",
    "            dom = left @ self.dom\n",
    "            inside = lambda *xs: self.inside(*xs[len(left):])[0](*xs[:len(left)])\n",
    "            return Function(inside, dom, cod)\n",
    "        return self"
   ]
  },
  {
   "cell_type": "code",
   "execution_count": 2,
   "metadata": {},
   "outputs": [],
   "source": [
    "X = Ty('X')\n",
    "copy = Function.copy(X)\n",
    "delete = Function.delete(X)\n",
    "I = Function.id(X)\n",
    "swap = Function.swap(X, X)\n",
    "f = Function(lambda *x: (54, ) if x == 46 else (46, ), X, X)\n",
    "\n",
    "assert (copy >> copy @ I)(54) == (copy >> I @ copy)(54)\n",
    "assert (copy >> delete @ I)(46) == (copy >> I @ delete)(46)\n",
    "assert (copy >> swap)('was my number') == (copy)('was my number')\n",
    "assert (copy @ copy >> I @ swap @ I)(5, 4) == Function.copy(X @ X)(5, 4)\n",
    "assert (f >> copy)(46) == (copy >> f @ f)(46)"
   ]
  },
  {
   "cell_type": "code",
   "execution_count": 3,
   "metadata": {},
   "outputs": [],
   "source": [
    "from discopy import biclosed\n",
    "\n",
    "class Diagram(biclosed.Diagram):\n",
    "    \"\"\" Diagrams in a biclosed monoidal category. \"\"\"\n",
    "\n",
    "    def curry(self, n_wires=1, left=False):\n",
    "        \"\"\" Diagram currying. \"\"\"\n",
    "        return Curry(self, n_wires, left)\n",
    "\n",
    "    def uncurry(self):\n",
    "        \"\"\" Diagram uncurrying. \"\"\"\n",
    "        return UnCurry(self)\n",
    "\n",
    "class Box(biclosed.Box, Diagram):\n",
    "    ..."
   ]
  },
  {
   "cell_type": "code",
   "execution_count": 4,
   "metadata": {},
   "outputs": [],
   "source": [
    "class Curry(Box):\n",
    "    \"\"\"\n",
    "    Curried diagram.\n",
    "    \"\"\"\n",
    "    def __init__(self, diagram, n_wires=1, left=False):\n",
    "        name = \"Curry({})\".format(diagram)\n",
    "        if left:\n",
    "            dom = diagram.dom[n_wires:]\n",
    "            cod = diagram.dom[:n_wires] >> diagram.cod\n",
    "        else:\n",
    "            dom = diagram.dom[:-n_wires]\n",
    "            cod = diagram.cod << diagram.dom[-n_wires or len(diagram.dom):]\n",
    "        self.diagram, self.n_wires, self.left = diagram, n_wires, left\n",
    "        super().__init__(name, dom, cod)\n",
    "        \n",
    "    def __repr__(self):\n",
    "        return \"Curry({}, n_wires={}, left={})\".format(self.diagram, self.n_wires, self.left)\n",
    "\n",
    "\n",
    "class UnCurry(Box):\n",
    "    \"\"\"\n",
    "    Un-Curried diagram.\n",
    "    \"\"\"\n",
    "    def __init__(self, diagram):\n",
    "        name = \"UnCurry({})\".format(diagram)\n",
    "        self.diagram = diagram\n",
    "        if isinstance(diagram.cod, Over):\n",
    "            dom = diagram.dom @ diagram.cod.right\n",
    "            cod = diagram.dom.left\n",
    "            super().__init__(name, dom, cod)\n",
    "        elif isinstance(diagram.cod, Under):\n",
    "            dom = diagram.dom.left @ diagram.dom\n",
    "            cod = diagram.dom.right\n",
    "            super().__init__(name, dom, cod)\n",
    "        else:\n",
    "            super().__init__(name, diagram.dom, diagram.cod)\n",
    "            \n",
    "    def __repr__(self):\n",
    "        return \"UnCurry({})\".format(self.diagram)"
   ]
  },
  {
   "cell_type": "code",
   "execution_count": 5,
   "metadata": {},
   "outputs": [],
   "source": [
    "class Functor(biclosed.Functor):\n",
    "    def __init__(self, ob, ar, ob_factory=Ty, ar_factory=Diagram):\n",
    "        super().__init__(ob, ar, ob_factory, ar_factory)\n",
    "\n",
    "    def __call__(self, diagram):\n",
    "        if isinstance(diagram, Curry):\n",
    "            n_wires = len(self(getattr(\n",
    "                diagram.cod, 'left' if diagram.left else 'right')))\n",
    "            return self.ar_factory.curry(\n",
    "                self(diagram.diagram), n_wires, diagram.left)\n",
    "        if isinstance(diagram, UnCurry):\n",
    "            return self.ar_factory.uncurry(self(diagram.diagram))\n",
    "        return super().__call__(diagram)"
   ]
  },
  {
   "cell_type": "code",
   "execution_count": 6,
   "metadata": {},
   "outputs": [
    {
     "data": {
      "text/plain": [
       "(True,)"
      ]
     },
     "execution_count": 6,
     "metadata": {},
     "output_type": "execute_result"
    }
   ],
   "source": [
    "from discopy.biclosed import Id\n",
    "\n",
    "N, S = Ty('N'), Ty('S')\n",
    "two, three, five = Box('two', Ty(), N), Box('three', Ty(), N), Box('five', Ty(), N)\n",
    "plus, is_ = Box('plus', Ty(), N >> (N << N)), Box('is', Ty(), N >> S << N)\n",
    "\n",
    "FA = lambda a, b: UnCurry(Id(a >> b))\n",
    "# assert FA(x, y).dom == x @ (x >> y) and FA(x, y).cod == y\n",
    "BA = lambda a, b: UnCurry(Id(b << a))\n",
    "# assert BA(x, y).dom == (y << x) @ x and BA(x, y).cod == y\n",
    "\n",
    "sentence = two @ plus @ three @ is_ @ five\n",
    "grammar = FA(N, N << N) @ Id(N) @ BA(N, N >> S) >> BA(N, N) @ Id(N >> S) >> FA(N, S)\n",
    "sentence = sentence >> grammar\n",
    "\n",
    "number = lambda y: Function(lambda: (y, ), Ty(), N)\n",
    "add = Function(lambda x, y: (x + y,), N @ N, N)\n",
    "is_equal = Function(lambda x, y: (x == y, ), N @ N, S)\n",
    "\n",
    "ob = lambda x: x\n",
    "ar = {two: number(2), three: number(3), five: number(5),\n",
    "      is_: is_equal.curry().curry(left=True), \n",
    "      plus: add.curry().curry(left=True)}\n",
    "F = Functor(ob, ar, ob_factory=Ty, ar_factory=Function)\n",
    "F(sentence)()"
   ]
  },
  {
   "cell_type": "code",
   "execution_count": 8,
   "metadata": {},
   "outputs": [
    {
     "data": {
      "image/png": "[encoded data removed]",
      "text/plain": [
       "<Figure size 720x432 with 1 Axes>"
      ]
     },
     "metadata": {
      "needs_background": "light"
     },
     "output_type": "display_data"
    }
   ],
   "source": [
    "sentence.draw(figsize=(10, 6))"
   ]
  },
  {
   "cell_type": "code",
   "execution_count": null,
   "metadata": {},
   "outputs": [],
   "source": []
  }
 ],
 "metadata": {
  "kernelspec": {
   "display_name": "Python 3",
   "language": "python",
   "name": "python3"
  },
  "language_info": {
   "codemirror_mode": {
    "name": "ipython",
    "version": 3
   },
   "file_extension": ".py",
   "mimetype": "text/x-python",
   "name": "python",
   "nbconvert_exporter": "python",
   "pygments_lexer": "ipython3",
   "version": "3.7.4"
  }
 },
 "nbformat": 4,
 "nbformat_minor": 2
}
