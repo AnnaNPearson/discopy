{
 "cells": [
  {
   "cell_type": "markdown",
   "metadata": {},
   "source": [
    "# qnlp-tutorial\n",
    "\n",
    "We go through the basics of DisCoPy and QNLP: how to draw circuit diagrams, how to evaluate them, how to learn functors from grammar to circuits."
   ]
  },
  {
   "cell_type": "markdown",
   "metadata": {},
   "source": [
    "## 1. Drawing cooking recipes\n",
    "\n",
    "An **object** `Ob` can be thought of as a basic ingredient in a recipe, it is defined only by its name, e.g. `'egg'`, `'sentence'`, `'qubit'`, etc.\n",
    "A **type** `Ty` is simply a sequence of objects, i.e. a bunch of ingredients side by side, e.g. `Ty('egg', 'qubit')` represents an egg next to a qubit.\n",
    "Types form a monoid with **tensor** `@` as product and the empty type `Ty()` as unit.\n",
    "For example:"
   ]
  },
  {
   "cell_type": "code",
   "execution_count": 1,
   "metadata": {},
   "outputs": [],
   "source": [
    "from discopy import Ob, Ty\n",
    "\n",
    "egg, white, yolk = Ty('egg'), Ty('white'), Ty('yolk')\n",
    "\n",
    "assert egg.objects == [Ob('egg')]\n",
    "assert white @ yolk == Ty(Ob('white'), Ob('yolk'))\n",
    "\n",
    "assert egg @ Ty() == egg == Ty() @ egg\n",
    "assert egg @ (white @ yolk) == (egg @ white) @ yolk"
   ]
  },
  {
   "cell_type": "markdown",
   "metadata": {},
   "source": [
    "Once we have defined some types, we can draw a **box** `Box` with some types as **domain** `dom` and **codomain** `cod`.\n",
    "\n",
    "We can compose boxes both in parallel with `@` and in sequence with `>>`."
   ]
  },
  {
   "cell_type": "code",
   "execution_count": 2,
   "metadata": {},
   "outputs": [
    {
     "data": {
      "image/png": "[encoded data removed]",
      "text/plain": [
       "<Figure size 144x144 with 1 Axes>"
      ]
     },
     "metadata": {
      "needs_background": "light"
     },
     "output_type": "display_data"
    }
   ],
   "source": [
    "from discopy import Box\n",
    "\n",
    "crack = Box('crack', dom=egg, cod=white @ yolk)\n",
    "\n",
    "crack.draw(figsize=(2, 2))"
   ]
  },
  {
   "cell_type": "code",
   "execution_count": 3,
   "metadata": {},
   "outputs": [
    {
     "data": {
      "image/png": "[encoded data removed]",
      "text/plain": [
       "<Figure size 576x144 with 1 Axes>"
      ]
     },
     "metadata": {
      "needs_background": "light"
     },
     "output_type": "display_data"
    }
   ],
   "source": [
    "from discopy import drawing\n",
    "\n",
    "mix = Box('mix', white @ yolk, egg)\n",
    "\n",
    "crack_tensor_mix = crack @ mix\n",
    "crack_then_mix = crack >> mix\n",
    "\n",
    "drawing.equation(crack_tensor_mix, crack_then_mix, space=2, symbol=', ', figsize=(8, 2))"
   ]
  },
  {
   "cell_type": "markdown",
   "metadata": {},
   "source": [
    "We can draw the identity `Id` for a type, i.e. just some parallel wires. Composing with an identity does nothing. Tensoring with the identity of the empty type, i.e. the empty diagram `Id(Ty())`, does nothing either."
   ]
  },
  {
   "cell_type": "code",
   "execution_count": 4,
   "metadata": {},
   "outputs": [
    {
     "data": {
      "image/png": "[encoded data removed]",
      "text/plain": [
       "<Figure size 216x144 with 1 Axes>"
      ]
     },
     "metadata": {
      "needs_background": "light"
     },
     "output_type": "display_data"
    }
   ],
   "source": [
    "from discopy import Id\n",
    "\n",
    "assert crack >> Id(white @ yolk) == crack == Id(egg) >> crack\n",
    "assert crack @ Id(Ty()) == crack == Id(Ty()) @ crack\n",
    "\n",
    "sugar, yolky_paste = Ty('sugar'), Ty('yolky_paste')\n",
    "beat = Box('beat', yolk @ sugar, yolky_paste)\n",
    "\n",
    "crack_then_beat = crack @ Id(sugar) >> Id(white) @ beat\n",
    "\n",
    "crack_then_beat.draw(figsize=(3, 2))"
   ]
  },
  {
   "cell_type": "markdown",
   "metadata": {},
   "source": [
    "We can swap wires using `Swap` boxes."
   ]
  },
  {
   "cell_type": "code",
   "execution_count": 5,
   "metadata": {},
   "outputs": [
    {
     "data": {
      "image/png": "[encoded data removed]",
      "text/plain": [
       "<Figure size 216x288 with 1 Axes>"
      ]
     },
     "metadata": {
      "needs_background": "light"
     },
     "output_type": "display_data"
    }
   ],
   "source": [
    "from discopy import Swap\n",
    "\n",
    "merge = lambda x: Box('merge', x @ x, x)\n",
    "\n",
    "crack_two_eggs = crack @ crack\\\n",
    "    >> Id(white) @ Swap(yolk, white) @ Id(yolk)\\\n",
    "    >> merge(white) @ merge(yolk)\n",
    "\n",
    "crack_two_eggs.draw(figsize=(3, 4))"
   ]
  },
  {
   "cell_type": "markdown",
   "metadata": {},
   "source": [
    "**Exercise:** Draw your favorite cooking recipe as a diagram. You'll want to keep your ingredients in order if you want to avoid swapping them.\n",
    "\n",
    "**Further reading:** Check out Pawel's blogpost [Crema di mascarpone and diagrammatic reasoning](https://graphicallinearalgebra.net/2015/05/06/crema-di-mascarpone-rules-of-the-game-part-2-and-diagrammatic-reasoning/).\n",
    "\n",
    "**Exercise (harder):** Define a function that takes a number `n` and returns the recipe of a tiramisu with `n` layers of crema di mascarpone and savoiardi."
   ]
  },
  {
   "cell_type": "markdown",
   "metadata": {},
   "source": [
    "## 2. Drawing quantum circuits\n",
    "\n",
    "A **pure** quantum `Circuit` is nothing more than a recipe with qubits as ingredients, cooking step is called a `QuantumGate` and they obey an important rule: they always leave the number of ingredients intact."
   ]
  },
  {
   "cell_type": "code",
   "execution_count": 19,
   "metadata": {},
   "outputs": [
    {
     "name": "stdout",
     "output_type": "stream",
     "text": [
      "H @ Id(1) >> CX\n"
     ]
    },
    {
     "data": {
      "image/png": "[encoded data removed]",
      "text/plain": [
       "<Figure size 144x144 with 1 Axes>"
      ]
     },
     "metadata": {
      "needs_background": "light"
     },
     "output_type": "display_data"
    }
   ],
   "source": [
    "from discopy.quantum import Id, qubit, H, CX\n",
    "\n",
    "circuit = H @ Id(qubit) >> CX\n",
    "print(circuit)\n",
    "circuit.draw(figsize=(2, 2), draw_type_labels=True, margins=(.1,.1))"
   ]
  },
  {
   "cell_type": "markdown",
   "metadata": {},
   "source": [
    "A pure quantum circuit can be evaluated as a `Tensor` object, which holds a `numpy.ndarray` such that `tensor.array.shape == tensor.dom @ tensor.cod`. The evaluation of a composition is given by matrix multiplication, the evaluation of a tensor is given by the Kronecker product. In practice, this is computed using `numpy.tensordot` and `numpy.moveaxis`."
   ]
  },
  {
   "cell_type": "code",
   "execution_count": 7,
   "metadata": {},
   "outputs": [
    {
     "name": "stdout",
     "output_type": "stream",
     "text": [
      "Tensor(dom=Dim(2), cod=Dim(2), array=[0.70710678, 0.70710678, 0.70710678, -0.70710678])\n",
      "Tensor(dom=Dim(2, 2), cod=Dim(2, 2), array=[1.+0.j, 0.+0.j, 0.+0.j, 0.+0.j, 0.+0.j, 1.+0.j, 0.+0.j, 0.+0.j, 0.+0.j,\n",
      " 0.+0.j, 0.+0.j, 1.+0.j, 0.+0.j, 0.+0.j, 1.+0.j, 0.+0.j])\n"
     ]
    }
   ],
   "source": [
    "print(H.eval())\n",
    "print(CX.eval())"
   ]
  },
  {
   "cell_type": "code",
   "execution_count": 8,
   "metadata": {},
   "outputs": [
    {
     "data": {
      "text/plain": [
       "array([[[[ 0.70710678+0.j,  0.        +0.j],\n",
       "         [ 0.        +0.j,  0.70710678+0.j]],\n",
       "\n",
       "        [[ 0.        +0.j,  0.70710678+0.j],\n",
       "         [ 0.70710678+0.j,  0.        +0.j]]],\n",
       "\n",
       "\n",
       "       [[[ 0.70710678+0.j,  0.        +0.j],\n",
       "         [ 0.        +0.j, -0.70710678+0.j]],\n",
       "\n",
       "        [[ 0.        +0.j,  0.70710678+0.j],\n",
       "         [-0.70710678+0.j,  0.        +0.j]]]])"
      ]
     },
     "execution_count": 8,
     "metadata": {},
     "output_type": "execute_result"
    }
   ],
   "source": [
    "assert circuit.eval() == H.eval() @ Id(qubit).eval() >> CX.eval()\n",
    "\n",
    "circuit.eval().array"
   ]
  },
  {
   "cell_type": "code",
   "execution_count": 9,
   "metadata": {},
   "outputs": [],
   "source": [
    "import numpy as np\n",
    "\n",
    "assert np.all(\n",
    "    (H >> H).eval().array == H.array.dot(H.array))\n",
    "assert np.all(\n",
    "    (H @ H).eval().array == np.moveaxis(np.tensordot(\n",
    "    H.array, H.array, 0), range(4), [0, 2, 1, 3]))\n",
    "assert np.all(\n",
    "    circuit.eval().array == np.tensordot(H.array, CX.array, 1))"
   ]
  },
  {
   "cell_type": "markdown",
   "metadata": {},
   "source": [
    "Another important rule is that a pure quantum circuit is reversible, i.e. it evaluates to a unitary matrix. The reverse of a circuit is called its **dagger**, written with the list reverse operator `[::-1]`. "
   ]
  },
  {
   "cell_type": "code",
   "execution_count": 18,
   "metadata": {},
   "outputs": [
    {
     "name": "stdout",
     "output_type": "stream",
     "text": [
      "CX >> H @ Id(1)\n"
     ]
    },
    {
     "data": {
      "image/png": "[encoded data removed]",
      "text/plain": [
       "<Figure size 144x144 with 1 Axes>"
      ]
     },
     "metadata": {
      "needs_background": "light"
     },
     "output_type": "display_data"
    }
   ],
   "source": [
    "print(circuit[::-1])\n",
    "circuit[::-1].draw(figsize=(2, 2), margins=(.1,.1))"
   ]
  },
  {
   "cell_type": "code",
   "execution_count": 11,
   "metadata": {},
   "outputs": [],
   "source": [
    "assert (CX >> CX[::-1]).eval() == Id(qubit ** 2).eval()\n",
    "assert np.all(np.isclose((H >> H[::-1]).eval(), Id(qubit).eval()))"
   ]
  },
  {
   "cell_type": "markdown",
   "metadata": {},
   "source": [
    "Matrix multiplication is fun and all, but that's not really what quantum computers do. To simulate the quantum state that the circuit produces, we need to pre-compose it with a `Ket`, i.e. we need to initialise some qubits before we apply our circuit.\n",
    "In our example `circuit`, the resulting state is the so called Bell state $\\frac{1}{\\sqrt{2}} (|00\\rangle + |11\\rangle)$."
   ]
  },
  {
   "cell_type": "code",
   "execution_count": 54,
   "metadata": {},
   "outputs": [
    {
     "data": {
      "image/png": "[encoded data removed]",
      "text/plain": [
       "<Figure size 144x180 with 1 Axes>"
      ]
     },
     "metadata": {
      "needs_background": "light"
     },
     "output_type": "display_data"
    }
   ],
   "source": [
    "from discopy.quantum import Ket\n",
    "\n",
    "(Ket(0, 0) >> circuit).draw(figsize=(2, 2.5))"
   ]
  },
  {
   "cell_type": "code",
   "execution_count": 55,
   "metadata": {},
   "outputs": [
    {
     "data": {
      "text/plain": [
       "Tensor(dom=Dim(1), cod=Dim(2, 2), array=[0.70710678+0.j, 0.    +0.j, 0.    +0.j, 0.70710678+0.j])"
      ]
     },
     "execution_count": 55,
     "metadata": {},
     "output_type": "execute_result"
    }
   ],
   "source": [
    "(Ket(0, 0) >> circuit).eval()"
   ]
  },
  {
   "cell_type": "markdown",
   "metadata": {},
   "source": [
    "To compute the probability of a particular measurement result, we need to post-compose our circuit with a `Bra`, the dagger of `Ket`, then apply the Born rule."
   ]
  },
  {
   "cell_type": "code",
   "execution_count": 78,
   "metadata": {},
   "outputs": [
    {
     "data": {
      "image/png": "[encoded data removed]",
      "text/plain": [
       "<Figure size 144x216 with 1 Axes>"
      ]
     },
     "metadata": {
      "needs_background": "light"
     },
     "output_type": "display_data"
    },
    {
     "name": "stdout",
     "output_type": "stream",
     "text": [
      "0.4999999999999999\n"
     ]
    }
   ],
   "source": [
    "from discopy.quantum import Bra\n",
    "\n",
    "experiment = Ket(0, 0) >> circuit >> Bra(0, 0)\n",
    "experiment.draw(figsize=(2, 3))\n",
    "amplitude = experiment.eval().array[0]\n",
    "probability = abs(amplitude) ** 2\n",
    "print(probability)"
   ]
  },
  {
   "cell_type": "markdown",
   "metadata": {},
   "source": [
    "If we want to get the probability distribution over bitstrings, we need to leave the realm of purity to consider **mixed** quantum circuits with both `bit` and `qubit` ingredients.\n",
    "The `Measure` box has `dom=qubit` and `cod=bit`.\n",
    "Another example of a mixed box is `Discard` which computes a partial trace over a qubit.\n",
    "Mixed circuits cannot be evaluated as a unitary matrix anymore.\n",
    "Instead, whenever the circuit is mixed `circuit.eval()` outputs a `CQMap`, a `numpy.ndarray` with axes for the classical and quantum dimensions of the circuit."
   ]
  },
  {
   "cell_type": "code",
   "execution_count": 79,
   "metadata": {},
   "outputs": [
    {
     "name": "stdout",
     "output_type": "stream",
     "text": [
      "CQMap(dom=Q(Dim(2)), cod=CQ(), array=[1., 0., 0., 1.])\n",
      "CQMap(dom=Q(Dim(2)), cod=C(Dim(2)), array=[1, 0, 0, 0, 0, 0, 0, 1])\n"
     ]
    }
   ],
   "source": [
    "from discopy.quantum import Measure, Discard\n",
    "\n",
    "print(Discard().eval())\n",
    "print(Measure().eval())"
   ]
  },
  {
   "cell_type": "code",
   "execution_count": 80,
   "metadata": {},
   "outputs": [
    {
     "data": {
      "image/png": "[encoded data removed]",
      "text/plain": [
       "<Figure size 144x288 with 1 Axes>"
      ]
     },
     "metadata": {
      "needs_background": "light"
     },
     "output_type": "display_data"
    },
    {
     "data": {
      "text/plain": [
       "CQMap(dom=CQ(), cod=C(Dim(2)), array=[0.5+0.j, 0.5+0.j])"
      ]
     },
     "execution_count": 80,
     "metadata": {},
     "output_type": "execute_result"
    }
   ],
   "source": [
    "(Ket(0, 0) >> circuit >> Measure() @ Discard()).draw(figsize=(2, 4))\n",
    "(Ket(0, 0) >> circuit >> Measure() @ Discard()).eval()"
   ]
  },
  {
   "cell_type": "markdown",
   "metadata": {},
   "source": [
    "Note that as for diagrams of cooking recipes, we need to introduce swaps in order to apply two-qubit gates to non-adjacent qubits. These swaps have no physical meaning, they are just an artefact of drawing circuits in 2 dimensions rather than 4. Indeed, we can forget about swaps by compiling our planar diagram into the graph-based data structure of $\\mathrm{t|ket\\rangle}$."
   ]
  },
  {
   "cell_type": "code",
   "execution_count": 81,
   "metadata": {},
   "outputs": [
    {
     "data": {
      "text/plain": [
       "tk.Circuit(2).H(0).CX(0, 1)"
      ]
     },
     "execution_count": 81,
     "metadata": {},
     "output_type": "execute_result"
    }
   ],
   "source": [
    "from discopy.quantum import SWAP\n",
    "\n",
    "circuit.to_tk()"
   ]
  },
  {
   "cell_type": "code",
   "execution_count": 82,
   "metadata": {},
   "outputs": [
    {
     "data": {
      "text/plain": [
       "tk.Circuit(2).H(1).CX(1, 0)"
      ]
     },
     "execution_count": 82,
     "metadata": {},
     "output_type": "execute_result"
    }
   ],
   "source": [
    "(SWAP >> circuit >> SWAP).to_tk()"
   ]
  },
  {
   "cell_type": "markdown",
   "metadata": {},
   "source": [
    "We can execute our circuit on a $\\mathrm{t|ket\\rangle}$ backend (simulator or hardware) by passing it as a parameter to `eval`."
   ]
  },
  {
   "cell_type": "code",
   "execution_count": 83,
   "metadata": {},
   "outputs": [
    {
     "data": {
      "text/plain": [
       "Tensor(dom=Dim(1), cod=Dim(2), array=[0.48925781, 0.51074219])"
      ]
     },
     "execution_count": 83,
     "metadata": {},
     "output_type": "execute_result"
    }
   ],
   "source": [
    "from pytket.backends.ibm import AerBackend\n",
    "\n",
    "aer = AerBackend()\n",
    "\n",
    "(circuit >> Measure() @ Discard()).eval(backend=aer)"
   ]
  },
  {
   "cell_type": "markdown",
   "metadata": {},
   "source": [
    "**Exercise:** Run your own Bell experiment on quantum hardware! You can use IBMQ machines for free, if you're ready to wait.\n",
    "\n",
    "**Exercise:** Draw a circuit that evaluates to the GHZ state $\\frac{1}{\\sqrt{2}} (|000\\rangle + |111\\rangle)$.\n",
    "\n",
    "**Exercise (harder):** Define a function that takes a number `n` and returns a circuit for the generalised GHZ state $\\frac{1}{\\sqrt{2}} (|0...0\\rangle + |1...1\\rangle)$."
   ]
  },
  {
   "cell_type": "markdown",
   "metadata": {},
   "source": [
    "## 3. Drawing grammatical structure\n",
    "\n",
    "So far we've learnt how to draw diagrams of cooking recipes and how to evaluate quantum circuits. Now we're gonna see that diagrams can represent the grammatical structure of a sentence.\n",
    "\n",
    "The ingredients are grammatical types: `n` for noun, `s` for sentence, etc. Each ingredient has left and right adjoints `n.l` and `n.r`. For example we have the type for intransitive verbs `n.r @ s` which reads \"take a noun on your left and give a sentence\".\n",
    "\n",
    "The cooking steps are of two kinds: words and cups. Words have no inputs, they output their own type. Cups have no outputs, they take two types `left` and `right` as inputs such that `left.r == right`. If you can take a bunch of words and apply cups till you have only `s` left, then well-done, you formed a grammatical sentence."
   ]
  },
  {
   "cell_type": "code",
   "execution_count": 69,
   "metadata": {},
   "outputs": [
    {
     "data": {
      "image/png": "[encoded data removed]",
      "text/plain": [
       "<Figure size 360x360 with 1 Axes>"
      ]
     },
     "metadata": {
      "needs_background": "light"
     },
     "output_type": "display_data"
    }
   ],
   "source": [
    "from discopy import Ty, Id, Word, Cup, pregroup\n",
    "\n",
    "n, s = Ty('n'), Ty('s')\n",
    "\n",
    "Alice = Word(\"Alice\", n)\n",
    "loves = Word(\"loves\", n.r @ s @ n.l)\n",
    "Bob = Word(\"Bob\", n)\n",
    "\n",
    "grammar = Cup(n, n.r) @ Id(s) @ Cup(n.l, n)\n",
    "\n",
    "sentence = Alice @ loves @ Bob >> grammar\n",
    "pregroup.draw(sentence, figsize=(5, 5))"
   ]
  }
 ],
 "metadata": {
  "kernelspec": {
   "display_name": "Python 3",
   "language": "python",
   "name": "python3"
  },
  "language_info": {
   "codemirror_mode": {
    "name": "ipython",
    "version": 3
   },
   "file_extension": ".py",
   "mimetype": "text/x-python",
   "name": "python",
   "nbconvert_exporter": "python",
   "pygments_lexer": "ipython3",
   "version": "3.8.5"
  }
 },
 "nbformat": 4,
 "nbformat_minor": 4
}
