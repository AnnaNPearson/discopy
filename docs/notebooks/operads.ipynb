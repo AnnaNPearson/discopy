{
 "cells": [
  {
   "cell_type": "code",
   "execution_count": 1,
   "metadata": {},
   "outputs": [],
   "source": [
    "from discopy.cat import Ob\n",
    "from discopy import monoidal, Quiver\n",
    "\n",
    "class Tree:\n",
    "    \"\"\"\n",
    "    We can check the axioms of multicategories (coloured operads) hold. \n",
    "    \n",
    "    >>> x, y = Ob('x'), Ob('y')\n",
    "    >>> f, g, h = Box('f', x, [x, x]), Box('g', x, [x, y]), Box('h', x, [y, x])\n",
    "    >>> assert Id(x)(f) == f == f(Id(x), Id(x))\n",
    "    >>> left = f(Id(x), h)(g, Id(x), Id(x))\n",
    "    >>> middle = f(g, h)\n",
    "    >>> right = f(g, Id(x))(Id(x), Id(x), h)\n",
    "    >>> assert left == middle == right == Tree(root=f, branches=[g, h])\n",
    "    \"\"\"\n",
    "    def __init__(self, root, branches, _scan=True):\n",
    "        if not isinstance(root, Box):\n",
    "            raise TypeError()\n",
    "        if not all([isinstance(branch, Tree) for branch in branches]):\n",
    "            raise TypeError()\n",
    "        if _scan and not root.cod == [branch.dom for branch in branches]:\n",
    "            raise AxiomError()\n",
    "        self.dom, self.root, self.branches = root.dom, root, branches\n",
    "\n",
    "    @property\n",
    "    def cod(self):\n",
    "        if isinstance(self, Box):\n",
    "            return self._cod\n",
    "        else:\n",
    "            return [x for x in branch.cod for branch in self.branches]\n",
    "\n",
    "    def __repr__(self):\n",
    "        return \"Tree({}, {})\".format(self.root, self.branches) \n",
    "    \n",
    "    def __str__(self):\n",
    "        if isinstance(self, Box):\n",
    "            return self.name\n",
    "        return \"{}({})\".format(self.root.name,\n",
    "                               ', '.join(map(Tree.__str__, self.branches)))\n",
    "\n",
    "    def __call__(self, *others):\n",
    "        if not others or all([isinstance(other, Id) for other in others]):\n",
    "            return self\n",
    "        if isinstance(self, Id):\n",
    "            return others[0]\n",
    "        if isinstance(self, Box):\n",
    "            return Tree(self, list(others))\n",
    "        if isinstance(self, Tree):\n",
    "            lengths = [len(branch.cod) for branch in self.branches]\n",
    "            ranges = [0] + [sum(lengths[:i + 1]) for i in range(len(lengths))]\n",
    "            branches = [self.branches[i](*others[ranges[i]:ranges[i + 1]])\n",
    "                        for i in range(len(self.branches))]\n",
    "            return Tree(self.root, branches, _scan=False)\n",
    "        raise NotImplementedError()\n",
    "\n",
    "    @staticmethod\n",
    "    def id(dom):\n",
    "        return Id(dom)\n",
    "\n",
    "    def __eq__(self, other):\n",
    "        return self.root == other.root and self.branches == other.branches\n",
    "\n",
    "\n",
    "class Box(Tree):\n",
    "    \"\"\"\n",
    "    Implements generators of free operads, i.e. the nodes in the trees.\n",
    "    \n",
    "    >>> n, d, v, vp, np, s = Ob('N'), Ob('D'), Ob('V'), Ob('VP'), Ob('NP'), Ob('S')\n",
    "    >>> Caesar, crossed = Box('Caesar', n, []), Box('crossed', v, []),\n",
    "    >>> the, Rubicon = Box('the', d, []), Box('Rubicon', n, [])\n",
    "    >>> VP, NP, S = Box('VP', vp, [n, v]), Box('NP', np, [d, n]), Box('S', s, [vp, np])\n",
    "    >>> sentence = S(VP(Caesar, crossed), NP(the, Rubicon))\n",
    "    \"\"\"\n",
    "    def __init__(self, name, dom, cod):\n",
    "        if not (isinstance(dom, Ob) and isinstance(cod, list)\n",
    "                and all([isinstance(x, Ob) for x in cod])):\n",
    "            return TypeError\n",
    "        self.name, self.dom, self._cod = name, dom, cod\n",
    "        Tree.__init__(self, self, [], _scan=False)\n",
    "\n",
    "    def __repr__(self):\n",
    "        return \"Box('{}', {}, {})\".format(self.name, self.dom, self._cod)\n",
    "\n",
    "    def __hash__(self):\n",
    "        return hash(repr(self))\n",
    "\n",
    "    def __eq__(self, other):\n",
    "        if isinstance(other, Box):\n",
    "            return self.dom == other.dom and self.cod == other.cod \\\n",
    "                        and self.name == other.name\n",
    "        if isinstance(other, Tree):\n",
    "            return other.root == self and other.branches == []\n",
    "        \n",
    "class Id(Box):\n",
    "    def __init__(self, dom):\n",
    "        self.dom, self._cod = dom, [dom]\n",
    "        Box.__init__(self, \"Id({})\".format(dom), dom, dom)\n",
    "\n",
    "    def __repr__(self):\n",
    "        return \"Id({})\".format(self.dom)\n",
    "\n",
    "\n",
    "class Algebra:\n",
    "    def __init__(self, ob, ar, cod=Tree):\n",
    "        self.cod = cod\n",
    "        self.ob = Quiver(ob) if callable(ob) else ob\n",
    "        self.ar = Quiver(ar) if callable(ar) else ar\n",
    "\n",
    "    def __call__(self, tree):\n",
    "        if isinstance(tree, Id):\n",
    "            return self.cod.id(self.ob[tree.dom])\n",
    "        if isinstance(tree, Box):\n",
    "            return self.ar[tree]\n",
    "        box = self.ar[tree.root]\n",
    "        if isinstance(box, monoidal.Diagram):\n",
    "            return box >> monoidal.Diagram.tensor(\n",
    "                *[self(branch) for branch in tree.branches])\n",
    "        return box(*[self(branch) for branch in tree.branches])"
   ]
  },
  {
   "cell_type": "code",
   "execution_count": 2,
   "metadata": {},
   "outputs": [],
   "source": [
    "x, y = Ob('x'), Ob('y')\n",
    "f, g, h = Box('f', x, [x, x]), Box('g', x, [x, y]), Box('h', x, [y, x])\n",
    "assert Id(x)(f) == f == f(Id(x), Id(x))\n",
    "left = f(Id(x), h)(g, Id(x), Id(x))\n",
    "middle = f(g, h)\n",
    "right = f(g, Id(x))(Id(x), Id(x), h)\n",
    "assert left == middle == right == Tree(root=f, branches=[g, h])"
   ]
  },
  {
   "cell_type": "code",
   "execution_count": 3,
   "metadata": {},
   "outputs": [],
   "source": [
    "n, d, v, vp, np, s = Ob('N'), Ob('D'), Ob('V'), Ob('VP'), Ob('NP'), Ob('S')\n",
    "Caesar, crossed = Box('Caesar', n, []), Box('crossed', v, []),\n",
    "the, Rubicon = Box('the', d, []), Box('Rubicon', n, [])\n",
    "VP, NP, S = Box('VP', vp, [n, v]), Box('NP', np, [d, n]), Box('S', s, [vp, np])\n",
    "sentence = S(VP(Caesar, crossed), NP(the, Rubicon))"
   ]
  },
  {
   "cell_type": "code",
   "execution_count": 4,
   "metadata": {},
   "outputs": [],
   "source": [
    "ob = Quiver(lambda ty: x)\n",
    "ar = Quiver(lambda node: f if node in [VP, NP, S] else Box(node.name, x, []))\n",
    "F = Algebra(ob, ar)\n",
    "tree0 = f(f(f(ar[Caesar], ar[crossed]), ar[the]), ar[Rubicon])\n",
    "tree1 = f(f(ar[Caesar], ar[crossed]), f(ar[the], ar[Rubicon]))\n",
    "assert F(sentence) == tree1 != tree0"
   ]
  },
  {
   "cell_type": "markdown",
   "metadata": {},
   "source": [
    "### Interface with monoidal.Diagram"
   ]
  },
  {
   "cell_type": "code",
   "execution_count": 5,
   "metadata": {
    "scrolled": false
   },
   "outputs": [
    {
     "data": {
      "image/png": "[encoded data removed]",
      "text/plain": [
       "<Figure size 432x288 with 1 Axes>"
      ]
     },
     "metadata": {},
     "output_type": "display_data"
    }
   ],
   "source": [
    "from discopy import monoidal, drawing\n",
    "\n",
    "def tree2diagram(tree):\n",
    "    if isinstance(tree, Id):\n",
    "        return monoidal.Diagram.id(monoidal.Ty(tree.dom))\n",
    "    if isinstance(tree, Box):\n",
    "        return monoidal.Box(tree.name, monoidal.Ty(tree.dom), monoidal.Ty().tensor(*map(monoidal.Ty, tree.cod)))\n",
    "    else:\n",
    "        cod = monoidal.Ty().tensor(*map(monoidal.Ty, tree.root.cod))\n",
    "        return monoidal.Box(tree.root.name, monoidal.Ty(tree.dom), cod) \\\n",
    "            >> monoidal.Diagram.id().tensor(*[tree2diagram(branch)\n",
    "                                              for branch in tree.branches])\n",
    "drawing.equation(tree2diagram(f(f, Id(x))), tree2diagram(f(Id(x), f)))"
   ]
  },
  {
   "cell_type": "markdown",
   "metadata": {},
   "source": [
    "### Build interface as instance of Algebra."
   ]
  },
  {
   "cell_type": "code",
   "execution_count": 6,
   "metadata": {},
   "outputs": [],
   "source": [
    "from discopy import monoidal\n",
    "ob = lambda ty: monoidal.Ty(ty)\n",
    "ar = lambda node: monoidal.Box(node.name, monoidal.Ty(node.dom), monoidal.Ty(*node.cod))\n",
    "to_diagram = Algebra(ob, ar, cod=monoidal.Diagram)"
   ]
  },
  {
   "cell_type": "code",
   "execution_count": 7,
   "metadata": {},
   "outputs": [
    {
     "data": {
      "image/png": "[encoded data removed]",
      "text/plain": [
       "<Figure size 432x288 with 1 Axes>"
      ]
     },
     "metadata": {},
     "output_type": "display_data"
    },
    {
     "data": {
      "image/png": "[encoded data removed]",
      "text/plain": [
       "<Figure size 432x288 with 1 Axes>"
      ]
     },
     "metadata": {},
     "output_type": "display_data"
    }
   ],
   "source": [
    "x = Ob('x')\n",
    "f = Box('f', x, [x, x])\n",
    "to_diagram(f(f, Id(x))).draw()\n",
    "to_diagram(sentence).draw()"
   ]
  },
  {
   "cell_type": "markdown",
   "metadata": {},
   "source": [
    "### Interface with NLTK (1)"
   ]
  },
  {
   "cell_type": "code",
   "execution_count": 8,
   "metadata": {},
   "outputs": [
    {
     "name": "stdout",
     "output_type": "stream",
     "text": [
      "S(NP(I), VP(V(saw), NP(him)))\n"
     ]
    }
   ],
   "source": [
    "import nltk\n",
    "def from_nltk(tree):\n",
    "    if isinstance(tree, str):\n",
    "        return Box(tree, Ob(tree), [])\n",
    "    else:\n",
    "        cod = [Ob(branch) if isinstance(branch, str) else Ob(branch.label()) for branch in tree]\n",
    "        return Box(tree.label(), Ob(tree.label()), cod)(*[from_nltk(branch) for branch in tree])\n",
    "\n",
    "\n",
    "t = nltk.Tree.fromstring(\"(S (NP I) (VP (V saw) (NP him)))\")\n",
    "print(from_nltk(t))"
   ]
  },
  {
   "cell_type": "code",
   "execution_count": 9,
   "metadata": {
    "scrolled": true
   },
   "outputs": [
    {
     "data": {
      "image/png": "[encoded data removed]",
      "text/plain": [
       "<Figure size 432x288 with 1 Axes>"
      ]
     },
     "metadata": {},
     "output_type": "display_data"
    }
   ],
   "source": [
    "from nltk import CFG\n",
    "from nltk.parse import RecursiveDescentParser\n",
    "grammar = CFG.fromstring(\"\"\"\n",
    "S -> VP NP\n",
    "NP -> D N\n",
    "VP -> N V\n",
    "N -> 'Caesar'\n",
    "V -> 'crossed'\n",
    "D -> 'the'\n",
    "N -> 'Rubicon'\"\"\")\n",
    "\n",
    "rd = RecursiveDescentParser(grammar)\n",
    "for x in rd.parse('Caesar crossed the Rubicon'.split()):\n",
    "    tree2diagram(from_nltk(x)).draw()"
   ]
  },
  {
   "cell_type": "markdown",
   "metadata": {},
   "source": [
    "### Interface with NLTK (2)"
   ]
  },
  {
   "cell_type": "code",
   "execution_count": 10,
   "metadata": {},
   "outputs": [
    {
     "data": {
      "image/png": "[encoded data removed]",
      "text/plain": [
       "<Figure size 432x288 with 1 Axes>"
      ]
     },
     "metadata": {},
     "output_type": "display_data"
    }
   ],
   "source": [
    "def from_nltk(tree):\n",
    "    \"\"\"\n",
    "    Assumes that tree is generated from a lexicalised CFG\n",
    "    \"\"\"\n",
    "    branches, cod = [], []\n",
    "    for branch in tree:\n",
    "        if isinstance(branch, str):\n",
    "            return Box(branch, Ob(tree.label()), [])\n",
    "        else:\n",
    "            branches += [from_nltk(branch)]\n",
    "            cod += [Ob(branch.label())]\n",
    "    root = Box(tree.label(), Ob(tree.label()), cod)\n",
    "    return root(*branches)\n",
    "\n",
    "parse = next(rd.parse('Caesar crossed the Rubicon'.split()))\n",
    "tree2diagram(from_nltk(parse)).draw()"
   ]
  },
  {
   "cell_type": "code",
   "execution_count": 11,
   "metadata": {},
   "outputs": [],
   "source": [
    "assert from_nltk(parse) == sentence"
   ]
  },
  {
   "cell_type": "code",
   "execution_count": 12,
   "metadata": {},
   "outputs": [
    {
     "data": {
      "image/png": "[encoded data removed]",
      "text/plain": [
       "<Figure size 432x288 with 1 Axes>"
      ]
     },
     "metadata": {},
     "output_type": "display_data"
    }
   ],
   "source": [
    "tree2diagram(from_nltk(t)).draw()"
   ]
  },
  {
   "cell_type": "code",
   "execution_count": null,
   "metadata": {},
   "outputs": [],
   "source": []
  }
 ],
 "metadata": {
  "kernelspec": {
   "display_name": "Python 3",
   "language": "python",
   "name": "python3"
  },
  "language_info": {
   "codemirror_mode": {
    "name": "ipython",
    "version": 3
   },
   "file_extension": ".py",
   "mimetype": "text/x-python",
   "name": "python",
   "nbconvert_exporter": "python",
   "pygments_lexer": "ipython3",
   "version": "3.7.4"
  }
 },
 "nbformat": 4,
 "nbformat_minor": 2
}
