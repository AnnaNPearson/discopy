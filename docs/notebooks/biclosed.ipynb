{
 "cells": [
  {
   "cell_type": "markdown",
   "metadata": {},
   "source": [
    "## biclosed.py revisited"
   ]
  },
  {
   "cell_type": "code",
   "execution_count": 1,
   "metadata": {},
   "outputs": [],
   "source": [
    "from discopy import monoidal\n",
    "\n",
    "class Ty(monoidal.Ty):\n",
    "    @staticmethod\n",
    "    def upgrade(old):\n",
    "        if len(old) == 1 and isinstance(old[0], (Over, Under)):\n",
    "            return old[0]\n",
    "        return Ty(*old.objects)\n",
    "        \n",
    "    def __init__(self, *objects, left=None, right=None):\n",
    "        self.left, self.right = left, right\n",
    "        super().__init__(*objects)\n",
    "\n",
    "    def __lshift__(self, other):\n",
    "        return Over(self, other)\n",
    "\n",
    "    def __rshift__(self, other):\n",
    "        return Under(self, other)\n",
    "\n",
    "    def __matmul__(self, other):\n",
    "        return Ty(*(self.tensor(other)))\n",
    "\n",
    "\n",
    "class Over(Ty):\n",
    "    \"\"\" Forward slash types. \"\"\"\n",
    "    def __init__(self, left=None, right=None):\n",
    "        Ty.__init__(self, self, left=left, right=right)\n",
    "\n",
    "    def __repr__(self):\n",
    "        return \"Over({}, {})\".format(repr(self.left), repr(self.right))\n",
    "\n",
    "    def __str__(self):\n",
    "        return \"({} << {})\".format(self.left, self.right)\n",
    "\n",
    "    def __eq__(self, other):\n",
    "        if not isinstance(other, Over):\n",
    "            return False\n",
    "        return self.left == other.left and self.right == other.right\n",
    "\n",
    "\n",
    "class Under(Ty):\n",
    "    \"\"\" Backward slash types. \"\"\"\n",
    "    def __init__(self, left=None, right=None):\n",
    "        Ty.__init__(self, self, left=left, right=right)\n",
    "\n",
    "    def __repr__(self):\n",
    "        return \"Under({}, {})\".format(repr(self.left), repr(self.right))\n",
    "\n",
    "    def __str__(self):\n",
    "        return \"({} >> {})\".format(self.left, self.right)\n",
    "\n",
    "    def __eq__(self, other):\n",
    "        if not isinstance(other, Under):\n",
    "            return False\n",
    "        return self.left == other.left and self.right == other.right"
   ]
  },
  {
   "cell_type": "code",
   "execution_count": 2,
   "metadata": {},
   "outputs": [
    {
     "data": {
      "text/plain": [
       "Ty(Under(Ty('x0'), Ty('m', 'y0')), Under(Ty('m', 'x1'), Ty('y1')))"
      ]
     },
     "execution_count": 2,
     "metadata": {},
     "output_type": "execute_result"
    }
   ],
   "source": [
    "x = Ty('x')\n",
    "assert x >> x << x == Over(Under(Ty('x'), Ty('x')), Ty('x'))\n",
    "assert x >> (x << x) == Under(Ty('x'), Over(Ty('x'), Ty('x')))\n",
    "x0, x1, y0, y1, m = Ty('x0'), Ty('x1'), Ty('y0'), Ty('y1'), Ty('m')\n",
    "lens = (x0 >> m @ y0) @ ( m @ x1 >> y1)\n",
    "lens"
   ]
  },
  {
   "cell_type": "markdown",
   "metadata": {},
   "source": [
    "## Interface with operad.Tree"
   ]
  },
  {
   "cell_type": "code",
   "execution_count": 6,
   "metadata": {},
   "outputs": [
    {
     "data": {
      "image/png": "[encoded data removed]",
      "text/plain": [
       "<Figure size 432x288 with 1 Axes>"
      ]
     },
     "metadata": {},
     "output_type": "display_data"
    },
    {
     "data": {
      "image/png": "[encoded data removed]",
      "text/plain": [
       "<Figure size 432x288 with 1 Axes>"
      ]
     },
     "metadata": {},
     "output_type": "display_data"
    }
   ],
   "source": [
    "from discopy.operad import Box, Ob, tree2diagram\n",
    "\n",
    "star = Ob('*')\n",
    "UNDER = Box('Under', star, [star, star])\n",
    "OVER = Box('Over', star, [star, star])\n",
    "TY = lambda n: Box('Ty', star, n * [star])\n",
    "\n",
    "def to_tree(ty):\n",
    "    if isinstance(ty, Over):\n",
    "        return OVER(to_tree(ty.left), to_tree(ty.right))\n",
    "    if isinstance(ty, Under):\n",
    "        return UNDER(to_tree(ty.left), to_tree(ty.right))\n",
    "    if isinstance(ty, Ty):\n",
    "        n = len(ty.objects)\n",
    "        return TY(n)(*map(to_tree, ty.objects))\n",
    "    if isinstance(ty, Ob):\n",
    "        return Box(ty.name, star, [])\n",
    "    raise NotImplementedError()\n",
    "\n",
    "tree2diagram(to_tree(x >> x << x)).draw()\n",
    "tree2diagram(to_tree(lens)).draw()"
   ]
  },
  {
   "cell_type": "code",
   "execution_count": null,
   "metadata": {},
   "outputs": [],
   "source": []
  }
 ],
 "metadata": {
  "kernelspec": {
   "display_name": "Python 3",
   "language": "python",
   "name": "python3"
  },
  "language_info": {
   "codemirror_mode": {
    "name": "ipython",
    "version": 3
   },
   "file_extension": ".py",
   "mimetype": "text/x-python",
   "name": "python",
   "nbconvert_exporter": "python",
   "pygments_lexer": "ipython3",
   "version": "3.7.4"
  }
 },
 "nbformat": 4,
 "nbformat_minor": 2
}
