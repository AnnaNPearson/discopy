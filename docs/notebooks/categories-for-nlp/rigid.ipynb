{
 "cells": [
  {
   "cell_type": "markdown",
   "metadata": {},
   "source": [
    "# Dependency = Pregroup $\\cap$ CFG"
   ]
  },
  {
   "cell_type": "markdown",
   "metadata": {},
   "source": [
    "Recall the definitions of currying and uncurrying for rigid diagrams"
   ]
  },
  {
   "cell_type": "code",
   "execution_count": 1,
   "metadata": {},
   "outputs": [],
   "source": [
    "from discopy.rigid import Id, Ty, Box, Diagram\n",
    "\n",
    "def curry(diagram, n_wires=1, left=False):\n",
    "    if not n_wires > 0:\n",
    "        return diagram\n",
    "    if left:\n",
    "        wires = diagram.dom[:n_wires]\n",
    "        return Diagram.caps(wires.r, wires) @ Id(diagram.dom[n_wires:])\\\n",
    "            >> Id(wires.r) @ diagram\n",
    "    wires = diagram.dom[-n_wires:]\n",
    "    return Id(diagram.dom[:-n_wires]) @ Diagram.caps(wires, wires.l)\\\n",
    "        >> diagram @ Id(wires.l)\n",
    "\n",
    "def uncurry(diagram, n_wires=1, left=False):\n",
    "    if not n_wires > 0:\n",
    "        return diagram\n",
    "    if left:\n",
    "        wires = diagram.cod[:n_wires]\n",
    "        return Id(wires.l) @ diagram\\\n",
    "            >> Diagram.cups(wires.l, wires) @ Id(diagram.cod[n_wires:])\n",
    "    wires = diagram.cod[-n_wires:]\n",
    "    return diagram @ Id(wires.r)\\\n",
    "        >> Id(diagram.cod[:-n_wires]) @ Diagram.cups(wires, wires.r)"
   ]
  },
  {
   "cell_type": "markdown",
   "metadata": {},
   "source": [
    "## Interface SpaCy with rigid.Diagram"
   ]
  },
  {
   "cell_type": "code",
   "execution_count": 2,
   "metadata": {},
   "outputs": [],
   "source": [
    "import spacy\n",
    "nlp = spacy.load(\"en_core_web_sm\")\n",
    "doc = nlp(\"A pair of starcrossed lovers take their life\")\n",
    "doc2 = nlp(\"whose misadventured piteous overthows doth with their death bury their parents' strife.\")"
   ]
  },
  {
   "cell_type": "code",
   "execution_count": 3,
   "metadata": {},
   "outputs": [],
   "source": [
    "def doc2rigid(word):\n",
    "    children = word.children\n",
    "    if not children:\n",
    "        return Box(word.text, Ty(word.dep_), Ty())\n",
    "    left = Ty(*[child.dep_ for child in word.lefts])\n",
    "    right = Ty(*[child.dep_ for child in word.rights])\n",
    "    box = Box(word.text, left.l @ Ty(word.dep_) @ right.r, Ty(), data=[left, Ty(word.dep_), right])\n",
    "    top = curry(curry(box, n_wires=len(left), left=True), n_wires=len(right))\n",
    "    bot = Id(Ty()).tensor(*[doc2rigid(child) for child in children])\n",
    "    return top >> bot\n",
    "\n",
    "def dep2pregroup(doc):\n",
    "    root = find_root(doc)\n",
    "    return doc2rigid(root)\n",
    "\n",
    "def find_root(doc):\n",
    "    for word in doc:\n",
    "        if word.dep_ == 'ROOT':\n",
    "            return word"
   ]
  },
  {
   "cell_type": "code",
   "execution_count": 4,
   "metadata": {},
   "outputs": [
    {
     "data": {
      "image/png": "[encoded data removed]",
      "text/plain": [
       "<Figure size 792x576 with 1 Axes>"
      ]
     },
     "metadata": {
      "needs_background": "light"
     },
     "output_type": "display_data"
    }
   ],
   "source": [
    "dep2pregroup(doc).normal_form(left=True).draw(figsize=(11, 8))"
   ]
  },
  {
   "cell_type": "markdown",
   "metadata": {},
   "source": [
    "## Interface SpaCy with operad.Tree"
   ]
  },
  {
   "cell_type": "code",
   "execution_count": 5,
   "metadata": {},
   "outputs": [],
   "source": [
    "from discopy.operad import from_spacy"
   ]
  },
  {
   "cell_type": "code",
   "execution_count": 6,
   "metadata": {
    "scrolled": true
   },
   "outputs": [
    {
     "ename": "NameError",
     "evalue": "name 'operad' is not defined",
     "output_type": "error",
     "traceback": [
      "\u001b[0;31m---------------------------------------------------------------------------\u001b[0m",
      "\u001b[0;31mNameError\u001b[0m                                 Traceback (most recent call last)",
      "\u001b[0;32m<ipython-input-6-7cc40a0c2228>\u001b[0m in \u001b[0;36m<module>\u001b[0;34m\u001b[0m\n\u001b[0;32m----> 1\u001b[0;31m \u001b[0moperad\u001b[0m\u001b[0;34m.\u001b[0m\u001b[0mtree2diagram\u001b[0m\u001b[0;34m(\u001b[0m\u001b[0mfrom_spacy\u001b[0m\u001b[0;34m(\u001b[0m\u001b[0mdoc\u001b[0m\u001b[0;34m)\u001b[0m\u001b[0;34m)\u001b[0m\u001b[0;34m.\u001b[0m\u001b[0mdraw\u001b[0m\u001b[0;34m(\u001b[0m\u001b[0;34m)\u001b[0m\u001b[0;34m\u001b[0m\u001b[0;34m\u001b[0m\u001b[0m\n\u001b[0m",
      "\u001b[0;31mNameError\u001b[0m: name 'operad' is not defined"
     ]
    }
   ],
   "source": [
    "operad.tree2diagram(from_spacy(doc)).draw()"
   ]
  },
  {
   "cell_type": "code",
   "execution_count": null,
   "metadata": {},
   "outputs": [],
   "source": [
    "operad.tree2diagram(from_spacy(doc2)).draw()"
   ]
  },
  {
   "cell_type": "markdown",
   "metadata": {},
   "source": [
    "## Equivalence"
   ]
  },
  {
   "cell_type": "code",
   "execution_count": null,
   "metadata": {},
   "outputs": [],
   "source": [
    "from discopy import rigid\n",
    "\n",
    "def rewiring(box):\n",
    "    if not box.data:\n",
    "        return rigid.Box(box.name, box.dom, Ty())\n",
    "    left, middle, right = box.data[0], box.data[1], box.data[2]\n",
    "    new_box = rigid.Box(box.name, middle, left @ right) \n",
    "    return uncurry(uncurry(new_box, len(left), left=True), len(right))\n",
    "\n",
    "F = rigid.Functor(ob=lambda ob: Ty(ob.name), ar=rewiring)\n",
    "F(dep2pregroup(doc)).normal_form().draw()"
   ]
  },
  {
   "cell_type": "code",
   "execution_count": null,
   "metadata": {},
   "outputs": [],
   "source": [
    "assert repr(operad.tree2diagram(from_spacy(doc))) == repr(F(dep2pregroup(doc)).normal_form())"
   ]
  },
  {
   "cell_type": "markdown",
   "metadata": {},
   "source": [
    "### Towards coreference"
   ]
  },
  {
   "cell_type": "code",
   "execution_count": null,
   "metadata": {},
   "outputs": [],
   "source": [
    "dep2pregroup(doc).normal_form(left=True).draw(figsize=(11, 8))"
   ]
  },
  {
   "cell_type": "code",
   "execution_count": null,
   "metadata": {},
   "outputs": [],
   "source": [
    "doc2.ents"
   ]
  },
  {
   "cell_type": "code",
   "execution_count": null,
   "metadata": {},
   "outputs": [],
   "source": []
  }
 ],
 "metadata": {
  "kernelspec": {
   "display_name": "Python 3",
   "language": "python",
   "name": "python3"
  },
  "language_info": {
   "codemirror_mode": {
    "name": "ipython",
    "version": 3
   },
   "file_extension": ".py",
   "mimetype": "text/x-python",
   "name": "python",
   "nbconvert_exporter": "python",
   "pygments_lexer": "ipython3",
   "version": "3.7.4"
  }
 },
 "nbformat": 4,
 "nbformat_minor": 2
}
